{
 "cells": [
  {
   "cell_type": "markdown",
   "metadata": {},
   "source": [
    "# https://www.tensorflow.org/get_started/mnist/beginners\n",
    "\n",
    "# MNIST For ML Beginners\n",
    "\n",
    "When one learns how to program, there's a tradition that the first thing you do is print \"Hello World.\"\n",
    "Just like programming has Hello World, machine learning has MNIST.\n",
    "\n",
    "MNIST is a simple computer vision dataset.\n",
    "It consists of images of handwritten digits like these:\n",
    "\n",
    "![MNIST](MNIST.png)\n",
    "\n",
    "It also includes labels for each image, telling us which digit it is.\n",
    "For example, the labels for the above images are 5, 0, 4, and 1.\n",
    "\n",
    "In this tutorial, we're going to train a model to look at images and predict what digits they are.\n",
    "Our goal isn't to train a really elaborate model that achieves state-of-the-art performance -- although we'll give you code to do that later! -- but rather to dip a toe into using TensorFlow.\n",
    "As such, we're going to start with a very simple model, called a Softmax Regression.\n",
    "\n",
    "The actual code for this tutorial is very short, and all the interesting stuff happens in just three lines.\n",
    "However, it is very important to understand the ideas behind it: both how TensorFlow works and the core machine learning concepts.\n",
    "Because of this, we are going to very carefully work through the code."
   ]
  },
  {
   "cell_type": "markdown",
   "metadata": {},
   "source": [
    "## About this tutorial\n",
    "\n",
    "What we will accomplish in this tutorial:\n",
    "\n",
    "- Learn about the MNIST data and softmax regressions\n",
    "- Create a function that is a model for recognizing digits, based on looking at every pixel in the image\n",
    "- Use TensorFlow to train the model to recognize digits by having it \"look\" at thousands of examples (and run our first TensorFlow session to do so)\n",
    "- Check the model's accuracy with our test data"
   ]
  },
  {
   "cell_type": "markdown",
   "metadata": {},
   "source": [
    "## The MNIST Data\n",
    "\n",
    "The MNIST data is hosted on Yann LeCun's website.\n",
    "If you are copying and pasting in the code from this tutorial, start here with these two lines of code which will download and read in the data automatically:"
   ]
  },
  {
   "cell_type": "code",
   "execution_count": 1,
   "metadata": {},
   "outputs": [
    {
     "name": "stdout",
     "output_type": "stream",
     "text": [
      "Extracting ../data/MNIST_data/train-images-idx3-ubyte.gz\n",
      "Extracting ../data/MNIST_data/train-labels-idx1-ubyte.gz\n",
      "Extracting ../data/MNIST_data/t10k-images-idx3-ubyte.gz\n",
      "Extracting ../data/MNIST_data/t10k-labels-idx1-ubyte.gz\n"
     ]
    }
   ],
   "source": [
    "from tensorflow.examples.tutorials.mnist import input_data\n",
    "mnist = input_data.read_data_sets(\"../data/MNIST_data/\", one_hot=True)"
   ]
  },
  {
   "cell_type": "markdown",
   "metadata": {},
   "source": [
    "The MNIST data is split into three parts: 55,000 data points of training data (mnist.train), 10,000 points of test data (mnist.test), and 5,000 points of validation data (mnist.validation).\n",
    "This split is very important: it's essential in machine learning that we have separate data which we don't learn from so that we can make sure that what we've learned actually generalizes!\n",
    "\n",
    "As mentioned earlier, every MNIST data point has two parts: an image of a handwritten digit and a corresponding label.\n",
    "We'll call the images \"x\" and the labels \"y\".\n",
    "Both the training set and test set contain images and their corresponding labels; for example the training images are `mnist.train.images` and the training labels are `mnist.train.labels`.\n",
    "\n",
    "Each image is 28 pixels by 28 pixels.\n",
    "We can interpret this as a big array of numbers:\n",
    "\n",
    "![MNIST-Matrix](MNIST-Matrix.png)\n",
    "\n",
    "We can flatten this array into a vector of 28x28 = 784 numbers.\n",
    "It doesn't matter how we flatten the array, as long as we're consistent between images.\n",
    "From this perspective, the MNIST images are just a bunch of points in a 784-dimensional vector space, with a very rich structure (warning: computationally intensive visualizations).\n",
    "\n",
    "Flattening the data throws away information about the 2D structure of the image.\n",
    "Isn't that bad? Well, the best computer vision methods do exploit this structure, and we will in later tutorials.\n",
    "But the simple method we will be using here, a softmax regression (defined below), won't.\n",
    "\n",
    "The result is that `mnist.train.images` is a tensor (an n-dimensional array) with a shape of [55000, 784].\n",
    "The first dimension is an index into the list of images and the second dimension is the index for each pixel in each image.\n",
    "Each entry in the tensor is a pixel intensity between 0 and 1, for a particular pixel in a particular image.\n",
    "\n",
    "![mnist-train-xs](mnist-train-xs.png)\n",
    "\n",
    "Each image in MNIST has a corresponding label, a number between 0 and 9 representing the digit drawn in the image.\n",
    "\n",
    "For the purposes of this tutorial, we're going to want our labels as \"one-hot vectors\".\n",
    "A one-hot vector is a vector which is 0 in most dimensions, and 1 in a single dimension.\n",
    "In this case, the nth digit will be represented as a vector which is 1 in the nth dimension.\n",
    "For example, 3 would be [0,0,0,1,0,0,0,0,0,0].\n",
    "Consequently, `mnist.train.labels` is a [55000, 10] array of floats.\n",
    "\n",
    "![mnist-train-ys](mnist-train-ys.png)\n",
    "\n",
    "We're now ready to actually make our model!"
   ]
  },
  {
   "cell_type": "markdown",
   "metadata": {},
   "source": [
    "## Softmax Regressions\n",
    "\n",
    "We know that every image in MNIST is of a handwritten digit between zero and nine.\n",
    "So there are only ten possible things that a given image can be.\n",
    "We want to be able to look at an image and give the probabilities for it being each digit.\n",
    "For example, our model might look at a picture of a nine and be 80% sure it's a nine, but give a 5% chance to it being an eight (because of the top loop) and a bit of probability to all the others because it isn't 100% sure.\n",
    "\n",
    "This is a classic case where a softmax regression is a natural, simple model.\n",
    "If you want to assign probabilities to an object being one of several different things, softmax is the thing to do, because <u>softmax gives us a list of values between 0 and 1 that add up to 1.</u>\n",
    "Even later on, when we train more sophisticated models, the final step will be a layer of softmax.\n",
    "\n",
    "A softmax regression has two steps: first we add up the evidence of our input being in certain classes, and then we convert that evidence into probabilities.\n",
    "\n",
    "To tally up the evidence that a given image is in a particular class, we do a weighted sum of the pixel intensities.\n",
    "The weight is negative if that pixel having a high intensity is evidence against the image being in that class, and positive if it is evidence in favor.\n",
    "\n",
    "The following diagram shows the weights one model learned for each of these classes.\n",
    "Red represents negative weights, while blue represents positive weights.\n",
    "\n",
    "![softmax-weights](softmax-weights.png)\n",
    "\n",
    "We also add some extra evidence called a bias.\n",
    "Basically, we want to be able to say that some things are more likely independent of the input.\n",
    "The result is that the evidence for a class i given an input x is:\n",
    "\n",
    "evidencei=∑j Wi,j xj + bi\n",
    "\n",
    "where Wi is the weights and bi is the bias for class i, and j is an index for summing over the pixels in our input image x.\n",
    "We then convert the evidence tallies into our predicted probabilities y using the \"softmax\" function:\n",
    "\n",
    "y=softmax(evidence)\n",
    "\n",
    "Here softmax is serving as an \"activation\" or \"link\" function, shaping the output of our linear function into the form we want -- in this case, a probability distribution over 10 cases.\n",
    "You can think of it as converting tallies of evidence into probabilities of our input being in each class.\n",
    "It's defined as:\n",
    "\n",
    "softmax(evidence)=normalize(exp⁡(evidence))\n",
    "\n",
    "If you expand that equation out, you get:\n",
    "\n",
    "softmax(evidence)i=exp⁡(evidencei)/∑jexp⁡(evidencej)\n",
    "\n",
    "But it's often more helpful to think of softmax the first way: exponentiating its inputs and then normalizing them.\n",
    "The exponentiation means that one more unit of evidence increases the weight given to any hypothesis multiplicatively.\n",
    "And conversely, having one less unit of evidence means that a hypothesis gets a fraction of its earlier weight.\n",
    "No hypothesis ever has zero or negative weight.\n",
    "Softmax then normalizes these weights, so that they add up to one, forming a valid probability distribution. (To get more intuition about the softmax function, check out the section on it in Michael Nielsen's book, complete with an interactive visualization.)\n",
    "\n",
    "You can picture our softmax regression as looking something like the following, although with a lot more xs.\n",
    "For each output, we compute a weighted sum of the xs, add a bias, and then apply softmax.\n",
    "\n",
    "![softmax-regression-scalargraph](softmax-regression-scalargraph.png)\n",
    "\n",
    "If we write that out as equations, we get:\n",
    "\n",
    "[y1, y2, y3] = softmax(W11*x1 + W12*x2 + W13*x3 + b1,  W21*x1 + W22*x2 + W23*x3 + b2,  W31*x1 + W32*x2 + W33*x3 + b3)\n",
    "\n",
    "We can \"vectorize\" this procedure, turning it into a matrix multiplication and vector addition.\n",
    "This is helpful for computational efficiency. (It's also a useful way to think.)\n",
    "\n",
    "[y1, y2, y3] = softmax([[W11, W12, W13], [W21, W22, W23], [W31, W32, W33]]*[x1, x2, x3] + [b1, b2, b3])\n",
    "\n",
    "More compactly, we can just write:\n",
    "\n",
    "y=softmax(Wx+b)\n",
    "\n",
    "Now let's turn that into something that TensorFlow can use."
   ]
  },
  {
   "cell_type": "markdown",
   "metadata": {},
   "source": [
    "# Implementing the Regression\n",
    "\n",
    "To do efficient numerical computing in Python, we typically use libraries like NumPy that do expensive operations such as matrix multiplication outside Python, using highly efficient code implemented in another language.\n",
    "Unfortunately, there can still be a lot of overhead from switching back to Python every operation.\n",
    "This overhead is especially bad if you want to run computations on GPUs or in a distributed manner, where there can be a high cost to transferring data.\n",
    "\n",
    "TensorFlow also does its heavy lifting outside Python, but it takes things a step further to avoid this overhead.\n",
    "<u>Instead of running a single expensive operation independently from Python, TensorFlow lets us describe a graph of interacting operations that run entirely outside Python.</u>\n",
    "(Approaches like this can be seen in a few machine learning libraries.)\n",
    "\n",
    "To use TensorFlow, first we need to import it."
   ]
  },
  {
   "cell_type": "code",
   "execution_count": 2,
   "metadata": {},
   "outputs": [],
   "source": [
    "import tensorflow as tf"
   ]
  },
  {
   "cell_type": "markdown",
   "metadata": {},
   "source": [
    "We describe these interacting operations by manipulating symbolic variables.\n",
    "Let's create one:"
   ]
  },
  {
   "cell_type": "code",
   "execution_count": 3,
   "metadata": {},
   "outputs": [],
   "source": [
    "x = tf.placeholder(tf.float32, [None, 784])"
   ]
  },
  {
   "cell_type": "markdown",
   "metadata": {},
   "source": [
    "x isn't a specific value.\n",
    "It's a placeholder, a value that we'll input when we ask TensorFlow to run a computation.\n",
    "We want to be able to input any number of MNIST images, each flattened into a 784-dimensional vector.\n",
    "We represent this as a 2-D tensor of floating-point numbers, with a shape [None, 784]. (Here None means that a dimension can be of any length.)\n",
    "\n",
    "We also need the weights and biases for our model.\n",
    "We could imagine treating these like additional inputs, but TensorFlow has an even better way to handle it: Variable.\n",
    "<u>A Variable is a modifiable tensor that lives in TensorFlow's graph of interacting operations.</u>\n",
    "It can be used and even modified by the computation.\n",
    "For machine learning applications, one generally has the model parameters be Variables."
   ]
  },
  {
   "cell_type": "code",
   "execution_count": 4,
   "metadata": {},
   "outputs": [],
   "source": [
    "W = tf.Variable(tf.zeros([784, 10]))\n",
    "b = tf.Variable(tf.zeros([10]))"
   ]
  },
  {
   "cell_type": "markdown",
   "metadata": {},
   "source": [
    "We create these Variables by giving `tf.Variable` the initial value of the Variable: in this case, we initialize both W and b as tensors full of zeros.\n",
    "Since we are going to learn W and b, it doesn't matter very much what they initially are.\n",
    "\n",
    "Notice that W has a shape of [784, 10] because we want to multiply the 784-dimensional image vectors by it to produce 10-dimensional vectors of evidence for the difference classes.\n",
    "b has a shape of [10] so we can add it to the output.\n",
    "\n",
    "We can now implement our model.\n",
    "It only takes one line to define it!"
   ]
  },
  {
   "cell_type": "code",
   "execution_count": 5,
   "metadata": {},
   "outputs": [],
   "source": [
    "y = tf.nn.softmax(tf.matmul(x, W) + b)"
   ]
  },
  {
   "cell_type": "markdown",
   "metadata": {},
   "source": [
    "First, we multiply x by W with the expression tf.matmul(x, W).\n",
    "This is flipped from when we multiplied them in our equation, where we had Wx, as a small trick to deal with x being a 2D tensor with multiple inputs.\n",
    "We then add b, and finally apply tf.nn.softmax.\n",
    "\n",
    "That's it.\n",
    "It only took us one line to define our model, after a couple short lines of setup.\n",
    "That isn't because TensorFlow is designed to make a softmax regression particularly easy: it's just a very flexible way to describe many kinds of numerical computations, from machine learning models to physics simulations.\n",
    "And once defined, our model can be run on different devices: your computer's CPU, GPUs, and even phones!"
   ]
  },
  {
   "cell_type": "markdown",
   "metadata": {},
   "source": [
    "## Training\n",
    "\n",
    "In order to train our model, we need to define what it means for the model to be good.\n",
    "Well, actually, in machine learning we typically define what it means for a model to be bad.\n",
    "We call this the cost, or the loss, and it represents how far off our model is from our desired outcome.\n",
    "We try to minimize that error, and the smaller the error margin, the better our model is.\n",
    "\n",
    "One very common, very nice function to determine the loss of a model is called \"cross-entropy.\"\n",
    "Cross-entropy arises from thinking about information compressing codes in information theory but it winds up being an important idea in lots of areas, from gambling to machine learning.\n",
    "It's defined as:\n",
    "\n",
    "Hy′(y)=−∑iyi′log⁡(yi)\n",
    "\n",
    "Where y is our predicted probability distribution, and y′ is the true distribution (the one-hot vector with the digit labels).\n",
    "In some rough sense, the cross-entropy is measuring how inefficient our predictions are for describing the truth.\n",
    "Going into more detail about cross-entropy is beyond the scope of this tutorial, but it's well worth understanding.\n",
    "\n",
    "To implement cross-entropy we need to first add a new placeholder to input the correct answers:"
   ]
  },
  {
   "cell_type": "code",
   "execution_count": 6,
   "metadata": {},
   "outputs": [],
   "source": [
    "y_ = tf.placeholder(tf.float32, [None, 10])"
   ]
  },
  {
   "cell_type": "markdown",
   "metadata": {},
   "source": [
    "Then we can implement the cross-entropy function, −∑y′log⁡(y):"
   ]
  },
  {
   "cell_type": "code",
   "execution_count": 7,
   "metadata": {},
   "outputs": [],
   "source": [
    "cross_entropy = tf.reduce_mean(-tf.reduce_sum(y_ * tf.log(y), reduction_indices=[1]))"
   ]
  },
  {
   "cell_type": "markdown",
   "metadata": {},
   "source": [
    "First, tf.log computes the logarithm of each element of y.\n",
    "Next, we multiply each element of y_ with the corresponding element of tf.log(y).\n",
    "Then tf.reduce_sum adds the elements in the second dimension of y, due to the reduction_indices=[1] parameter.\n",
    "Finally, tf.reduce_mean computes the mean over all the examples in the batch.\n",
    "\n",
    "Note that in the source code, we don't use this formulation, because it is numerically unstable.\n",
    "Instead, we apply `tf.nn.softmax_cross_entropy_with_logits` on the unnormalized logits (e.g., we call `softmax_cross_entropy_with_logits` on `tf.matmul(x, W) + b`), because this more numerically stable function internally computes the softmax activation.\n",
    "In your code, consider using `tf.nn.softmax_cross_entropy_with_logits` instead.\n",
    "\n",
    "Now that we know what we want our model to do, it's very easy to have TensorFlow train it to do so.\n",
    "<u>Because TensorFlow knows the entire graph of your computations, it can automatically use the backpropagation algorithm to efficiently determine how your variables affect the loss you ask it to minimize.</u>\n",
    "Then it can apply your choice of optimization algorithm to modify the variables and reduce the loss."
   ]
  },
  {
   "cell_type": "code",
   "execution_count": 8,
   "metadata": {},
   "outputs": [],
   "source": [
    "train_step = tf.train.GradientDescentOptimizer(0.5).minimize(cross_entropy)"
   ]
  },
  {
   "cell_type": "markdown",
   "metadata": {},
   "source": [
    "In this case, we ask TensorFlow to minimize cross_entropy using the gradient descent algorithm with a learning rate of 0.5.\n",
    "<u>Gradient descent is a simple procedure, where TensorFlow simply shifts each variable a little bit in the direction that reduces the cost.</u>\n",
    "But TensorFlow also provides many other optimization algorithms: using one is as simple as tweaking one line.\n",
    "\n",
    "What TensorFlow actually does here, behind the scenes, is to add new operations to your graph which implement backpropagation and gradient descent.\n",
    "Then it gives you back a single operation which, when run, does a step of gradient descent training, slightly tweaking your variables to reduce the loss.\n",
    "\n",
    "We can now launch the model in an InteractiveSession:"
   ]
  },
  {
   "cell_type": "code",
   "execution_count": 9,
   "metadata": {},
   "outputs": [],
   "source": [
    "sess = tf.InteractiveSession()"
   ]
  },
  {
   "cell_type": "markdown",
   "metadata": {},
   "source": [
    "We first have to create an operation to initialize the variables we created:"
   ]
  },
  {
   "cell_type": "code",
   "execution_count": 10,
   "metadata": {},
   "outputs": [],
   "source": [
    "tf.global_variables_initializer().run()"
   ]
  },
  {
   "cell_type": "code",
   "execution_count": 11,
   "metadata": {},
   "outputs": [],
   "source": [
    "# Let's train -- we'll run the training step 1000 times!\n",
    "\n",
    "for _ in range(1000):\n",
    "    batch_xs, batch_ys = mnist.train.next_batch(100)\n",
    "    sess.run(train_step, feed_dict={x: batch_xs, y_: batch_ys})"
   ]
  },
  {
   "cell_type": "code",
   "execution_count": 8,
   "metadata": {},
   "outputs": [
    {
     "name": "stdout",
     "output_type": "stream",
     "text": [
      "100\n",
      "784\n",
      "100\n"
     ]
    }
   ],
   "source": [
    "batch_xs, batch_ys = mnist.train.next_batch(100)\n",
    "print(len(batch_xs))\n",
    "print(len(batch_xs[0]))\n",
    "print(len(batch_ys))"
   ]
  },
  {
   "cell_type": "markdown",
   "metadata": {},
   "source": [
    "Each step of the loop, we get a \"batch\" of one hundred random data points from our training set.\n",
    "We run train_step feeding in the batches data to replace the placeholders.\n",
    "\n",
    "<u>Using small batches of random data is called stochastic training -- in this case, stochastic gradient descent</u>.\n",
    "Ideally, we'd like to use all our data for every step of training because that would give us a better sense of what we should be doing, but that's expensive.\n",
    "So, instead, we use a different subset every time.\n",
    "Doing this is cheap and has much of the same benefit."
   ]
  },
  {
   "cell_type": "markdown",
   "metadata": {},
   "source": [
    "## Evaluating Our Model\n",
    "\n",
    "How well does our model do?\n",
    "\n",
    "Well, first let's figure out where we predicted the correct label. `tf.argmax` is an extremely useful function which gives you the index of the highest entry in a tensor along some axis.\n",
    "For example, `tf.argmax(y,1)` is the label our model thinks is most likely for each input, while `tf.argmax(y_,1)` is the correct label.\n",
    "We can use tf.equal to check if our prediction matches the truth."
   ]
  },
  {
   "cell_type": "code",
   "execution_count": 12,
   "metadata": {},
   "outputs": [],
   "source": [
    "correct_prediction = tf.equal(tf.argmax(y,1), tf.argmax(y_,1))"
   ]
  },
  {
   "cell_type": "markdown",
   "metadata": {},
   "source": [
    "That gives us a list of booleans.\n",
    "To determine what fraction are correct, we cast to floating point numbers and then take the mean.\n",
    "For example, [True, False, True, True] would become [1,0,1,1] which would become 0.75."
   ]
  },
  {
   "cell_type": "code",
   "execution_count": 13,
   "metadata": {},
   "outputs": [],
   "source": [
    "accuracy = tf.reduce_mean(tf.cast(correct_prediction, tf.float32))"
   ]
  },
  {
   "cell_type": "code",
   "execution_count": 14,
   "metadata": {},
   "outputs": [
    {
     "name": "stdout",
     "output_type": "stream",
     "text": [
      "0.9142\n"
     ]
    }
   ],
   "source": [
    "# Finally, we ask for our accuracy on our test data.\n",
    "\n",
    "print(sess.run(accuracy, feed_dict={x: mnist.test.images, y_: mnist.test.labels}))"
   ]
  },
  {
   "cell_type": "markdown",
   "metadata": {},
   "source": [
    "This should be about 92%.\n",
    "\n",
    "Is that good? Well, not really. In fact, it's pretty bad.\n",
    "This is because we're using a very simple model.\n",
    "With some small changes, we can get to 97%.\n",
    "The best models can get to over 99.7% accuracy! (For more information, have a look at this list of results.)\n",
    "\n",
    "What matters is that we learned from this model.\n",
    "Still, if you're feeling a bit down about these results, check out the next tutorial where we do a lot better, and learn how to build more sophisticated models using TensorFlow!"
   ]
  },
  {
   "cell_type": "code",
   "execution_count": null,
   "metadata": {},
   "outputs": [],
   "source": []
  }
 ],
 "metadata": {
  "anaconda-cloud": {},
  "kernelspec": {
   "display_name": "Python 3",
   "language": "python",
   "name": "python3"
  },
  "language_info": {
   "codemirror_mode": {
    "name": "ipython",
    "version": 3
   },
   "file_extension": ".py",
   "mimetype": "text/x-python",
   "name": "python",
   "nbconvert_exporter": "python",
   "pygments_lexer": "ipython3",
   "version": "3.5.4"
  }
 },
 "nbformat": 4,
 "nbformat_minor": 1
}
