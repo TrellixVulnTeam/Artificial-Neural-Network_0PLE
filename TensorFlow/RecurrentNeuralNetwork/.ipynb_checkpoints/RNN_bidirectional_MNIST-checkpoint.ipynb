{
 "cells": [
  {
   "cell_type": "markdown",
   "metadata": {
    "collapsed": true
   },
   "source": [
    "# Bi-directional Recurrent Neural Network Example\n",
    "\n",
    "Build a bi-directional recurrent neural network (LSTM) with TensorFlow.\n",
    "\n",
    "- https://github.com/aymericdamien/TensorFlow-Examples/blob/master/notebooks/3_NeuralNetworks/bidirectional_rnn.ipynb"
   ]
  },
  {
   "cell_type": "markdown",
   "metadata": {},
   "source": [
    "## BiRNN Overview\n",
    "\n",
    "<img src=\"https://ai2-s2-public.s3.amazonaws.com/figures/2016-11-08/191dd7df9cb91ac22f56ed0dfa4a5651e8767a51/1-Figure2-1.png\" alt=\"nn\" style=\"width: 600px;\"/>\n",
    "\n",
    "References:\n",
    "- [Long Short Term Memory](http://deeplearning.cs.cmu.edu/pdfs/Hochreiter97_lstm.pdf), Sepp Hochreiter & Jurgen Schmidhuber, Neural Computation 9(8): 1735-1780, 1997.\n",
    "\n",
    "## MNIST Dataset Overview\n",
    "\n",
    "This example is using MNIST handwritten digits.\n",
    "The dataset contains 60,000 examples for training and 10,000 examples for testing.\n",
    "The digits have been size-normalized and centered in a fixed-size image (28x28 pixels) with values from 0 to 1. For simplicity, each image has been flattened and converted to a 1-D numpy array of 784 features (28*28).\n",
    "\n",
    "![MNIST Dataset](http://neuralnetworksanddeeplearning.com/images/mnist_100_digits.png)\n",
    "\n",
    "<u>To classify images using a recurrent neural network, we consider every image row as a sequence of pixels.\n",
    "Because MNIST image shape is 28*28px, we will then handle 28 sequences of 28 timesteps for every sample.</u>\n",
    "\n",
    "More info: http://yann.lecun.com/exdb/mnist/"
   ]
  },
  {
   "cell_type": "raw",
   "metadata": {},
   "source": [
    "tensorboard --logdir \"rnn_bidirectional_mnist_logs\"\n",
    "http://DESKTOP-NIHBEK3:6006"
   ]
  },
  {
   "cell_type": "code",
   "execution_count": 1,
   "metadata": {},
   "outputs": [
    {
     "name": "stdout",
     "output_type": "stream",
     "text": [
      "Extracting ../data/MNIST_data/train-images-idx3-ubyte.gz\n",
      "Extracting ../data/MNIST_data/train-labels-idx1-ubyte.gz\n",
      "Extracting ../data/MNIST_data/t10k-images-idx3-ubyte.gz\n",
      "Extracting ../data/MNIST_data/t10k-labels-idx1-ubyte.gz\n"
     ]
    }
   ],
   "source": [
    "from __future__ import print_function\n",
    "\n",
    "import tensorflow as tf\n",
    "from tensorflow.contrib import rnn\n",
    "import numpy as np\n",
    "\n",
    "# Import MNIST data\n",
    "from tensorflow.examples.tutorials.mnist import input_data\n",
    "mnist = input_data.read_data_sets(\"../data/MNIST_data/\", one_hot=True)"
   ]
  },
  {
   "cell_type": "code",
   "execution_count": 2,
   "metadata": {},
   "outputs": [],
   "source": [
    "# Training Parameters\n",
    "learning_rate = 0.001\n",
    "training_steps = 10000\n",
    "batch_size = 128\n",
    "display_step = 200\n",
    "\n",
    "# Network Parameters\n",
    "num_input = 28 # MNIST data input (img shape: 28*28)\n",
    "timesteps = 28 # timesteps\n",
    "num_hidden = 128 # hidden layer num of features\n",
    "num_classes = 10 # MNIST total classes (0-9 digits)\n",
    "\n",
    "# tf Graph input\n",
    "X = tf.placeholder(\"float\", [None, timesteps, num_input])\n",
    "Y = tf.placeholder(\"float\", [None, num_classes])"
   ]
  },
  {
   "cell_type": "code",
   "execution_count": 3,
   "metadata": {},
   "outputs": [
    {
     "data": {
      "text/plain": [
       "<tf.Tensor 'biases:0' shape=() dtype=string>"
      ]
     },
     "execution_count": 3,
     "metadata": {},
     "output_type": "execute_result"
    }
   ],
   "source": [
    "# Define weights\n",
    "weights = {\n",
    "    # Hidden layer weights => 2*n_hidden because of forward + backward cells\n",
    "    'out': tf.Variable(tf.random_normal([2*num_hidden, num_classes]), name='Weights')\n",
    "}\n",
    "biases = {\n",
    "    'out': tf.Variable(tf.random_normal([num_classes]), name='Bias')\n",
    "}\n",
    "\n",
    "tf.summary.histogram(\"weights\", weights['out'])\n",
    "tf.summary.histogram(\"biases\", biases['out'])"
   ]
  },
  {
   "cell_type": "code",
   "execution_count": 4,
   "metadata": {},
   "outputs": [],
   "source": [
    "def BiRNN(x, weights, biases):\n",
    "    with tf.name_scope('Model'):\n",
    "        # Prepare data shape to match `rnn` function requirements\n",
    "        # Current data input shape: (batch_size, timesteps, n_input)\n",
    "        # Required shape: 'timesteps' tensors list of shape (batch_size, num_input)\n",
    "\n",
    "        # Unstack to get a list of 'timesteps' tensors of shape (batch_size, num_input)\n",
    "        \"\"\"\n",
    "        x will contain 28 tensors of shape 128 x 28\n",
    "        So that, 1st tensor will contain 1st row (28 pixels) of 128 images\n",
    "        2nd tensor will contain 2nd row (28 pixels) of 128 images\n",
    "        ...\n",
    "        \"\"\"\n",
    "        x = tf.unstack(x, timesteps, 1)\n",
    "\n",
    "        # Define lstm cells with tensorflow\n",
    "        # Forward direction cell\n",
    "        lstm_fw_cell = rnn.BasicLSTMCell(num_hidden, forget_bias=1.0)\n",
    "        # Backward direction cell\n",
    "        lstm_bw_cell = rnn.BasicLSTMCell(num_hidden, forget_bias=1.0)\n",
    "\n",
    "        # Get lstm cell output\n",
    "        try:\n",
    "            outputs, _, _ = rnn.static_bidirectional_rnn(lstm_fw_cell, lstm_bw_cell, x, dtype=tf.float32)\n",
    "        except Exception: # Old TensorFlow version only returns outputs not states\n",
    "            outputs = rnn.static_bidirectional_rnn(lstm_fw_cell, lstm_bw_cell, x, dtype=tf.float32)\n",
    "\n",
    "        # Linear activation, using rnn inner loop last output\n",
    "    return tf.matmul(outputs[-1], weights['out']) + biases['out']"
   ]
  },
  {
   "cell_type": "code",
   "execution_count": 5,
   "metadata": {},
   "outputs": [],
   "source": [
    "logits = BiRNN(X, weights, biases)\n",
    "prediction = tf.nn.softmax(logits)\n",
    "\n",
    "# Define loss and optimizer\n",
    "with tf.name_scope('Loss'):\n",
    "    loss_op = tf.reduce_mean(tf.nn.softmax_cross_entropy_with_logits(logits=logits, labels=Y))\n",
    "tf.summary.scalar(\"loss\", loss_op) # Create a summary to monitor loss_op tensor\n",
    "\n",
    "#optimizer = tf.train.GradientDescentOptimizer(learning_rate=learning_rate)\n",
    "optimizer = tf.train.AdamOptimizer(learning_rate=0.001, beta1=0.9, beta2=0.999, epsilon=1e-08, use_locking=False, name='Adam')\n",
    "train_op = optimizer.minimize(loss_op)\n",
    "\n",
    "# Evaluate model (with test logits, for dropout to be disabled)\n",
    "correct_pred = tf.equal(tf.argmax(prediction, 1), tf.argmax(Y, 1))\n",
    "with tf.name_scope('Accuracy'):\n",
    "    accuracy = tf.reduce_mean(tf.cast(correct_pred, tf.float32))\n",
    "tf.summary.scalar(\"accuracy\", accuracy) # Create a summary to monitor accuracy tensor\n",
    "\n",
    "# Initialize the variables (i.e. assign their default value)\n",
    "init = tf.global_variables_initializer()"
   ]
  },
  {
   "cell_type": "code",
   "execution_count": 6,
   "metadata": {},
   "outputs": [],
   "source": [
    "import shutil, os\n",
    "if os.path.exists(\"rnn_bidirectional_mnist_logs/\"):\n",
    "    shutil.rmtree(\"rnn_bidirectional_mnist_logs/\")"
   ]
  },
  {
   "cell_type": "code",
   "execution_count": 7,
   "metadata": {},
   "outputs": [
    {
     "name": "stdout",
     "output_type": "stream",
     "text": [
      "epoch 1, Minibatch Loss= 2.2000, Training Accuracy= 0.156\n",
      "epoch 200, Minibatch Loss= 0.2435, Training Accuracy= 0.898\n",
      "epoch 400, Minibatch Loss= 0.0577, Training Accuracy= 0.984\n",
      "epoch 600, Minibatch Loss= 0.1243, Training Accuracy= 0.945\n",
      "epoch 800, Minibatch Loss= 0.1429, Training Accuracy= 0.961\n",
      "epoch 1000, Minibatch Loss= 0.0563, Training Accuracy= 0.977\n",
      "epoch 1200, Minibatch Loss= 0.0197, Training Accuracy= 1.000\n",
      "epoch 1400, Minibatch Loss= 0.0674, Training Accuracy= 0.984\n",
      "epoch 1600, Minibatch Loss= 0.0372, Training Accuracy= 0.992\n",
      "epoch 1800, Minibatch Loss= 0.0736, Training Accuracy= 0.969\n",
      "epoch 2000, Minibatch Loss= 0.0198, Training Accuracy= 1.000\n",
      "epoch 2200, Minibatch Loss= 0.0313, Training Accuracy= 0.992\n",
      "epoch 2400, Minibatch Loss= 0.0320, Training Accuracy= 0.992\n",
      "epoch 2600, Minibatch Loss= 0.0174, Training Accuracy= 0.984\n",
      "epoch 2800, Minibatch Loss= 0.0344, Training Accuracy= 0.984\n",
      "epoch 3000, Minibatch Loss= 0.0379, Training Accuracy= 0.984\n",
      "epoch 3200, Minibatch Loss= 0.0073, Training Accuracy= 1.000\n",
      "epoch 3400, Minibatch Loss= 0.0032, Training Accuracy= 1.000\n",
      "epoch 3600, Minibatch Loss= 0.0153, Training Accuracy= 0.992\n",
      "epoch 3800, Minibatch Loss= 0.0796, Training Accuracy= 0.977\n",
      "epoch 4000, Minibatch Loss= 0.0690, Training Accuracy= 0.984\n",
      "epoch 4200, Minibatch Loss= 0.0201, Training Accuracy= 0.992\n",
      "epoch 4400, Minibatch Loss= 0.0359, Training Accuracy= 0.984\n",
      "epoch 4600, Minibatch Loss= 0.0362, Training Accuracy= 0.984\n",
      "epoch 4800, Minibatch Loss= 0.0073, Training Accuracy= 1.000\n",
      "epoch 5000, Minibatch Loss= 0.0089, Training Accuracy= 1.000\n",
      "epoch 5200, Minibatch Loss= 0.0006, Training Accuracy= 1.000\n",
      "epoch 5400, Minibatch Loss= 0.0068, Training Accuracy= 1.000\n",
      "epoch 5600, Minibatch Loss= 0.0029, Training Accuracy= 1.000\n",
      "epoch 5800, Minibatch Loss= 0.0009, Training Accuracy= 1.000\n",
      "epoch 6000, Minibatch Loss= 0.0234, Training Accuracy= 0.984\n",
      "epoch 6200, Minibatch Loss= 0.0014, Training Accuracy= 1.000\n",
      "epoch 6400, Minibatch Loss= 0.0084, Training Accuracy= 1.000\n",
      "epoch 6600, Minibatch Loss= 0.0298, Training Accuracy= 0.984\n",
      "epoch 6800, Minibatch Loss= 0.0222, Training Accuracy= 0.992\n",
      "epoch 7000, Minibatch Loss= 0.0307, Training Accuracy= 0.977\n",
      "epoch 7200, Minibatch Loss= 0.0009, Training Accuracy= 1.000\n",
      "epoch 7400, Minibatch Loss= 0.0030, Training Accuracy= 1.000\n",
      "epoch 7600, Minibatch Loss= 0.0039, Training Accuracy= 1.000\n",
      "epoch 7800, Minibatch Loss= 0.0064, Training Accuracy= 1.000\n",
      "epoch 8000, Minibatch Loss= 0.0200, Training Accuracy= 0.992\n",
      "epoch 8200, Minibatch Loss= 0.0005, Training Accuracy= 1.000\n",
      "epoch 8400, Minibatch Loss= 0.0033, Training Accuracy= 1.000\n",
      "epoch 8600, Minibatch Loss= 0.0047, Training Accuracy= 1.000\n",
      "epoch 8800, Minibatch Loss= 0.0056, Training Accuracy= 1.000\n",
      "epoch 9000, Minibatch Loss= 0.0017, Training Accuracy= 1.000\n",
      "epoch 9200, Minibatch Loss= 0.0060, Training Accuracy= 1.000\n",
      "epoch 9400, Minibatch Loss= 0.0071, Training Accuracy= 1.000\n",
      "epoch 9600, Minibatch Loss= 0.0021, Training Accuracy= 1.000\n",
      "epoch 9800, Minibatch Loss= 0.0009, Training Accuracy= 1.000\n",
      "epoch 10000, Minibatch Loss= 0.0058, Training Accuracy= 1.000\n",
      "Optimization Finished!\n",
      "Testing Accuracy: 1.0\n"
     ]
    }
   ],
   "source": [
    "# Start training\n",
    "with tf.Session() as sess:\n",
    "\n",
    "    # Run the initializer\n",
    "    sess.run(init)\n",
    "    \n",
    "    summary_op = tf.summary.merge_all() # Merge all summaries into a single op\n",
    "    summary_writer = tf.summary.FileWriter(\"rnn_bidirectional_mnist_logs/\", graph=tf.get_default_graph())\n",
    "    \n",
    "    saver = tf.train.Saver(max_to_keep=2)\n",
    "\n",
    "    for epoch in range(1, training_steps+1):\n",
    "        batch_x, batch_y = mnist.train.next_batch(batch_size)\n",
    "        # Reshape data to get 28 seq of 28 elements\n",
    "        batch_x = batch_x.reshape((batch_size, timesteps, num_input))\n",
    "        # Run optimization op (backprop)\n",
    "        sess.run(train_op, feed_dict={X: batch_x, Y: batch_y})\n",
    "        if epoch % display_step == 0 or epoch == 1:\n",
    "            # Calculate batch loss and accuracy\n",
    "            loss, acc = sess.run([loss_op, accuracy], feed_dict={X: batch_x,\n",
    "                                                                 Y: batch_y})\n",
    "            print(\"epoch \" + str(epoch) + \", Minibatch Loss= \" + \\\n",
    "                  \"{:.4f}\".format(loss) + \", Training Accuracy= \" + \\\n",
    "                  \"{:.3f}\".format(acc))\n",
    "            \n",
    "            # Write logs at every iteration\n",
    "            summary_str = sess.run(summary_op, feed_dict={X: batch_x, Y: batch_y})\n",
    "            summary_writer.add_summary(summary_str, epoch)\n",
    "            \n",
    "            # Save checkpoint\n",
    "            saver.save(sess, \"rnn_bidirectional_mnist_logs/model-checkpoint\", epoch)\n",
    "\n",
    "    print(\"Optimization Finished!\")\n",
    "\n",
    "    # Calculate accuracy for 128 mnist test images\n",
    "    test_len = 128\n",
    "    test_data = mnist.test.images[:test_len].reshape((-1, timesteps, num_input))\n",
    "    test_label = mnist.test.labels[:test_len]\n",
    "    print(\"Testing Accuracy:\", \\\n",
    "        sess.run(accuracy, feed_dict={X: test_data, Y: test_label}))\n"
   ]
  },
  {
   "cell_type": "code",
   "execution_count": null,
   "metadata": {},
   "outputs": [],
   "source": []
  }
 ],
 "metadata": {
  "kernelspec": {
   "display_name": "Python 3",
   "language": "python",
   "name": "python3"
  },
  "language_info": {
   "codemirror_mode": {
    "name": "ipython",
    "version": 3
   },
   "file_extension": ".py",
   "mimetype": "text/x-python",
   "name": "python",
   "nbconvert_exporter": "python",
   "pygments_lexer": "ipython3",
   "version": "3.5.4"
  }
 },
 "nbformat": 4,
 "nbformat_minor": 1
}
