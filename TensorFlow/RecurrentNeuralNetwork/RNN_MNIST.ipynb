{
 "cells": [
  {
   "cell_type": "markdown",
   "metadata": {
    "collapsed": true
   },
   "source": [
    "# Recurrent Neural Network Example\n",
    "\n",
    "Build a recurrent neural network (LSTM) with TensorFlow.\n",
    "- https://github.com/aymericdamien/TensorFlow-Examples/blob/master/notebooks/3_NeuralNetworks/recurrent_network.ipynb"
   ]
  },
  {
   "cell_type": "markdown",
   "metadata": {},
   "source": [
    "## RNN Overview\n",
    "\n",
    "![RNN-unrolled](RNN-unrolled.png)\n",
    "\n",
    "References:\n",
    "- [Long Short Term Memory](http://deeplearning.cs.cmu.edu/pdfs/Hochreiter97_lstm.pdf), Sepp Hochreiter & Jurgen Schmidhuber, Neural Computation 9(8): 1735-1780, 1997.\n",
    "\n",
    "## MNIST Dataset Overview\n",
    "\n",
    "This example is using MNIST handwritten digits.\n",
    "The dataset contains 60,000 examples for training and 10,000 examples for testing.\n",
    "The digits have been size-normalized and centered in a fixed-size image (28x28 pixels) with values from 0 to 1.\n",
    "For simplicity, each image has been flattened and converted to a 1-D numpy array of 784 features (28*28).\n",
    "\n",
    "![MNIST Dataset](mnist_100_digits.png)\n",
    "\n",
    "<u>To classify images using a recurrent neural network, we consider every image row as a sequence of pixels.\n",
    "Because MNIST image shape is 28*28px, we will then handle 28 sequences of 28 timesteps for every sample.</u>\n",
    "\n",
    "More info: http://yann.lecun.com/exdb/mnist/"
   ]
  },
  {
   "cell_type": "raw",
   "metadata": {},
   "source": [
    "tensorboard --logdir \"rnn_mnist_logs\"\n",
    "http://DESKTOP-NIHBEK3:6006"
   ]
  },
  {
   "cell_type": "code",
   "execution_count": 1,
   "metadata": {},
   "outputs": [
    {
     "name": "stdout",
     "output_type": "stream",
     "text": [
      "Extracting ../../../Datasets/MNIST_data/train-images-idx3-ubyte.gz\n",
      "Extracting ../../../Datasets/MNIST_data/train-labels-idx1-ubyte.gz\n",
      "Extracting ../../../Datasets/MNIST_data/t10k-images-idx3-ubyte.gz\n",
      "Extracting ../../../Datasets/MNIST_data/t10k-labels-idx1-ubyte.gz\n"
     ]
    }
   ],
   "source": [
    "from __future__ import print_function\n",
    "\n",
    "import tensorflow as tf\n",
    "from tensorflow.contrib import rnn\n",
    "\n",
    "# Import MNIST data\n",
    "from tensorflow.examples.tutorials.mnist import input_data\n",
    "mnist = input_data.read_data_sets(\"../../../Datasets/MNIST_data/\", one_hot=True)"
   ]
  },
  {
   "cell_type": "code",
   "execution_count": 2,
   "metadata": {
    "collapsed": true
   },
   "outputs": [],
   "source": [
    "# Training Parameters\n",
    "learning_rate = 0.001\n",
    "training_epochs = 1000\n",
    "batch_size = 128\n",
    "display_step = 200\n",
    "\n",
    "# Network Parameters\n",
    "num_input = 28 # MNIST data input (img shape: 28*28)\n",
    "timesteps = 28 # timesteps\n",
    "num_hidden = 128 # hidden layer num of features\n",
    "num_classes = 10 # MNIST total classes (0-9 digits)\n",
    "\n",
    "# tf Graph input\n",
    "X = tf.placeholder(\"float\", [None, timesteps, num_input], name='InputData')\n",
    "Y = tf.placeholder(\"float\", [None, num_classes], name='LabelData')"
   ]
  },
  {
   "cell_type": "code",
   "execution_count": 3,
   "metadata": {},
   "outputs": [
    {
     "data": {
      "text/plain": [
       "<tf.Tensor 'biases:0' shape=() dtype=string>"
      ]
     },
     "execution_count": 3,
     "metadata": {},
     "output_type": "execute_result"
    }
   ],
   "source": [
    "# Define weights\n",
    "weights = {\n",
    "    'out': tf.Variable(tf.random_normal([num_hidden, num_classes]), name='Weights')\n",
    "}\n",
    "biases = {\n",
    "    'out': tf.Variable(tf.random_normal([num_classes]), name='Bias')\n",
    "}\n",
    "\n",
    "tf.summary.histogram(\"weights\", weights['out'])\n",
    "tf.summary.histogram(\"biases\", biases['out'])"
   ]
  },
  {
   "cell_type": "code",
   "execution_count": 4,
   "metadata": {},
   "outputs": [
    {
     "name": "stdout",
     "output_type": "stream",
     "text": [
      "<tf.Variable 'Weights:0' shape=(128, 10) dtype=float32_ref>\n",
      "<tf.Variable 'Bias:0' shape=(10,) dtype=float32_ref>\n"
     ]
    }
   ],
   "source": [
    "sess = tf.Session()\n",
    "#print(sess.run(tf.random_normal([num_hidden, num_classes])))\n",
    "#print(sess.run(tf.random_normal([num_classes])))\n",
    "print(weights['out'])\n",
    "print(biases['out'])"
   ]
  },
  {
   "cell_type": "code",
   "execution_count": 5,
   "metadata": {
    "collapsed": true
   },
   "outputs": [],
   "source": [
    "def RNN(x, weights, biases):\n",
    "    with tf.name_scope('Model'):\n",
    "        # Prepare data shape to match `rnn` function requirements\n",
    "        # Current data input shape: (batch_size, timesteps, n_input)\n",
    "        # Required shape: 'timesteps' tensors list of shape (batch_size, n_input)\n",
    "\n",
    "        # Unstack to get a list of 'timesteps' tensors of shape (batch_size, n_input)\n",
    "        \"\"\"\n",
    "        x will contain 28 tensors of shape 128 x 28\n",
    "        So that, 1st tensor will contain 1st row (28 pixels) of 128 images\n",
    "        2nd tensor will contain 2nd row (28 pixels) of 128 images\n",
    "        ...\n",
    "        \"\"\"\n",
    "        x = tf.unstack(x, timesteps, 1)\n",
    "\n",
    "        # Define a lstm cell with tensorflow\n",
    "        \"\"\"\n",
    "        https://www.tensorflow.org/api_docs/python/tf/contrib/rnn/BasicLSTMCell\n",
    "        BasicLSTMCell(num_units, forget_bias=1.0, state_is_tuple=True, activation=None, reuse=None)\n",
    "        The value of \"num_units\" is it up to you, too high a value may lead to overfitting\n",
    "        or a very low value may yield extremely poor results.\n",
    "        But, the shape of \"outputs\" depends on \"num_units\"\n",
    "        So, define the shape of \"weights\" accourdingly because \"outputs[-1]\" and \"weights\" will be multiplied\n",
    "        \"\"\"\n",
    "        lstm_cell = rnn.BasicLSTMCell(num_hidden, forget_bias=1.0)\n",
    "\n",
    "        # Get lstm cell output\n",
    "        \"\"\"\n",
    "        https://www.tensorflow.org/api_docs/python/tf/nn/static_rnn\n",
    "        static_rnn(cell, inputs, initial_state=None, dtype=None, sequence_length=None, scope=None)\n",
    "        inputs: A length T list of inputs, each a Tensor of shape [batch_size, input_size], or a nested tuple of such elements.\n",
    "        \"\"\"\n",
    "        outputs, states = rnn.static_rnn(lstm_cell, x, dtype=tf.float32)\n",
    "\n",
    "        # Linear activation, using rnn inner loop last output\n",
    "        \"\"\"\n",
    "        Last tensor: outputs[-1]\n",
    "        \"\"\"\n",
    "        print(\"x[-1]: \", x[-1])\n",
    "        print(\"outputs: \", outputs)\n",
    "        print(\"outputs[-1]: \", outputs[-1])\n",
    "        print(\"tf.matmul(outputs[-1], weights['out']) + biases['out']: \", tf.matmul(outputs[-1], weights['out']) + biases['out'])\n",
    "    return tf.matmul(outputs[-1], weights['out']) + biases['out']"
   ]
  },
  {
   "cell_type": "code",
   "execution_count": 6,
   "metadata": {},
   "outputs": [
    {
     "name": "stdout",
     "output_type": "stream",
     "text": [
      "batch_x:  [[0. 0. 0. ... 0. 0. 0.]\n",
      " [0. 0. 0. ... 0. 0. 0.]\n",
      " [0. 0. 0. ... 0. 0. 0.]\n",
      " ...\n",
      " [0. 0. 0. ... 0. 0. 0.]\n",
      " [0. 0. 0. ... 0. 0. 0.]\n",
      " [0. 0. 0. ... 0. 0. 0.]]\n",
      "(128, 784)\n",
      "batch_x:  [0. 0. 0. 0. 0. 0. 0. 0. 0. 0. 0. 0. 0. 0. 0. 0. 0. 0. 0. 0. 0. 0. 0. 0.\n",
      " 0. 0. 0. 0.]\n",
      "(128, 28, 28)\n",
      "x:  [<tf.Tensor 'unstack:0' shape=(128, 28) dtype=float32>, <tf.Tensor 'unstack:1' shape=(128, 28) dtype=float32>, <tf.Tensor 'unstack:2' shape=(128, 28) dtype=float32>, <tf.Tensor 'unstack:3' shape=(128, 28) dtype=float32>, <tf.Tensor 'unstack:4' shape=(128, 28) dtype=float32>, <tf.Tensor 'unstack:5' shape=(128, 28) dtype=float32>, <tf.Tensor 'unstack:6' shape=(128, 28) dtype=float32>, <tf.Tensor 'unstack:7' shape=(128, 28) dtype=float32>, <tf.Tensor 'unstack:8' shape=(128, 28) dtype=float32>, <tf.Tensor 'unstack:9' shape=(128, 28) dtype=float32>, <tf.Tensor 'unstack:10' shape=(128, 28) dtype=float32>, <tf.Tensor 'unstack:11' shape=(128, 28) dtype=float32>, <tf.Tensor 'unstack:12' shape=(128, 28) dtype=float32>, <tf.Tensor 'unstack:13' shape=(128, 28) dtype=float32>, <tf.Tensor 'unstack:14' shape=(128, 28) dtype=float32>, <tf.Tensor 'unstack:15' shape=(128, 28) dtype=float32>, <tf.Tensor 'unstack:16' shape=(128, 28) dtype=float32>, <tf.Tensor 'unstack:17' shape=(128, 28) dtype=float32>, <tf.Tensor 'unstack:18' shape=(128, 28) dtype=float32>, <tf.Tensor 'unstack:19' shape=(128, 28) dtype=float32>, <tf.Tensor 'unstack:20' shape=(128, 28) dtype=float32>, <tf.Tensor 'unstack:21' shape=(128, 28) dtype=float32>, <tf.Tensor 'unstack:22' shape=(128, 28) dtype=float32>, <tf.Tensor 'unstack:23' shape=(128, 28) dtype=float32>, <tf.Tensor 'unstack:24' shape=(128, 28) dtype=float32>, <tf.Tensor 'unstack:25' shape=(128, 28) dtype=float32>, <tf.Tensor 'unstack:26' shape=(128, 28) dtype=float32>, <tf.Tensor 'unstack:27' shape=(128, 28) dtype=float32>]\n",
      "x[-1]:  Tensor(\"unstack:27\", shape=(128, 28), dtype=float32)\n"
     ]
    }
   ],
   "source": [
    "batch_x, batch_y = mnist.train.next_batch(batch_size)\n",
    "print(\"batch_x: \", batch_x)\n",
    "print(batch_x.shape)\n",
    "# Reshape data to get 28 seq of 28 elements\n",
    "batch_x = batch_x.reshape((batch_size, timesteps, num_input)) # 128, 28, 28\n",
    "print(\"batch_x: \", batch_x[0][0])\n",
    "print(batch_x.shape)\n",
    "# Unstack to get a list of 'timesteps' tensors of shape (batch_size, n_input)\n",
    "x = tf.unstack(batch_x, timesteps, 1) # 128, 28\n",
    "print(\"x: \", x)\n",
    "print(\"x[-1]: \", x[-1])\n",
    "#print(sess.run(x))\n",
    "lstm_cell = rnn.BasicLSTMCell(num_hidden, forget_bias=1.0)\n",
    "outputs, states = rnn.static_rnn(lstm_cell, x, dtype=tf.float32)\n"
   ]
  },
  {
   "cell_type": "code",
   "execution_count": 7,
   "metadata": {},
   "outputs": [
    {
     "name": "stdout",
     "output_type": "stream",
     "text": [
      "Tensor(\"add:0\", shape=(28, 10), dtype=float32)\n",
      "[[ 1.57712336e+01  5.01923609e+00  5.50983572e+00 -1.16721058e+01\n",
      "   1.59632397e+01 -1.61846423e+00  2.99074411e+00  8.10353374e+00\n",
      "   8.27149296e+00 -4.55466080e+00]\n",
      " [-8.71562481e+00 -1.61945953e+01  1.44565248e+00  5.63215256e-01\n",
      "   2.02663975e+01 -4.38008785e+00  5.29723120e+00  4.46333599e+00\n",
      "  -8.26929665e+00  1.79043427e+01]\n",
      " [-1.14358540e+01  1.81356583e+01  7.64720774e+00 -5.16752958e+00\n",
      "   1.61236248e+01 -7.86019611e+00 -7.01574993e+00 -8.87354183e+00\n",
      "   1.10761900e+01 -5.56854677e+00]\n",
      " [ 1.09309778e+01  1.69290829e+00 -1.29086838e+01  1.62330456e+01\n",
      "  -2.89666233e+01  7.13659668e+00  2.96516180e+00  2.33518353e+01\n",
      "  -1.07007074e+01  1.14885175e+00]\n",
      " [ 4.60101986e+00  1.15139446e+01 -1.55585027e+00 -1.52930870e+01\n",
      "  -1.07653790e+01  7.06326842e-01  2.83944416e+00  7.92920828e+00\n",
      "  -4.52332354e+00 -2.53119993e+00]\n",
      " [-2.75440264e+00 -6.13933516e+00 -1.55492153e+01  1.08188438e+01\n",
      "   1.48510218e+00  7.69097805e+00  5.47162247e+00 -1.36950951e+01\n",
      "  -1.75648460e+01 -1.60597725e+01]\n",
      " [ 4.94583321e+00  1.77481880e+01  1.75854340e+01 -1.01036835e+01\n",
      "   3.83868247e-01 -1.91623859e+01  1.56072245e+01 -3.13786221e+00\n",
      "  -5.11954451e+00  2.30398216e+01]\n",
      " [ 1.03923788e+01 -7.96189213e+00  1.92174740e+01  1.13526363e+01\n",
      "  -8.26297855e+00 -5.99595261e+00 -1.20750980e+01 -1.82161379e+00\n",
      "  -1.56729021e+01 -4.72144461e+00]\n",
      " [ 1.81304855e+01  1.92228699e+01  2.01374397e+01  2.04827633e+01\n",
      "   2.81177616e+00 -1.47061720e+01 -7.64392948e+00  1.44429779e+00\n",
      "  -5.69880629e+00  7.18398452e-01]\n",
      " [ 1.72561073e+01  1.51598454e+00 -6.57192659e+00  1.87964382e+01\n",
      "   2.33019590e+00 -1.62239170e+01  4.74522018e+00 -1.02309513e+00\n",
      "  -7.71403217e+00 -1.21812334e+01]\n",
      " [ 1.61039124e+01  1.29644895e+00  8.95885468e+00  2.38071022e+01\n",
      "  -1.01284695e+00 -1.46558437e+01  2.43221855e+00 -1.44390850e+01\n",
      "   1.28718386e+01  1.03471203e+01]\n",
      " [ 3.53587723e+01  1.00255041e+01 -6.70279264e+00  3.87637377e-01\n",
      "   2.13458767e+01 -2.14693189e+00 -1.13434172e+01 -1.74315014e+01\n",
      "   1.59085207e+01 -1.09657393e+01]\n",
      " [-1.30297546e+01  1.48194873e+00 -6.21139479e+00 -3.50244379e+00\n",
      "   2.90055799e+00 -1.46303053e+01  1.40273542e+01 -3.25829411e+00\n",
      "  -1.97351360e+01  8.38473439e-01]\n",
      " [ 9.70116711e+00  1.36629581e+01 -8.62478065e+00  5.87037659e+00\n",
      "   1.71636086e+01  2.04502888e+01 -3.76325607e+00 -7.15979671e+00\n",
      "   1.72225475e+00  9.05320835e+00]\n",
      " [-1.77489567e+00 -2.79955769e+00 -7.07001400e+00  1.56363640e+01\n",
      "   6.81887388e+00 -7.99499321e+00 -1.74298325e+01 -1.69574308e+00\n",
      "  -5.77509212e+00  1.16650283e+00]\n",
      " [ 1.40111799e+01 -1.61696482e+00 -3.14927840e+00  4.40687704e+00\n",
      "   1.58614559e+01 -2.19531941e+00 -6.66567421e+00  8.86216927e+00\n",
      "  -1.29161406e+01  1.79769173e+01]\n",
      " [ 1.54596920e+01  1.43385363e+01 -9.87934530e-01  2.24378490e+00\n",
      "   1.01272354e+01  1.71514378e+01 -2.51550274e+01 -4.98244667e+00\n",
      "   1.43649397e+01 -7.61639214e+00]\n",
      " [ 3.99236565e+01  9.91426373e+00  8.84294224e+00 -3.59494925e+00\n",
      "  -1.67405033e+01  1.25722933e+01  7.98298836e+00 -5.44228554e-01\n",
      "  -9.44812107e+00 -1.11220479e-01]\n",
      " [-1.17895021e+01  2.22358131e+00 -4.17416334e+00 -1.72343082e+01\n",
      "  -3.72246780e+01  2.47977281e+00 -1.92091858e+00  1.41709356e+01\n",
      "   1.01938725e+01  1.16126833e+01]\n",
      " [ 6.63654923e-01  1.38723755e+01 -1.54245939e+01 -9.55999947e+00\n",
      "   6.06805182e+00 -1.38069677e+01 -6.02950692e-01  2.72132015e+00\n",
      "  -1.21034956e+01  1.13343582e+01]\n",
      " [ 1.16755080e+00  6.06949949e+00  5.46598732e-01  1.84207172e+01\n",
      "   2.71888638e+00 -4.79504013e+00  1.41566026e+00  4.01272297e+00\n",
      "   7.08580208e+00 -1.04789295e+01]\n",
      " [ 2.88917089e+00  3.84722090e+00 -5.24790144e+00 -4.38422155e+00\n",
      "  -4.63920259e+00  2.63998961e+00 -1.69060326e+01  1.02637510e+01\n",
      "  -1.78623333e+01  8.24872971e+00]\n",
      " [-3.56669521e+00  4.78461695e+00 -1.80370092e+00 -6.80545235e+00\n",
      "   1.13678646e+01 -6.51418591e+00  4.83916330e+00  7.99394703e+00\n",
      "  -1.10121346e+00 -9.99212646e+00]\n",
      " [-3.82467699e+00 -2.07964439e+01 -1.32546692e+01 -2.52699070e+01\n",
      "  -4.51208019e+00 -3.49381423e+00  3.35032120e+01  1.06034527e+01\n",
      "   1.78998542e+00 -1.04406261e+01]\n",
      " [-4.31792355e+00 -1.35483255e+01 -2.14000988e+01 -1.00013542e+00\n",
      "   1.15966988e+01 -4.65157413e+00 -2.69518661e+01  7.61804581e+00\n",
      "   1.58283901e+00 -1.34161177e+01]\n",
      " [ 7.23133898e+00  7.90013075e+00 -1.83967190e+01  8.86356544e+00\n",
      "   2.14391766e+01 -6.66998196e+00  5.97357893e+00 -1.08749580e+01\n",
      "   3.84383726e+00  1.26679385e+00]\n",
      " [ 1.38108797e+01  1.99433746e+01  6.55760050e+00  2.49387074e+00\n",
      "   3.60493698e+01  2.90930271e-02 -1.24726868e+01  1.24137392e+01\n",
      "  -6.37593317e+00  6.43049908e+00]\n",
      " [ 3.97354698e+00  1.72168999e+01 -2.24947715e+00  1.71939011e+01\n",
      "  -9.53725338e+00 -1.43002129e+01 -4.73685980e+00 -2.56520233e+01\n",
      "   2.00199938e+00  2.68817997e+00]]\n"
     ]
    }
   ],
   "source": [
    "# o = tf.random_normal([num_hidden, num_input])\n",
    "# w = tf.random_normal([28, num_classes])\n",
    "# b = tf.random_normal([num_classes])\n",
    "\n",
    "o = tf.random_normal([num_input, num_hidden])\n",
    "w = tf.random_normal([num_hidden, num_classes])\n",
    "b = tf.random_normal([num_classes])\n",
    "\n",
    "mul = tf.matmul(o, w) + b\n",
    "print(mul)\n",
    "sess = tf.Session()\n",
    "print(sess.run(mul))"
   ]
  },
  {
   "cell_type": "code",
   "execution_count": 9,
   "metadata": {},
   "outputs": [
    {
     "name": "stdout",
     "output_type": "stream",
     "text": [
      "x_temp:  [<tf.Tensor 'unstack_2:0' shape=(3, 3) dtype=int32>, <tf.Tensor 'unstack_2:1' shape=(3, 3) dtype=int32>]\n",
      "[array([[1, 2, 3],\n",
      "       [4, 5, 6],\n",
      "       [7, 8, 9]]), array([[11,  2,  3],\n",
      "       [44,  5,  6],\n",
      "       [77,  8,  9]])]\n"
     ]
    }
   ],
   "source": [
    "list_temp = [\n",
    "    [\n",
    "        [1, 2, 3], [11, 2, 3]\n",
    "    ],\n",
    "    [\n",
    "        [4, 5, 6], [44, 5, 6]\n",
    "    ],\n",
    "    [\n",
    "        [7, 8, 9], [77, 8, 9]\n",
    "    ]\n",
    "] # (3, 2, 3)\n",
    "\n",
    "\"\"\"\n",
    "https://www.tensorflow.org/api_docs/python/tf/unstack\n",
    "unstack(value, num, axis)\n",
    "'num' should be the size of elements in 'axis'\n",
    "Returns 'num' tensors\n",
    "\"\"\"\n",
    "\n",
    "x_temp = tf.unstack(list_temp, 2, 1) # 3, 3\n",
    "\n",
    "print(\"x_temp: \", x_temp)\n",
    "sess = tf.Session()\n",
    "print(sess.run(x_temp))"
   ]
  },
  {
   "cell_type": "code",
   "execution_count": 10,
   "metadata": {},
   "outputs": [
    {
     "name": "stdout",
     "output_type": "stream",
     "text": [
      "x[-1]:  Tensor(\"Model/unstack:27\", shape=(?, 28), dtype=float32)\n",
      "outputs:  [<tf.Tensor 'Model/rnn/rnn/basic_lstm_cell/mul_2:0' shape=(?, 128) dtype=float32>, <tf.Tensor 'Model/rnn/rnn/basic_lstm_cell/mul_5:0' shape=(?, 128) dtype=float32>, <tf.Tensor 'Model/rnn/rnn/basic_lstm_cell/mul_8:0' shape=(?, 128) dtype=float32>, <tf.Tensor 'Model/rnn/rnn/basic_lstm_cell/mul_11:0' shape=(?, 128) dtype=float32>, <tf.Tensor 'Model/rnn/rnn/basic_lstm_cell/mul_14:0' shape=(?, 128) dtype=float32>, <tf.Tensor 'Model/rnn/rnn/basic_lstm_cell/mul_17:0' shape=(?, 128) dtype=float32>, <tf.Tensor 'Model/rnn/rnn/basic_lstm_cell/mul_20:0' shape=(?, 128) dtype=float32>, <tf.Tensor 'Model/rnn/rnn/basic_lstm_cell/mul_23:0' shape=(?, 128) dtype=float32>, <tf.Tensor 'Model/rnn/rnn/basic_lstm_cell/mul_26:0' shape=(?, 128) dtype=float32>, <tf.Tensor 'Model/rnn/rnn/basic_lstm_cell/mul_29:0' shape=(?, 128) dtype=float32>, <tf.Tensor 'Model/rnn/rnn/basic_lstm_cell/mul_32:0' shape=(?, 128) dtype=float32>, <tf.Tensor 'Model/rnn/rnn/basic_lstm_cell/mul_35:0' shape=(?, 128) dtype=float32>, <tf.Tensor 'Model/rnn/rnn/basic_lstm_cell/mul_38:0' shape=(?, 128) dtype=float32>, <tf.Tensor 'Model/rnn/rnn/basic_lstm_cell/mul_41:0' shape=(?, 128) dtype=float32>, <tf.Tensor 'Model/rnn/rnn/basic_lstm_cell/mul_44:0' shape=(?, 128) dtype=float32>, <tf.Tensor 'Model/rnn/rnn/basic_lstm_cell/mul_47:0' shape=(?, 128) dtype=float32>, <tf.Tensor 'Model/rnn/rnn/basic_lstm_cell/mul_50:0' shape=(?, 128) dtype=float32>, <tf.Tensor 'Model/rnn/rnn/basic_lstm_cell/mul_53:0' shape=(?, 128) dtype=float32>, <tf.Tensor 'Model/rnn/rnn/basic_lstm_cell/mul_56:0' shape=(?, 128) dtype=float32>, <tf.Tensor 'Model/rnn/rnn/basic_lstm_cell/mul_59:0' shape=(?, 128) dtype=float32>, <tf.Tensor 'Model/rnn/rnn/basic_lstm_cell/mul_62:0' shape=(?, 128) dtype=float32>, <tf.Tensor 'Model/rnn/rnn/basic_lstm_cell/mul_65:0' shape=(?, 128) dtype=float32>, <tf.Tensor 'Model/rnn/rnn/basic_lstm_cell/mul_68:0' shape=(?, 128) dtype=float32>, <tf.Tensor 'Model/rnn/rnn/basic_lstm_cell/mul_71:0' shape=(?, 128) dtype=float32>, <tf.Tensor 'Model/rnn/rnn/basic_lstm_cell/mul_74:0' shape=(?, 128) dtype=float32>, <tf.Tensor 'Model/rnn/rnn/basic_lstm_cell/mul_77:0' shape=(?, 128) dtype=float32>, <tf.Tensor 'Model/rnn/rnn/basic_lstm_cell/mul_80:0' shape=(?, 128) dtype=float32>, <tf.Tensor 'Model/rnn/rnn/basic_lstm_cell/mul_83:0' shape=(?, 128) dtype=float32>]\n",
      "outputs[-1]:  Tensor(\"Model/rnn/rnn/basic_lstm_cell/mul_83:0\", shape=(?, 128), dtype=float32)\n",
      "tf.matmul(outputs[-1], weights['out']) + biases['out']:  Tensor(\"Model/add:0\", shape=(?, 10), dtype=float32)\n",
      "logits:  Tensor(\"add_1:0\", shape=(?, 10), dtype=float32)\n"
     ]
    }
   ],
   "source": [
    "#         print(\"x[-1]: \", x[-1])\n",
    "#         print(\"outputs: \", outputs)\n",
    "#         print(\"outputs[-1]: \", outputs[-1])\n",
    "#         print(\"tf.matmul(outputs[-1], weights['out']) + biases['out']: \", tf.matmul(outputs[-1], weights['out']) + biases['out'])\n",
    "\n",
    "logits = RNN(X, weights, biases) # [timesteps, num_classes]: 28, 10\n",
    "print(\"logits: \", logits)\n",
    "prediction = tf.nn.softmax(logits)\n",
    "\n",
    "# Define loss and optimizer\n",
    "with tf.name_scope('Loss'):\n",
    "    loss_op = tf.reduce_mean(tf.nn.softmax_cross_entropy_with_logits(logits=logits, labels=Y))\n",
    "tf.summary.scalar(\"loss\", loss_op) # Create a summary to monitor loss_op tensor\n",
    "\n",
    "with tf.name_scope('optimizer'):\n",
    "    #optimizer = tf.train.GradientDescentOptimizer(learning_rate=learning_rate)\n",
    "    optimizer = tf.train.AdamOptimizer(learning_rate=0.001, beta1=0.9, beta2=0.999, epsilon=1e-08, use_locking=False, name='Adam')\n",
    "train_op = optimizer.minimize(loss_op)\n",
    "\n",
    "# Evaluate model (with test logits, for dropout to be disabled)\n",
    "correct_pred = tf.equal(tf.argmax(prediction, 1), tf.argmax(Y, 1))\n",
    "with tf.name_scope('Accuracy'):\n",
    "    accuracy = tf.reduce_mean(tf.cast(correct_pred, tf.float32))\n",
    "tf.summary.scalar(\"accuracy\", accuracy) # Create a summary to monitor accuracy tensor\n",
    "\n",
    "# Initialize the variables (i.e. assign their default value)\n",
    "init = tf.global_variables_initializer()"
   ]
  },
  {
   "cell_type": "raw",
   "metadata": {},
   "source": [
    "x2 = tf.constant([[3.,4], [5.,6], [6.,7]])\n",
    "print(sess.run(tf.reduce_mean(x2))) # 5.16 = (3+4+5+6+6+7)/6\n",
    "print(sess.run(tf.reduce_mean(x2, 0))) # [4.6, 5.6] = (3+5+6)/3, (4+6+7)/3\n",
    "print(sess.run(tf.reduce_mean(x2, 1))) # [3.5,  5.5, 6.5] = (3+4)/2, (5+6)/2, (6+7)/2"
   ]
  },
  {
   "cell_type": "code",
   "execution_count": 6,
   "metadata": {
    "collapsed": true
   },
   "outputs": [],
   "source": [
    "import shutil, os\n",
    "if os.path.exists(\"rnn_mnist_logs/\"):\n",
    "    shutil.rmtree(\"rnn_mnist_logs/\")"
   ]
  },
  {
   "cell_type": "code",
   "execution_count": 7,
   "metadata": {},
   "outputs": [
    {
     "name": "stdout",
     "output_type": "stream",
     "text": [
      "Epoch 1, Minibatch Loss= 2.5150, Training Accuracy= 0.133\n",
      "Epoch 200, Minibatch Loss= 0.2169, Training Accuracy= 0.922\n",
      "Epoch 400, Minibatch Loss= 0.2320, Training Accuracy= 0.930\n",
      "Epoch 600, Minibatch Loss= 0.0587, Training Accuracy= 0.977\n",
      "Epoch 800, Minibatch Loss= 0.0694, Training Accuracy= 0.977\n",
      "Epoch 1000, Minibatch Loss= 0.1639, Training Accuracy= 0.969\n",
      "Optimization Finished!\n",
      "Testing Accuracy: 0.984375\n"
     ]
    }
   ],
   "source": [
    "# Start training\n",
    "with tf.Session() as sess:\n",
    "\n",
    "    # Run the initializer\n",
    "    sess.run(init)\n",
    "    \n",
    "    summary_op = tf.summary.merge_all() # Merge all summaries into a single op\n",
    "    summary_writer = tf.summary.FileWriter(\"rnn_mnist_logs/\", graph=tf.get_default_graph())\n",
    "    \n",
    "    saver = tf.train.Saver(max_to_keep=2)\n",
    "\n",
    "    for epoch in range(1, training_epochs+1):\n",
    "        batch_x, batch_y = mnist.train.next_batch(batch_size)\n",
    "        # Reshape data to get 28 seq of 28 elements\n",
    "        batch_x = batch_x.reshape((batch_size, timesteps, num_input))\n",
    "        # Run optimization op (backprop)\n",
    "        sess.run(train_op, feed_dict={X: batch_x, Y: batch_y})\n",
    "        if epoch % display_step == 0 or epoch == 1:\n",
    "            # Calculate batch loss and accuracy\n",
    "            loss, acc = sess.run([loss_op, accuracy], feed_dict={X: batch_x, Y: batch_y})\n",
    "            print(\"Epoch \" + str(epoch) + \", Minibatch Loss= \" + \\\n",
    "                  \"{:.4f}\".format(loss) + \", Training Accuracy= \" + \\\n",
    "                  \"{:.3f}\".format(acc))\n",
    "            \n",
    "            # Write logs at every iteration\n",
    "            summary_str = sess.run(summary_op, feed_dict={X: batch_x, Y: batch_y})\n",
    "            summary_writer.add_summary(summary_str, epoch)\n",
    "            \n",
    "            # Save checkpoint\n",
    "            saver.save(sess, \"rnn_mnist_logs/model-checkpoint\", epoch)\n",
    "\n",
    "    print(\"Optimization Finished!\")\n",
    "\n",
    "    # Calculate accuracy for 128 mnist test images\n",
    "    test_len = 128\n",
    "    test_data = mnist.test.images[:test_len].reshape((-1, timesteps, num_input))\n",
    "    test_label = mnist.test.labels[:test_len]\n",
    "    print(\"Testing Accuracy:\", \\\n",
    "        sess.run(accuracy, feed_dict={X: test_data, Y: test_label}))"
   ]
  },
  {
   "cell_type": "code",
   "execution_count": null,
   "metadata": {
    "collapsed": true
   },
   "outputs": [],
   "source": []
  }
 ],
 "metadata": {
  "anaconda-cloud": {},
  "kernelspec": {
   "display_name": "Python 3",
   "language": "python",
   "name": "python3"
  },
  "language_info": {
   "codemirror_mode": {
    "name": "ipython",
    "version": 3
   },
   "file_extension": ".py",
   "mimetype": "text/x-python",
   "name": "python",
   "nbconvert_exporter": "python",
   "pygments_lexer": "ipython3",
   "version": "3.5.4"
  }
 },
 "nbformat": 4,
 "nbformat_minor": 1
}
