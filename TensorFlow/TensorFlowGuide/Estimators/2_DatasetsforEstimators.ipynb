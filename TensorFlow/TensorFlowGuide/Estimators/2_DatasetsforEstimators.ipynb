{
 "cells": [
  {
   "cell_type": "code",
   "execution_count": 15,
   "metadata": {},
   "outputs": [],
   "source": [
    "import os, pickle\n",
    "import tensorflow as tf"
   ]
  },
  {
   "cell_type": "raw",
   "metadata": {},
   "source": [
    "https://www.tensorflow.org/guide/datasets_for_estimators#slices"
   ]
  },
  {
   "cell_type": "code",
   "execution_count": 26,
   "metadata": {},
   "outputs": [
    {
     "name": "stdout",
     "output_type": "stream",
     "text": [
      "mnist_x:  (60000, 28, 28)\n",
      "<TensorSliceDataset shapes: (28, 28), types: tf.uint8>\n"
     ]
    }
   ],
   "source": [
    "train, test = tf.keras.datasets.mnist.load_data()\n",
    "mnist_x, mnist_y = train\n",
    "\n",
    "print(\"mnist_x: \", mnist_x.shape)\n",
    "\n",
    "mnist_ds = tf.data.Dataset.from_tensor_slices(mnist_x)\n",
    "print(mnist_ds)"
   ]
  },
  {
   "cell_type": "code",
   "execution_count": 17,
   "metadata": {},
   "outputs": [],
   "source": [
    "\"\"\"\n",
    "Works on Python 3\n",
    "Read from behavior+\"_\"+\"Freq_\"+str(points_per_sec)+\"TimePerSec\"+\"_testset*.bin\"\n",
    "Now the original objects can be retrieved (\"loaded\") from _.bin in the same order as they were written (\"dumped\") into it\n",
    "\"\"\"\n",
    "\n",
    "path = r\"D:\\MS-Project-Data\\cyclone101_cleanedup\\HapticDatasets_V2_sync\\hold_Freq_50TimePerSec_7channels_CategoryRecognition\"\n",
    "db_file_name = \"hold_Freq_50TimePerSec_7channels_testset1.bin\"\n",
    "\n",
    "bin_file = open(path+os.sep+db_file_name, \"rb\")\n",
    "\n",
    "haptic_frames_2d_train = pickle.load(bin_file)\n",
    "category_label_train = pickle.load(bin_file)\n",
    "object_label_train = pickle.load(bin_file)\n",
    "category_label_train_one_not = pickle.load(bin_file)\n",
    "object_label_train_one_not = pickle.load(bin_file)\n",
    "\n",
    "haptic_frames_2d_test = pickle.load(bin_file)\n",
    "category_label_test = pickle.load(bin_file)\n",
    "object_label_test = pickle.load(bin_file)\n",
    "category_label_test_one_not = pickle.load(bin_file)\n",
    "object_label_test_one_not = pickle.load(bin_file)\n",
    "\n",
    "bin_file.close()"
   ]
  },
  {
   "cell_type": "code",
   "execution_count": 20,
   "metadata": {},
   "outputs": [
    {
     "name": "stdout",
     "output_type": "stream",
     "text": [
      "haptic_frames_2d_train:  (400, 60, 7)\n",
      "<TensorSliceDataset shapes: ((60, 7), ()), types: (tf.float64, tf.int32)>\n"
     ]
    }
   ],
   "source": [
    "print(\"haptic_frames_2d_train: \", haptic_frames_2d_train.shape)\n",
    "\n",
    "mnist_ds = tf.data.Dataset.from_tensor_slices((haptic_frames_2d_train, category_label_train))\n",
    "print(mnist_ds)"
   ]
  },
  {
   "cell_type": "code",
   "execution_count": null,
   "metadata": {},
   "outputs": [],
   "source": []
  },
  {
   "cell_type": "code",
   "execution_count": 12,
   "metadata": {},
   "outputs": [
    {
     "name": "stdout",
     "output_type": "stream",
     "text": [
      "<class 'pandas.core.frame.DataFrame'>\n",
      "{'SepalLength': 0      6.4\n",
      "1      5.0\n",
      "2      4.9\n",
      "3      4.9\n",
      "4      5.7\n",
      "5      4.4\n",
      "6      5.4\n",
      "7      6.9\n",
      "8      6.7\n",
      "9      5.1\n",
      "10     5.2\n",
      "11     6.9\n",
      "12     5.8\n",
      "13     5.4\n",
      "14     7.7\n",
      "15     6.3\n",
      "16     6.8\n",
      "17     7.6\n",
      "18     6.4\n",
      "19     5.7\n",
      "20     6.7\n",
      "21     6.4\n",
      "22     5.4\n",
      "23     6.1\n",
      "24     7.2\n",
      "25     5.2\n",
      "26     5.8\n",
      "27     5.9\n",
      "28     5.4\n",
      "29     6.7\n",
      "      ... \n",
      "90     6.5\n",
      "91     6.1\n",
      "92     5.1\n",
      "93     4.6\n",
      "94     6.5\n",
      "95     4.6\n",
      "96     4.6\n",
      "97     7.7\n",
      "98     5.9\n",
      "99     5.1\n",
      "100    4.9\n",
      "101    4.9\n",
      "102    4.5\n",
      "103    5.8\n",
      "104    5.0\n",
      "105    5.2\n",
      "106    5.3\n",
      "107    5.0\n",
      "108    5.6\n",
      "109    4.8\n",
      "110    6.3\n",
      "111    5.7\n",
      "112    5.0\n",
      "113    6.3\n",
      "114    5.0\n",
      "115    5.5\n",
      "116    5.7\n",
      "117    4.4\n",
      "118    4.8\n",
      "119    5.5\n",
      "Name: SepalLength, Length: 120, dtype: float64, 'SepalWidth': 0      2.8\n",
      "1      2.3\n",
      "2      2.5\n",
      "3      3.1\n",
      "4      3.8\n",
      "5      3.2\n",
      "6      3.4\n",
      "7      3.1\n",
      "8      3.1\n",
      "9      3.7\n",
      "10     2.7\n",
      "11     3.1\n",
      "12     4.0\n",
      "13     3.9\n",
      "14     3.8\n",
      "15     3.3\n",
      "16     3.2\n",
      "17     3.0\n",
      "18     3.2\n",
      "19     4.4\n",
      "20     3.3\n",
      "21     2.8\n",
      "22     3.9\n",
      "23     2.6\n",
      "24     3.0\n",
      "25     3.5\n",
      "26     2.6\n",
      "27     3.0\n",
      "28     3.0\n",
      "29     3.0\n",
      "      ... \n",
      "90     3.0\n",
      "91     2.8\n",
      "92     3.5\n",
      "93     3.1\n",
      "94     3.0\n",
      "95     3.4\n",
      "96     3.2\n",
      "97     2.8\n",
      "98     3.2\n",
      "99     3.8\n",
      "100    3.0\n",
      "101    2.4\n",
      "102    2.3\n",
      "103    2.7\n",
      "104    3.4\n",
      "105    3.4\n",
      "106    3.7\n",
      "107    3.6\n",
      "108    2.9\n",
      "109    3.1\n",
      "110    2.7\n",
      "111    2.8\n",
      "112    3.0\n",
      "113    3.3\n",
      "114    3.5\n",
      "115    2.6\n",
      "116    3.0\n",
      "117    2.9\n",
      "118    3.0\n",
      "119    2.4\n",
      "Name: SepalWidth, Length: 120, dtype: float64, 'PetalLength': 0      5.6\n",
      "1      3.3\n",
      "2      4.5\n",
      "3      1.5\n",
      "4      1.7\n",
      "5      1.3\n",
      "6      1.5\n",
      "7      5.1\n",
      "8      4.4\n",
      "9      1.5\n",
      "10     3.9\n",
      "11     4.9\n",
      "12     1.2\n",
      "13     1.7\n",
      "14     6.7\n",
      "15     4.7\n",
      "16     5.9\n",
      "17     6.6\n",
      "18     5.3\n",
      "19     1.5\n",
      "20     5.7\n",
      "21     5.6\n",
      "22     1.3\n",
      "23     5.6\n",
      "24     5.8\n",
      "25     1.5\n",
      "26     4.0\n",
      "27     5.1\n",
      "28     4.5\n",
      "29     5.0\n",
      "      ... \n",
      "90     5.2\n",
      "91     4.7\n",
      "92     1.4\n",
      "93     1.5\n",
      "94     5.8\n",
      "95     1.4\n",
      "96     1.4\n",
      "97     6.7\n",
      "98     4.8\n",
      "99     1.6\n",
      "100    1.4\n",
      "101    3.3\n",
      "102    1.3\n",
      "103    4.1\n",
      "104    1.6\n",
      "105    1.4\n",
      "106    1.5\n",
      "107    1.4\n",
      "108    3.6\n",
      "109    1.6\n",
      "110    4.9\n",
      "111    4.1\n",
      "112    1.6\n",
      "113    6.0\n",
      "114    1.6\n",
      "115    4.4\n",
      "116    4.2\n",
      "117    1.4\n",
      "118    1.4\n",
      "119    3.7\n",
      "Name: PetalLength, Length: 120, dtype: float64, 'PetalWidth': 0      2.2\n",
      "1      1.0\n",
      "2      1.7\n",
      "3      0.1\n",
      "4      0.3\n",
      "5      0.2\n",
      "6      0.4\n",
      "7      2.3\n",
      "8      1.4\n",
      "9      0.4\n",
      "10     1.4\n",
      "11     1.5\n",
      "12     0.2\n",
      "13     0.4\n",
      "14     2.2\n",
      "15     1.6\n",
      "16     2.3\n",
      "17     2.1\n",
      "18     2.3\n",
      "19     0.4\n",
      "20     2.1\n",
      "21     2.1\n",
      "22     0.4\n",
      "23     1.4\n",
      "24     1.6\n",
      "25     0.2\n",
      "26     1.2\n",
      "27     1.8\n",
      "28     1.5\n",
      "29     1.7\n",
      "      ... \n",
      "90     2.0\n",
      "91     1.2\n",
      "92     0.3\n",
      "93     0.2\n",
      "94     2.2\n",
      "95     0.3\n",
      "96     0.2\n",
      "97     2.0\n",
      "98     1.8\n",
      "99     0.2\n",
      "100    0.2\n",
      "101    1.0\n",
      "102    0.3\n",
      "103    1.0\n",
      "104    0.4\n",
      "105    0.2\n",
      "106    0.2\n",
      "107    0.2\n",
      "108    1.3\n",
      "109    0.2\n",
      "110    1.8\n",
      "111    1.3\n",
      "112    0.2\n",
      "113    2.5\n",
      "114    0.6\n",
      "115    1.2\n",
      "116    1.2\n",
      "117    0.2\n",
      "118    0.1\n",
      "119    1.0\n",
      "Name: PetalWidth, Length: 120, dtype: float64}\n"
     ]
    }
   ],
   "source": [
    "import iris_data\n",
    "\n",
    "# Fetch the data\n",
    "train, test = iris_data.load_data()\n",
    "features, labels = train\n",
    "\n",
    "print(type(features))\n",
    "#print(features)\n",
    "print(dict(features))"
   ]
  },
  {
   "cell_type": "code",
   "execution_count": 10,
   "metadata": {},
   "outputs": [
    {
     "name": "stdout",
     "output_type": "stream",
     "text": [
      "<TensorSliceDataset shapes: {SepalLength: (), SepalWidth: (), PetalLength: (), PetalWidth: ()}, types: {SepalLength: tf.float64, SepalWidth: tf.float64, PetalLength: tf.float64, PetalWidth: tf.float64}>\n"
     ]
    }
   ],
   "source": [
    "dataset = tf.data.Dataset.from_tensor_slices(dict(features))\n",
    "print(dataset)"
   ]
  },
  {
   "cell_type": "code",
   "execution_count": 21,
   "metadata": {},
   "outputs": [
    {
     "name": "stdout",
     "output_type": "stream",
     "text": [
      "<TensorSliceDataset shapes: ({SepalLength: (), SepalWidth: (), PetalLength: (), PetalWidth: ()}, ()), types: ({SepalLength: tf.float64, SepalWidth: tf.float64, PetalLength: tf.float64, PetalWidth: tf.float64}, tf.int64)>\n"
     ]
    }
   ],
   "source": [
    "# Convert the inputs to a Dataset.\n",
    "dataset = tf.data.Dataset.from_tensor_slices((dict(features), labels))\n",
    "print(dataset)"
   ]
  },
  {
   "cell_type": "code",
   "execution_count": 24,
   "metadata": {},
   "outputs": [
    {
     "name": "stdout",
     "output_type": "stream",
     "text": [
      "<BatchDataset shapes: ({SepalLength: (?, ?), SepalWidth: (?, ?), PetalLength: (?, ?), PetalWidth: (?, ?)}, (?, ?)), types: ({SepalLength: tf.float64, SepalWidth: tf.float64, PetalLength: tf.float64, PetalWidth: tf.float64}, tf.int64)>\n"
     ]
    }
   ],
   "source": [
    "# Shuffle, repeat, and batch the examples.\n",
    "dataset = dataset.shuffle(1000).repeat().batch(100)\n",
    "print(dataset)\n",
    "\n",
    "\"\"\"\n",
    "The shuffle method uses a fixed-size buffer to shuffle the items as they pass through.\n",
    "In this case the buffer_size is greater than the number of examples in the Dataset,\n",
    "ensuring that the data is completely shuffled (The Iris data set only contains 150 examples).\n",
    "\n",
    "The repeat method restarts the Dataset when it reaches the end.\n",
    "To limit the number of epochs, set the count argument.\n",
    "\n",
    "The batch method collects a number of examples and stacks them, to create batches.\n",
    "This adds a dimension to their shape.\n",
    "The new dimension is added as the first dimension.\n",
    "The following code uses the batch method on the MNIST Dataset, from earlier.\n",
    "This results in a Dataset containing 3D arrays representing stacks of (28,28) images:\n",
    "\"\"\"\n"
   ]
  },
  {
   "cell_type": "code",
   "execution_count": 27,
   "metadata": {},
   "outputs": [
    {
     "name": "stdout",
     "output_type": "stream",
     "text": [
      "<BatchDataset shapes: (?, 28, 28), types: tf.uint8>\n"
     ]
    }
   ],
   "source": [
    "print(mnist_ds.batch(100))"
   ]
  },
  {
   "cell_type": "code",
   "execution_count": null,
   "metadata": {},
   "outputs": [],
   "source": []
  },
  {
   "cell_type": "code",
   "execution_count": null,
   "metadata": {},
   "outputs": [],
   "source": []
  }
 ],
 "metadata": {
  "kernelspec": {
   "display_name": "Python 3",
   "language": "python",
   "name": "python3"
  },
  "language_info": {
   "codemirror_mode": {
    "name": "ipython",
    "version": 3
   },
   "file_extension": ".py",
   "mimetype": "text/x-python",
   "name": "python",
   "nbconvert_exporter": "python",
   "pygments_lexer": "ipython3",
   "version": "3.6.5"
  }
 },
 "nbformat": 4,
 "nbformat_minor": 2
}
