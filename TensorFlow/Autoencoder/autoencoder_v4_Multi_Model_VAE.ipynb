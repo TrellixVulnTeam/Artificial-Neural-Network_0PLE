{
 "cells": [
  {
   "cell_type": "code",
   "execution_count": 1,
   "metadata": {},
   "outputs": [],
   "source": [
    "import tensorflow as tf\n",
    "import numpy as np\n",
    "import matplotlib.pyplot as plt"
   ]
  },
  {
   "cell_type": "code",
   "execution_count": 2,
   "metadata": {},
   "outputs": [
    {
     "name": "stdout",
     "output_type": "stream",
     "text": [
      "WARNING:tensorflow:From <ipython-input-2-c24054abed82>:3: read_data_sets (from tensorflow.contrib.learn.python.learn.datasets.mnist) is deprecated and will be removed in a future version.\n",
      "Instructions for updating:\n",
      "Please use alternatives such as official/mnist/dataset.py from tensorflow/models.\n",
      "WARNING:tensorflow:From c:\\anaconda2\\envs\\py3\\lib\\site-packages\\tensorflow\\contrib\\learn\\python\\learn\\datasets\\mnist.py:260: maybe_download (from tensorflow.contrib.learn.python.learn.datasets.base) is deprecated and will be removed in a future version.\n",
      "Instructions for updating:\n",
      "Please write your own downloading logic.\n",
      "WARNING:tensorflow:From c:\\anaconda2\\envs\\py3\\lib\\site-packages\\tensorflow\\contrib\\learn\\python\\learn\\datasets\\mnist.py:262: extract_images (from tensorflow.contrib.learn.python.learn.datasets.mnist) is deprecated and will be removed in a future version.\n",
      "Instructions for updating:\n",
      "Please use tf.data to implement this functionality.\n",
      "Extracting ../../../Datasets/MNIST_data/train-images-idx3-ubyte.gz\n",
      "WARNING:tensorflow:From c:\\anaconda2\\envs\\py3\\lib\\site-packages\\tensorflow\\contrib\\learn\\python\\learn\\datasets\\mnist.py:267: extract_labels (from tensorflow.contrib.learn.python.learn.datasets.mnist) is deprecated and will be removed in a future version.\n",
      "Instructions for updating:\n",
      "Please use tf.data to implement this functionality.\n",
      "Extracting ../../../Datasets/MNIST_data/train-labels-idx1-ubyte.gz\n",
      "WARNING:tensorflow:From c:\\anaconda2\\envs\\py3\\lib\\site-packages\\tensorflow\\contrib\\learn\\python\\learn\\datasets\\mnist.py:110: dense_to_one_hot (from tensorflow.contrib.learn.python.learn.datasets.mnist) is deprecated and will be removed in a future version.\n",
      "Instructions for updating:\n",
      "Please use tf.one_hot on tensors.\n",
      "Extracting ../../../Datasets/MNIST_data/t10k-images-idx3-ubyte.gz\n",
      "Extracting ../../../Datasets/MNIST_data/t10k-labels-idx1-ubyte.gz\n",
      "WARNING:tensorflow:From c:\\anaconda2\\envs\\py3\\lib\\site-packages\\tensorflow\\contrib\\learn\\python\\learn\\datasets\\mnist.py:290: DataSet.__init__ (from tensorflow.contrib.learn.python.learn.datasets.mnist) is deprecated and will be removed in a future version.\n",
      "Instructions for updating:\n",
      "Please use alternatives such as official/mnist/dataset.py from tensorflow/models.\n"
     ]
    }
   ],
   "source": [
    "# Import MNIST data\n",
    "from tensorflow.examples.tutorials.mnist import input_data\n",
    "mnist = input_data.read_data_sets(\"../../../Datasets/MNIST_data/\", one_hot=True)"
   ]
  },
  {
   "cell_type": "code",
   "execution_count": 3,
   "metadata": {},
   "outputs": [
    {
     "name": "stdout",
     "output_type": "stream",
     "text": [
      "train_data:  (55000, 784)\n",
      "train_labels:  (55000, 10)\n",
      "test_data:  (10000, 784)\n",
      "test_labels:  (10000, 10)\n"
     ]
    }
   ],
   "source": [
    "train_data = mnist.train.images\n",
    "train_labels = np.asarray(mnist.train.labels, dtype=np.int32)\n",
    "train_labels_names = np.argmax(train_labels, axis=1)\n",
    "test_data = mnist.test.images\n",
    "test_labels = np.asarray(mnist.test.labels, dtype=np.int32)\n",
    "test_labels_names = np.argmax(test_labels, axis=1)\n",
    "\n",
    "print(\"train_data: \", train_data.shape)\n",
    "print(\"train_labels: \", train_labels.shape)\n",
    "print(\"test_data: \", test_data.shape)\n",
    "print(\"test_labels: \", test_labels.shape)"
   ]
  },
  {
   "cell_type": "code",
   "execution_count": 4,
   "metadata": {},
   "outputs": [],
   "source": [
    "num_of_examples = 5000\n",
    "\n",
    "train_labels_names_dict = {}\n",
    "\n",
    "for example_i, example_label in enumerate(train_labels_names[:num_of_examples]):\n",
    "    train_labels_names_dict.setdefault(example_label, [])\n",
    "    train_labels_names_dict[example_label].append(example_i)    "
   ]
  },
  {
   "cell_type": "code",
   "execution_count": 5,
   "metadata": {},
   "outputs": [],
   "source": [
    "num_of_domains = 2\n",
    "num_of_features = [784, 784]\n",
    "domain_names = [\"domain_1\", \"domain_2\"]\n",
    "placeholder = {\"input\":[], \"output\":[]}\n",
    "\n",
    "for a_domain in range(num_of_domains):\n",
    "    placeholder[\"input\"].append(tf.placeholder(\"float\", [None, num_of_features[a_domain]], name='input_'+str(a_domain)))\n",
    "    placeholder[\"output\"].append(tf.placeholder(\"float\", [None, num_of_features[a_domain]], name='output_'+str(a_domain)))"
   ]
  },
  {
   "cell_type": "code",
   "execution_count": 6,
   "metadata": {},
   "outputs": [],
   "source": [
    "def encoder(domain_name, X):\n",
    "    for i in range(1, len(HIDDEN_LAYER_UNITS)+1):\n",
    "        if i == 1:\n",
    "            net = tf.layers.dense(inputs=X, units=HIDDEN_LAYER_UNITS[i-1], activation=ACTIVATION_FUNCTION, name=\"Encoder_\"+domain_name+\"_layer_\"+str(i))\n",
    "            #print(net)\n",
    "        else:\n",
    "            net = tf.layers.dense(inputs=net, units=HIDDEN_LAYER_UNITS[i-1], activation=ACTIVATION_FUNCTION, name=\"Encoder_\"+domain_name+\"_layer_\"+str(i))\n",
    "            #print(net)\n",
    "    return net"
   ]
  },
  {
   "cell_type": "code",
   "execution_count": 7,
   "metadata": {},
   "outputs": [],
   "source": [
    "HIDDEN_LAYER_UNITS = [100, 50, 10]\n",
    "ACTIVATION_FUNCTION = tf.nn.elu"
   ]
  },
  {
   "cell_type": "code",
   "execution_count": 8,
   "metadata": {},
   "outputs": [
    {
     "name": "stdout",
     "output_type": "stream",
     "text": [
      "Tensor(\"Encoder_domain_1_layer_3/Elu:0\", shape=(?, 10), dtype=float32)\n",
      "Tensor(\"Encoder_domain_2_layer_3/Elu:0\", shape=(?, 10), dtype=float32)\n"
     ]
    }
   ],
   "source": [
    "\n",
    "\n",
    "for a_domain in range(num_of_domains):\n",
    "    a = encoder(domain_names[a_domain], placeholder[\"input\"][a_domain])\n",
    "    print(a)\n",
    "\n"
   ]
  },
  {
   "cell_type": "code",
   "execution_count": null,
   "metadata": {},
   "outputs": [],
   "source": []
  },
  {
   "cell_type": "code",
   "execution_count": null,
   "metadata": {},
   "outputs": [],
   "source": []
  },
  {
   "cell_type": "code",
   "execution_count": null,
   "metadata": {},
   "outputs": [],
   "source": []
  },
  {
   "cell_type": "code",
   "execution_count": null,
   "metadata": {},
   "outputs": [],
   "source": []
  },
  {
   "cell_type": "code",
   "execution_count": 9,
   "metadata": {},
   "outputs": [
    {
     "name": "stdout",
     "output_type": "stream",
     "text": [
      "Original Images\n"
     ]
    },
    {
     "data": {
      "image/png": "[encoded data removed]",
      "text/plain": [
       "<Figure size 432x288 with 1 Axes>"
      ]
     },
     "metadata": {
      "needs_background": "light"
     },
     "output_type": "display_data"
    }
   ],
   "source": [
    "canvas_orig= train_data[115].reshape([28, 28])\n",
    "\n",
    "print(\"Original Images\")     \n",
    "#plt.figure(figsize=(n, n))\n",
    "plt.imshow(canvas_orig, origin=\"upper\", cmap=\"gray\")\n",
    "plt.show()"
   ]
  },
  {
   "cell_type": "code",
   "execution_count": null,
   "metadata": {},
   "outputs": [],
   "source": []
  },
  {
   "cell_type": "code",
   "execution_count": null,
   "metadata": {},
   "outputs": [],
   "source": []
  },
  {
   "cell_type": "code",
   "execution_count": null,
   "metadata": {},
   "outputs": [],
   "source": []
  }
 ],
 "metadata": {
  "kernelspec": {
   "display_name": "Python 3",
   "language": "python",
   "name": "python3"
  },
  "language_info": {
   "codemirror_mode": {
    "name": "ipython",
    "version": 3
   },
   "file_extension": ".py",
   "mimetype": "text/x-python",
   "name": "python",
   "nbconvert_exporter": "python",
   "pygments_lexer": "ipython3",
   "version": "3.5.6"
  }
 },
 "nbformat": 4,
 "nbformat_minor": 2
}
