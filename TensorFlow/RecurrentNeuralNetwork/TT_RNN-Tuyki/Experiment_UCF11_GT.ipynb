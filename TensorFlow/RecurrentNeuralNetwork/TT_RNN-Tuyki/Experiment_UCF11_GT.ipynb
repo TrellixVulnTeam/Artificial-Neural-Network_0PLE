{
 "cells": [
  {
   "cell_type": "code",
   "execution_count": 1,
   "metadata": {},
   "outputs": [
    {
     "name": "stderr",
     "output_type": "stream",
     "text": [
      "Using TensorFlow backend.\n"
     ]
    },
    {
     "ename": "FileNotFoundError",
     "evalue": "[WinError 3] The system cannot find the path specified: 'basketball'",
     "output_type": "error",
     "traceback": [
      "\u001b[1;31m---------------------------------------------------------------------------\u001b[0m",
      "\u001b[1;31mFileNotFoundError\u001b[0m                         Traceback (most recent call last)",
      "\u001b[1;32m<ipython-input-1-a0c5eebb6a99>\u001b[0m in \u001b[0;36m<module>\u001b[1;34m()\u001b[0m\n\u001b[0;32m     95\u001b[0m \u001b[0msizes\u001b[0m \u001b[1;33m=\u001b[0m \u001b[0mnp\u001b[0m\u001b[1;33m.\u001b[0m\u001b[0mzeros\u001b[0m\u001b[1;33m(\u001b[0m\u001b[1;36m11\u001b[0m\u001b[1;33m)\u001b[0m\u001b[1;33m\u001b[0m\u001b[0m\n\u001b[0;32m     96\u001b[0m \u001b[1;32mfor\u001b[0m \u001b[0mk\u001b[0m \u001b[1;32min\u001b[0m \u001b[0mrange\u001b[0m\u001b[1;33m(\u001b[0m\u001b[1;36m11\u001b[0m\u001b[1;33m)\u001b[0m\u001b[1;33m:\u001b[0m\u001b[1;33m\u001b[0m\u001b[0m\n\u001b[1;32m---> 97\u001b[1;33m     \u001b[0mthis_clip\u001b[0m \u001b[1;33m=\u001b[0m \u001b[0mget_clips\u001b[0m\u001b[1;33m(\u001b[0m\u001b[0mclasses\u001b[0m\u001b[1;33m[\u001b[0m\u001b[0mk\u001b[0m\u001b[1;33m]\u001b[0m\u001b[1;33m)\u001b[0m\u001b[1;33m\u001b[0m\u001b[0m\n\u001b[0m\u001b[0;32m     98\u001b[0m     \u001b[0mclips\u001b[0m\u001b[1;33m[\u001b[0m\u001b[0mk\u001b[0m\u001b[1;33m]\u001b[0m \u001b[1;33m=\u001b[0m \u001b[0mthis_clip\u001b[0m\u001b[1;33m\u001b[0m\u001b[0m\n\u001b[0;32m     99\u001b[0m     \u001b[0msizes\u001b[0m\u001b[1;33m[\u001b[0m\u001b[0mk\u001b[0m\u001b[1;33m]\u001b[0m \u001b[1;33m=\u001b[0m \u001b[0mlen\u001b[0m\u001b[1;33m(\u001b[0m\u001b[0mthis_clip\u001b[0m\u001b[1;33m)\u001b[0m\u001b[1;33m\u001b[0m\u001b[0m\n",
      "\u001b[1;32m<ipython-input-1-a0c5eebb6a99>\u001b[0m in \u001b[0;36mget_clips\u001b[1;34m(class_name)\u001b[0m\n\u001b[0;32m     45\u001b[0m \u001b[1;33m\u001b[0m\u001b[0m\n\u001b[0;32m     46\u001b[0m \u001b[1;32mdef\u001b[0m \u001b[0mget_clips\u001b[0m\u001b[1;33m(\u001b[0m\u001b[0mclass_name\u001b[0m\u001b[1;33m)\u001b[0m\u001b[1;33m:\u001b[0m\u001b[1;33m\u001b[0m\u001b[0m\n\u001b[1;32m---> 47\u001b[1;33m     \u001b[0mfiles\u001b[0m \u001b[1;33m=\u001b[0m \u001b[0mos\u001b[0m\u001b[1;33m.\u001b[0m\u001b[0mlistdir\u001b[0m\u001b[1;33m(\u001b[0m\u001b[0mdata_path\u001b[0m \u001b[1;33m+\u001b[0m \u001b[0mclass_name\u001b[0m\u001b[1;33m)\u001b[0m\u001b[1;33m\u001b[0m\u001b[0m\n\u001b[0m\u001b[0;32m     48\u001b[0m     \u001b[0mfiles\u001b[0m\u001b[1;33m.\u001b[0m\u001b[0msort\u001b[0m\u001b[1;33m(\u001b[0m\u001b[1;33m)\u001b[0m\u001b[1;33m\u001b[0m\u001b[0m\n\u001b[0;32m     49\u001b[0m     \u001b[0mclip_list\u001b[0m \u001b[1;33m=\u001b[0m \u001b[1;33m[\u001b[0m\u001b[1;33m]\u001b[0m\u001b[1;33m\u001b[0m\u001b[0m\n",
      "\u001b[1;31mFileNotFoundError\u001b[0m: [WinError 3] The system cannot find the path specified: 'basketball'"
     ]
    }
   ],
   "source": [
    "__author__ = \"Yinchong Yang\"\n",
    "__copyright__ = \"Siemens AG, 2017\"\n",
    "__licencse__ = \"MIT\"\n",
    "__version__ = \"0.1\"\n",
    "\n",
    "\"\"\"\n",
    "MIT License\n",
    "Copyright (c) 2017 Siemens AG\n",
    "Permission is hereby granted, free of charge, to any person obtaining a copy\n",
    "of this software and associated documentation files (the \"Software\"), to deal\n",
    "in the Software without restriction, including without limitation the rights\n",
    "to use, copy, modify, merge, publish, distribute, sublicense, and/or sell\n",
    "copies of the Software, and to permit persons to whom the Software is\n",
    "furnished to do so, subject to the following conditions:\n",
    "The above copyright notice and this permission notice shall be included in all\n",
    "copies or substantial portions of the Software.\n",
    "THE SOFTWARE IS PROVIDED \"AS IS\", WITHOUT WARRANTY OF ANY KIND, EXPRESS OR\n",
    "IMPLIED, INCLUDING BUT NOT LIMITED TO THE WARRANTIES OF MERCHANTABILITY,\n",
    "FITNESS FOR A PARTICULAR PURPOSE AND NONINFRINGEMENT. IN NO EVENT SHALL THE\n",
    "AUTHORS OR COPYRIGHT HOLDERS BE LIABLE FOR ANY CLAIM, DAMAGES OR OTHER\n",
    "LIABILITY, WHETHER IN AN ACTION OF CONTRACT, TORT OR OTHERWISE, ARISING FROM,\n",
    "OUT OF OR IN CONNECTION WITH THE SOFTWARE OR THE USE OR OTHER DEALINGS IN THE\n",
    "SOFTWARE.\n",
    "\"\"\"\n",
    "\n",
    "\n",
    "import os\n",
    "import numpy as np\n",
    "import pickle\n",
    "import datetime\n",
    "\n",
    "from keras.layers import Input, SimpleRNN, LSTM, GRU, Dense, Dropout, Masking, BatchNormalization\n",
    "from keras.models import Model\n",
    "from keras.optimizers import *\n",
    "from keras.regularizers import l2\n",
    "from keras.layers.wrappers import TimeDistributed\n",
    "from keras.preprocessing.sequence import pad_sequences\n",
    "from keras.utils.np_utils import to_categorical\n",
    "\n",
    "from sklearn.metrics import average_precision_score, roc_auc_score, accuracy_score\n",
    "\n",
    "# Custom Functions -----------------------------------------------------------------------------------------------------\n",
    "from TTRNN import TT_GRU, TT_LSTM\n",
    "\n",
    "\n",
    "def get_clips(class_name):\n",
    "    files = os.listdir(data_path + class_name)\n",
    "    files.sort()\n",
    "    clip_list = []\n",
    "    for this_file in files:\n",
    "        clips = os.listdir(data_path + class_name + '/' + this_file)\n",
    "        clips.sort()\n",
    "        for this_clip in clips:\n",
    "            clip_list.append( data_path + class_name + '/' + this_file + '/' + this_clip )\n",
    "    return clip_list\n",
    "\n",
    "\n",
    "def load_data(inds, mode = 'train'):\n",
    "    N = len(inds)\n",
    "    X = np.zeros((N, GLOBAL_MAX_LEN, 120*160*3), dtype='int8')\n",
    "    if mode == 'train':\n",
    "        set = train_set\n",
    "    else:\n",
    "        set = test_set\n",
    "    for i in range(N):\n",
    "        read_in = open(set[0][inds[i]])\n",
    "        this_clip = pickle.load(read_in)[0] # of shape (nb_frames, 240, 320, 3)\n",
    "        read_in.close()\n",
    "        # flatten the dimensions 1, 2 and 3\n",
    "        this_clip = this_clip.reshape(this_clip.shape[0], -1) # of shape (nb_frames, 240*320*3)\n",
    "        this_clip = (this_clip - 128.).astype('int8')   # this_clip.mean()\n",
    "        X[i] = pad_sequences([this_clip], maxlen=GLOBAL_MAX_LEN, truncating='post', dtype='int8')[0]\n",
    "    Y = set[1][inds]\n",
    "    return [X, Y]\n",
    "\n",
    "\n",
    "# Load the data --------------------------------------------------------------------------------------------------------\n",
    "np.random.seed(11111986)\n",
    "\n",
    "# Settings:\n",
    "\n",
    "CV_setting = 0  # [0, 1, 2, 3, 4]\n",
    "model_type = 1  # 0 for GRU, 1 for LSTM\n",
    "use_TT = 0      # 0 for non-TT, 1 for TT\n",
    "\n",
    "# Had to remove due to anonymity\n",
    "data_path = ''\n",
    "write_out_path = ''\n",
    "\n",
    "classes = ['basketball', 'biking', 'diving', 'golf_swing', 'horse_riding', 'soccer_juggling',\n",
    "           'swing', 'tennis_swing', 'trampoline_jumping', 'volleyball_spiking', 'walking']\n",
    "\n",
    "clips = [None]*11\n",
    "labels = [None]*11\n",
    "sizes = np.zeros(11)\n",
    "for k in range(11):\n",
    "    this_clip = get_clips(classes[k])\n",
    "    clips[k] = this_clip\n",
    "    sizes[k] = len(this_clip)\n",
    "    labels[k] = np.repeat([k], sizes[k])\n",
    "\n",
    "# flatten both lists\n",
    "clips = np.array( [item for sublist in clips for item in sublist] )\n",
    "labels = np.array( [item for sublist in labels for item in sublist] )\n",
    "labels = to_categorical(labels)\n",
    "\n",
    "# iterate through all clips and store the length of each:\n",
    "if False: # first run\n",
    "    lengths = np.zeros(len(clips))\n",
    "    for l in range(len(clips)):\n",
    "        read_in = open(clips[l], 'r')\n",
    "        this_clip = pickle.load(read_in)[0]\n",
    "        read_in.close()\n",
    "        lengths[l] = this_clip.shape[0]\n",
    "\n",
    "\n",
    "GLOBAL_MAX_LEN = 1492\n",
    "\n",
    "shuffle_inds = np.random.choice(range(len(clips)), len(clips), False)\n",
    "clips = clips[shuffle_inds]\n",
    "labels = labels[shuffle_inds]\n",
    "\n",
    "CV_splits = np.array_split(np.arange(len(clips)), 5)\n",
    "\n",
    "test_inds = CV_splits[CV_setting]\n",
    "train_inds = np.setdiff1d(np.arange(len(clips)), test_inds)\n",
    "\n",
    "\n",
    "train_set = [clips[train_inds], labels[train_inds]]\n",
    "test_set = [clips[test_inds], labels[test_inds]]\n",
    "\n",
    "n_tr = len(train_set[0])\n",
    "n_te = len(test_set[0])\n",
    "\n",
    "# X_train, Y_train = load_data(np.arange(0, 128), mode='train')  # small set\n",
    "X_train, Y_train = load_data(np.arange(0, n_tr), mode='train')  # full set\n",
    "# X_test, Y_test = load_data(np.arange(0, 128), mode='test')  # small set\n",
    "X_test, Y_test = load_data(np.arange(0, n_te), mode='test')  # full set\n",
    "\n",
    "\n",
    "# Define the model -----------------------------------------------------------------------------------------------------\n",
    "tt_input_shape = [8, 20, 20, 18]\n",
    "tt_output_shape = [4, 4, 4, 4]\n",
    "tt_ranks = [1, 4, 4, 4, 1]\n",
    "alpha = 1e-2\n",
    "\n",
    "input = Input(shape=(GLOBAL_MAX_LEN, 120*160*3))\n",
    "masked_input = Masking(mask_value=0, input_shape=(GLOBAL_MAX_LEN, 120*160*3))(input)\n",
    "if model_type == 0:\n",
    "    if use_TT == 0:\n",
    "        rnn_layer = GRU(output_dim=np.array(tt_output_shape).prod(),\n",
    "                        return_sequences=False,\n",
    "                        dropout=0.25, recurrent_dropout=0.25, activation='tanh')\n",
    "    else:\n",
    "        rnn_layer = TT_GRU(tt_input_shape=tt_input_shape, tt_output_shape=tt_output_shape,\n",
    "                           tt_ranks=tt_ranks,\n",
    "                           return_sequences=False,\n",
    "                           dropout=0.25, recurrent_dropout=0.25, activation='tanh')\n",
    "else:\n",
    "    if use_TT == 0:\n",
    "        rnn_layer = LSTM(output_dim=np.array(tt_output_shape).prod(),\n",
    "                         return_sequences=False,\n",
    "                         dropout=0.25, recurrent_dropout=0.25, activation='tanh')\n",
    "    else:\n",
    "        rnn_layer = TT_LSTM(tt_input_shape=tt_input_shape, tt_output_shape=tt_output_shape,\n",
    "                           tt_ranks=tt_ranks,\n",
    "                            return_sequences=False,\n",
    "                            dropout=0.25, recurrent_dropout=0.25, activation='tanh')\n",
    "h = rnn_layer(masked_input)\n",
    "output = Dense(output_dim=11, activation='softmax', kernel_regularizer=l2(alpha))(h)\n",
    "model = Model(input, output)\n",
    "model.compile(optimizer=Adam(1e-4), loss='categorical_crossentropy', metrics=['accuracy'])\n",
    "\n",
    "# Start training -------------------------------------------------------------------------------------------------------\n",
    "start = datetime.datetime.now()\n",
    "for l in range(1001):\n",
    "    print('iter ' + str(l))\n",
    "    model.fit(X_train, Y_train, nb_epoch=1, batch_size=16, verbose=1, validation_data=[X_test, Y_test])\n",
    "\n",
    "    # if l % 10 == 0:\n",
    "    #     save_name = str(CV_setting) + '_' + str(model_type) + '_' + str(use_TT)\n",
    "    #     write_out = open(write_out_path + save_name +'.pkl', 'wb')\n",
    "    #     pickle.dump(model.get_weights(), write_out)\n",
    "    #     write_out.close()\n",
    "stop = datetime.datetime.now()\n",
    "print(model.evaluate(X_test, Y_test))\n",
    "\n",
    "\n",
    "compress_factor = 1.\n",
    "if use_TT == 1:\n",
    "    compress_factor = rnn_layer.compress_factor\n"
   ]
  },
  {
   "cell_type": "markdown",
   "metadata": {},
   "source": [
    "# Video Data"
   ]
  },
  {
   "cell_type": "code",
   "execution_count": 2,
   "metadata": {},
   "outputs": [],
   "source": [
    "import tensorflow as tf"
   ]
  },
  {
   "cell_type": "code",
   "execution_count": 3,
   "metadata": {},
   "outputs": [],
   "source": [
    "batch = 10\n",
    "frames = 48\n",
    "\n",
    "#input_temp = tf.random_normal([batch, frames, 120*160*3])\n",
    "\n",
    "input_temp = tf.random_normal([batch, frames, 120*90*3])\n",
    "#input_temp = tf.random_normal([batch, frames, 120*160*3])"
   ]
  },
  {
   "cell_type": "code",
   "execution_count": 4,
   "metadata": {},
   "outputs": [],
   "source": [
    "# Define the model -----------------------------------------------------------------------------------------------------\n",
    "#tt_input_shape = [8, 20, 20, 18]\n",
    "\n",
    "# 120*90*3\n",
    "#tt_input_shape = [12, 15, 15, 12] #2880\n",
    "#tt_input_shape = [4, 45, 45, 4] #6080\n",
    "#tt_input_shape = [2, 90, 90, 2] #11680\n",
    "tt_input_shape = [1, 180, 180, 1] #11680\n",
    "\n",
    "# 120*160*3\n",
    "#tt_input_shape = [12, 20, 20, 12]\n",
    "\n",
    "tt_output_shape = [4, 4, 4, 4]\n",
    "\n",
    "tt_ranks = [1, 4, 4, 4, 1]\n",
    "alpha = 1e-2\n",
    "\n",
    "rnn_layer = TT_LSTM(tt_input_shape=tt_input_shape, tt_output_shape=tt_output_shape,\n",
    "                           tt_ranks=tt_ranks,\n",
    "                            return_sequences=False,\n",
    "                            dropout=0.25, recurrent_dropout=0.25, activation='tanh')\n",
    "\n",
    "# rnn_layer = TT_GRU(tt_input_shape=tt_input_shape, tt_output_shape=tt_output_shape,\n",
    "#                            tt_ranks=tt_ranks,\n",
    "#                            return_sequences=False,\n",
    "#                            dropout=0.25, recurrent_dropout=0.25, activation='tanh')"
   ]
  },
  {
   "cell_type": "code",
   "execution_count": 5,
   "metadata": {},
   "outputs": [
    {
     "name": "stdout",
     "output_type": "stream",
     "text": [
      "Compression factor = 23120 / 33177600 = 0.0006968557098765432\n",
      "Compressrion factor = 0.0006968557098765432\n"
     ]
    }
   ],
   "source": [
    "h = rnn_layer(input_temp)"
   ]
  },
  {
   "cell_type": "code",
   "execution_count": 6,
   "metadata": {},
   "outputs": [
    {
     "data": {
      "text/plain": [
       "<tf.Tensor 'tt_lstm_1/TensorArrayReadV3:0' shape=(10, 256) dtype=float32>"
      ]
     },
     "execution_count": 6,
     "metadata": {},
     "output_type": "execute_result"
    }
   ],
   "source": [
    "h"
   ]
  },
  {
   "cell_type": "markdown",
   "metadata": {},
   "source": [
    "# Audio Data"
   ]
  },
  {
   "cell_type": "code",
   "execution_count": 2,
   "metadata": {},
   "outputs": [],
   "source": [
    "import tensorflow as tf"
   ]
  },
  {
   "cell_type": "code",
   "execution_count": 4,
   "metadata": {},
   "outputs": [],
   "source": [
    "batch = 10\n",
    "frames = 530\n",
    "\n",
    "input_temp = tf.random_normal([batch, frames, 129])"
   ]
  },
  {
   "cell_type": "code",
   "execution_count": 16,
   "metadata": {},
   "outputs": [],
   "source": [
    "# Define the model -----------------------------------------------------------------------------------------------------\n",
    "#tt_input_shape = [8, 20, 20, 18]\n",
    "\n",
    "# 129\n",
    "tt_input_shape = [1, 3, 43, 1] #3024\n",
    "\n",
    "tt_output_shape = [4, 4, 4, 4]\n",
    "\n",
    "tt_ranks = [1, 4, 4, 4, 1]\n",
    "alpha = 1e-2\n",
    "\n",
    "rnn_layer = TT_LSTM(tt_input_shape=tt_input_shape, tt_output_shape=tt_output_shape,\n",
    "                           tt_ranks=tt_ranks,\n",
    "                            return_sequences=False,\n",
    "                            dropout=0.25, recurrent_dropout=0.25, activation='tanh')\n",
    "\n",
    "# rnn_layer = TT_GRU(tt_input_shape=tt_input_shape, tt_output_shape=tt_output_shape,\n",
    "#                            tt_ranks=tt_ranks,\n",
    "#                            return_sequences=False,\n",
    "#                            dropout=0.25, recurrent_dropout=0.25, activation='tanh')"
   ]
  },
  {
   "cell_type": "code",
   "execution_count": 17,
   "metadata": {},
   "outputs": [
    {
     "name": "stdout",
     "output_type": "stream",
     "text": [
      "Compression factor = 3024 / 132096 = 0.022892441860465115\n",
      "Compressrion factor = 0.022892441860465115\n"
     ]
    }
   ],
   "source": [
    "h = rnn_layer(input_temp)"
   ]
  },
  {
   "cell_type": "code",
   "execution_count": 18,
   "metadata": {},
   "outputs": [
    {
     "data": {
      "text/plain": [
       "<tf.Tensor 'tt_lstm_5/TensorArrayReadV3:0' shape=(10, 256) dtype=float32>"
      ]
     },
     "execution_count": 18,
     "metadata": {},
     "output_type": "execute_result"
    }
   ],
   "source": [
    "h"
   ]
  },
  {
   "cell_type": "code",
   "execution_count": null,
   "metadata": {},
   "outputs": [],
   "source": []
  }
 ],
 "metadata": {
  "anaconda-cloud": {},
  "kernelspec": {
   "display_name": "Python 3",
   "language": "python",
   "name": "python3"
  },
  "language_info": {
   "codemirror_mode": {
    "name": "ipython",
    "version": 3
   },
   "file_extension": ".py",
   "mimetype": "text/x-python",
   "name": "python",
   "nbconvert_exporter": "python",
   "pygments_lexer": "ipython3",
   "version": "3.5.4"
  }
 },
 "nbformat": 4,
 "nbformat_minor": 1
}
