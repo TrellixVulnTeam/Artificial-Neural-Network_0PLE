{
 "cells": [
  {
   "cell_type": "code",
   "execution_count": 1,
   "metadata": {},
   "outputs": [],
   "source": [
    "import torch\n",
    "import torchvision\n",
    "import torchvision.transforms as transforms\n",
    "import time"
   ]
  },
  {
   "cell_type": "code",
   "execution_count": 2,
   "metadata": {},
   "outputs": [
    {
     "name": "stdout",
     "output_type": "stream",
     "text": [
      "Files already downloaded and verified\n",
      "Files already downloaded and verified\n"
     ]
    }
   ],
   "source": [
    "transform = transforms.Compose(\n",
    "    [transforms.ToTensor(),\n",
    "     transforms.Normalize((0.5, 0.5, 0.5), (0.5, 0.5, 0.5))]) # GT: why Normalize??\n",
    "\n",
    "trainset = torchvision.datasets.CIFAR10(root='./data', train=True,\n",
    "                                        download=True, transform=transform)\n",
    "trainloader = torch.utils.data.DataLoader(trainset, batch_size=4,\n",
    "                                          shuffle=True, num_workers=2)\n",
    "\n",
    "testset = torchvision.datasets.CIFAR10(root='./data', train=False,\n",
    "                                       download=True, transform=transform)\n",
    "testloader = torch.utils.data.DataLoader(testset, batch_size=4,\n",
    "                                         shuffle=False, num_workers=2)\n",
    "\n",
    "classes = ('plane', 'car', 'bird', 'cat',\n",
    "           'deer', 'dog', 'frog', 'horse', 'ship', 'truck')"
   ]
  },
  {
   "cell_type": "markdown",
   "metadata": {},
   "source": [
    "2. Define a Convolution Neural Network\n",
    "--------------------------------------\n",
    "Copy the neural network from the Neural Networks section before and modify it to\n",
    "take 3-channel images (instead of 1-channel images as it was defined).\n",
    "\n"
   ]
  },
  {
   "cell_type": "code",
   "execution_count": 3,
   "metadata": {},
   "outputs": [
    {
     "name": "stdout",
     "output_type": "stream",
     "text": [
      "CUDA is available\n"
     ]
    }
   ],
   "source": [
    "from torch.autograd import Variable\n",
    "import torch.nn as nn\n",
    "import torch.nn.functional as F\n",
    "\n",
    "\n",
    "class Net(nn.Module):\n",
    "    def __init__(self):\n",
    "        super(Net, self).__init__()\n",
    "        self.conv1 = nn.Conv2d(3, 6, 5) # 3 instead of 1\n",
    "        self.pool = nn.MaxPool2d(2, 2)\n",
    "        self.conv2 = nn.Conv2d(6, 16, 5)\n",
    "        self.fc1 = nn.Linear(16 * 5 * 5, 120)\n",
    "        self.fc2 = nn.Linear(120, 84)\n",
    "        self.fc3 = nn.Linear(84, 10)\n",
    "\n",
    "    def forward(self, x):\n",
    "        x = self.pool(F.relu(self.conv1(x)))\n",
    "        x = self.pool(F.relu(self.conv2(x)))\n",
    "        x = x.view(-1, 16 * 5 * 5)\n",
    "        x = F.relu(self.fc1(x))\n",
    "        x = F.relu(self.fc2(x))\n",
    "        x = self.fc3(x)\n",
    "        return x\n",
    "\n",
    "\n",
    "net = Net()\n",
    "if torch.cuda.is_available():\n",
    "    net.cuda()\n",
    "    print(\"CUDA is available\")"
   ]
  },
  {
   "cell_type": "markdown",
   "metadata": {},
   "source": [
    "3. Define a Loss function and optimizer\n",
    "---------------------------------------\n",
    "\n",
    "Let's use a Classification Cross-Entropy loss and SGD with momentum"
   ]
  },
  {
   "cell_type": "code",
   "execution_count": 4,
   "metadata": {},
   "outputs": [],
   "source": [
    "import torch.optim as optim\n",
    "\n",
    "criterion = nn.CrossEntropyLoss()\n",
    "optimizer = optim.SGD(net.parameters(), lr=0.001, momentum=0.9)"
   ]
  },
  {
   "cell_type": "markdown",
   "metadata": {},
   "source": [
    "4. Train the network\n",
    "--------------------\n",
    "\n",
    "This is when things start to get interesting.\n",
    "We simply have to loop over our data iterator, and feed the inputs to the\n",
    "network and optimize"
   ]
  },
  {
   "cell_type": "code",
   "execution_count": 5,
   "metadata": {},
   "outputs": [
    {
     "name": "stdout",
     "output_type": "stream",
     "text": [
      "[1,  2000] loss: 2.173\n",
      "Time:  0.0018271046214633519  hr\n",
      "[1,  4000] loss: 1.895\n",
      "Time:  0.00290662063492669  hr\n",
      "[1,  6000] loss: 1.706\n",
      "Time:  0.004041897786988153  hr\n",
      "[1,  8000] loss: 1.604\n",
      "Time:  0.005101651416884528  hr\n",
      "[1, 10000] loss: 1.529\n",
      "Time:  0.00621236006418864  hr\n",
      "[1, 12000] loss: 1.484\n",
      "Time:  0.007371726897027757  hr\n",
      "[2,  2000] loss: 1.411\n",
      "Time:  0.008804294798109267  hr\n",
      "[2,  4000] loss: 1.379\n",
      "Time:  0.009797797401746114  hr\n",
      "[2,  6000] loss: 1.373\n",
      "Time:  0.010803036358621385  hr\n",
      "[2,  8000] loss: 1.350\n",
      "Time:  0.011888720525635613  hr\n",
      "[2, 10000] loss: 1.315\n",
      "Time:  0.012992018130090502  hr\n",
      "[2, 12000] loss: 1.308\n",
      "Time:  0.014138858649465774  hr\n",
      "[3,  2000] loss: 1.220\n",
      "Time:  0.015600677066379123  hr\n",
      "[3,  4000] loss: 1.247\n",
      "Time:  0.01672449741098616  hr\n",
      "[3,  6000] loss: 1.216\n",
      "Time:  0.017874894473287793  hr\n",
      "[3,  8000] loss: 1.215\n",
      "Time:  0.01903691530227661  hr\n",
      "[3, 10000] loss: 1.226\n",
      "Time:  0.020208831694391038  hr\n",
      "[3, 12000] loss: 1.187\n",
      "Time:  0.02128401776154836  hr\n",
      "[4,  2000] loss: 1.133\n",
      "Time:  0.022625231875313654  hr\n",
      "[4,  4000] loss: 1.107\n",
      "Time:  0.02380528469880422  hr\n",
      "[4,  6000] loss: 1.165\n",
      "Time:  0.02492528736591339  hr\n",
      "[4,  8000] loss: 1.132\n",
      "Time:  0.02602849774890476  hr\n",
      "[4, 10000] loss: 1.123\n",
      "Time:  0.027137979931301542  hr\n",
      "[4, 12000] loss: 1.141\n",
      "Time:  0.028158959878815545  hr\n",
      "[5,  2000] loss: 1.038\n",
      "Time:  0.029513975116941663  hr\n",
      "[5,  4000] loss: 1.055\n",
      "Time:  0.030531269113222757  hr\n",
      "[5,  6000] loss: 1.066\n",
      "Time:  0.03159473876158397  hr\n",
      "[5,  8000] loss: 1.072\n",
      "Time:  0.03277235203319126  hr\n",
      "[5, 10000] loss: 1.069\n",
      "Time:  0.03390432834625244  hr\n",
      "[5, 12000] loss: 1.058\n",
      "Time:  0.03502624147468143  hr\n",
      "Finished Training\n",
      "The network took  0.03532399978902605  hr to train\n"
     ]
    }
   ],
   "source": [
    "start_time = time.time()\n",
    "# file = open('NetworkConfig_1.txt', 'w')\n",
    "# file.close()\n",
    "\n",
    "for epoch in range(5):  # loop over the dataset multiple times\n",
    "\n",
    "    running_loss = 0.0\n",
    "    for i, data in enumerate(trainloader, 0):\n",
    "        # get the inputs\n",
    "        inputs, labels = data\n",
    "\n",
    "        # wrap them in Variable\n",
    "        #inputs, labels = Variable(inputs), Variable(labels)\n",
    "        \n",
    "        # copy tensors to the GPU\n",
    "        if torch.cuda.is_available():\n",
    "            inputs = Variable(inputs.cuda())\n",
    "            labels = Variable(labels.cuda())\n",
    "        else:\n",
    "            inputs = Variable(inputs)\n",
    "            labels = Variable(labels)\n",
    "\n",
    "        # zero the parameter gradients\n",
    "        optimizer.zero_grad()\n",
    "        \n",
    "        # forward + backward + optimize\n",
    "        outputs = net(inputs)\n",
    "        loss = criterion(outputs, labels)\n",
    "        loss.backward()\n",
    "        optimizer.step()\n",
    "\n",
    "        # print statistics\n",
    "        running_loss += loss.data[0]\n",
    "        if i % 2000 == 1999:    # print every 2000 mini-batches\n",
    "            print('[%d, %5d] loss: %.3f' % (epoch + 1, i + 1, running_loss / 2000))\n",
    "            # writing to a text file\n",
    "            #file = open('NetworkConfig_1.txt', 'a') # append to the file created\n",
    "            #s = \"[\"+str(epoch + 1)+\", \"+str(i + 1)+\"] loss: \"+str(running_loss / 2000)\n",
    "            running_loss = 0.0\n",
    "            \n",
    "            print(\"Time: \", (time.time()-start_time)/(60*60), \" hr\")\n",
    "            #s += \" --> \"+\"Time: \"+str((time.time()-start_time)/(60*60))+\" hr\\n\"\n",
    "            \n",
    "            #file.write(s)\n",
    "            #file.close()\n",
    "\n",
    "print('Finished Training')\n",
    "end_time = time.time()\n",
    "print(\"The network took \", (time.time()-start_time)/(60*60), \" hr to train\")"
   ]
  },
  {
   "cell_type": "markdown",
   "metadata": {},
   "source": [
    "5. Test the network on the test data\n",
    "------------------------------------\n",
    "\n",
    "We have trained the network for 2 passes over the training dataset.\n",
    "But we need to check if the network has learnt anything at all.\n",
    "\n",
    "We will check this by predicting the class label that the neural network\n",
    "outputs, and checking it against the ground-truth. If the prediction is\n",
    "correct, we add the sample to the list of correct predictions.\n",
    "\n",
    "Okay, first step. Let us display an image from the test set to get familiar."
   ]
  },
  {
   "cell_type": "code",
   "execution_count": 6,
   "metadata": {},
   "outputs": [
    {
     "name": "stdout",
     "output_type": "stream",
     "text": [
      "Accuracy of the network on the 10000 test images: 59 %\n"
     ]
    }
   ],
   "source": [
    "correct = 0\n",
    "total = 0\n",
    "for data in testloader:\n",
    "    images, labels = data\n",
    "    outputs = net(Variable(images.cuda()))\n",
    "    _, predicted = torch.max(outputs.data, 1)\n",
    "    total += labels.size(0)\n",
    "    correct += (predicted == labels.cuda()).sum()\n",
    "\n",
    "print('Accuracy of the network on the 10000 test images: %d %%' % (\n",
    "    100 * correct / total))\n",
    "\n",
    "# writing to a text file\n",
    "# file = open('NetworkConfig_1.txt', 'a') # append to the file created\n",
    "# s = \"\\n\\n\\n Accuracy of the network on the 10000 test images: \"+str(100 * correct / total)+\"\\n\\n\\n\"\n",
    "# file.write(s)\n",
    "# file.close()"
   ]
  },
  {
   "cell_type": "markdown",
   "metadata": {},
   "source": [
    "That looks waaay better than chance, which is 10% accuracy (randomly picking\n",
    "a class out of 10 classes).\n",
    "Seems like the network learnt something.\n",
    "\n",
    "Hmmm, what are the classes that performed well, and the classes that did\n",
    "not perform well:\n",
    "\n"
   ]
  },
  {
   "cell_type": "code",
   "execution_count": 7,
   "metadata": {},
   "outputs": [
    {
     "name": "stdout",
     "output_type": "stream",
     "text": [
      "Accuracy of plane : 55 %\n",
      "Accuracy of   car : 70 %\n",
      "Accuracy of  bird : 57 %\n",
      "Accuracy of   cat : 40 %\n",
      "Accuracy of  deer : 51 %\n",
      "Accuracy of   dog : 40 %\n",
      "Accuracy of  frog : 67 %\n",
      "Accuracy of horse : 64 %\n",
      "Accuracy of  ship : 80 %\n",
      "Accuracy of truck : 66 %\n"
     ]
    }
   ],
   "source": [
    "class_correct = list(0. for i in range(10))\n",
    "class_total = list(0. for i in range(10))\n",
    "for data in testloader:\n",
    "    images, labels = data\n",
    "    outputs = net(Variable(images.cuda()))\n",
    "    _, predicted = torch.max(outputs.data, 1)\n",
    "    c = (predicted == labels.cuda()).squeeze() # c will have 4, (0 or 1) values\n",
    "    for i in range(4):\n",
    "        label = labels[i]\n",
    "        class_correct[label] += c[i]\n",
    "        class_total[label] += 1\n",
    "\n",
    "for i in range(10):\n",
    "    print('Accuracy of %5s : %2d %%' % (\n",
    "        classes[i], 100 * class_correct[i] / class_total[i]))\n",
    "\n",
    "    # writing to a text file\n",
    "#     file = open('NetworkConfig_1.txt', 'a') # append to the file created\n",
    "#     s = \"Accuracy of \"+str(classes[i])+\" \"+str(100 * class_correct[i] / class_total[i])+\"\\n\"\n",
    "#     file.write(s)\n",
    "#     file.close()"
   ]
  },
  {
   "cell_type": "code",
   "execution_count": null,
   "metadata": {},
   "outputs": [],
   "source": []
  }
 ],
 "metadata": {
  "kernelspec": {
   "display_name": "Python 3",
   "language": "python",
   "name": "python3"
  },
  "language_info": {
   "codemirror_mode": {
    "name": "ipython",
    "version": 3
   },
   "file_extension": ".py",
   "mimetype": "text/x-python",
   "name": "python",
   "nbconvert_exporter": "python",
   "pygments_lexer": "ipython3",
   "version": "3.5.1+"
  }
 },
 "nbformat": 4,
 "nbformat_minor": 1
}
