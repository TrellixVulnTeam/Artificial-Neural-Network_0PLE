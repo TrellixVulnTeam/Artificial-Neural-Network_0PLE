{
 "cells": [
  {
   "cell_type": "code",
   "execution_count": 1,
   "metadata": {
    "collapsed": true
   },
   "outputs": [],
   "source": [
    "#Inspired by https://github.com/aymericdamien/TensorFlow-Examples/blob/master/examples/3%20-%20Neural%20Networks/recurrent_network.py\n",
    "# https://github.com/nlintz/TensorFlow-Tutorials/blob/master/07_lstm.ipynb\n",
    "import tensorflow as tf\n",
    "import numpy as np\n",
    "from tensorflow.contrib import rnn\n",
    "from tensorflow.examples.tutorials.mnist import input_data"
   ]
  },
  {
   "cell_type": "code",
   "execution_count": 2,
   "metadata": {},
   "outputs": [
    {
     "name": "stdout",
     "output_type": "stream",
     "text": [
      "Extracting ../../../Datasets/MNIST_data/train-images-idx3-ubyte.gz\n",
      "Extracting ../../../Datasets/MNIST_data/train-labels-idx1-ubyte.gz\n",
      "Extracting ../../../Datasets/MNIST_data/t10k-images-idx3-ubyte.gz\n",
      "Extracting ../../../Datasets/MNIST_data/t10k-labels-idx1-ubyte.gz\n"
     ]
    }
   ],
   "source": [
    "# configuration\n",
    "#                        O * W + b -> 10 labels for each image, O[? 28], W[28 10], B[10]\n",
    "#                       ^ (O: output 28 vec from 28 vec input)\n",
    "#                       |\n",
    "#      +-+  +-+       +--+\n",
    "#      |1|->|2|-> ... |28| time_step_size = 28\n",
    "#      +-+  +-+       +--+\n",
    "#       ^    ^    ...  ^\n",
    "#       |    |         |\n",
    "# img1:[28] [28]  ... [28]\n",
    "# img2:[28] [28]  ... [28]\n",
    "# img3:[28] [28]  ... [28]\n",
    "# ...\n",
    "# img128 or img256 (batch_size or test_size 256)\n",
    "#      each input size = input_vec_size=lstm_size=28\n",
    "\n",
    "# configuration variables\n",
    "input_vec_size = lstm_size = 28\n",
    "time_step_size = 28\n",
    "\n",
    "batch_size = 128\n",
    "test_size = 256\n",
    "\n",
    "def init_weights(shape, name):\n",
    "    return tf.Variable(tf.random_normal(shape, stddev=0.01), name=name)\n",
    "\n",
    "def model(X, W, B, lstm_size):\n",
    "    with tf.name_scope('Model'):\n",
    "        # X, input shape: (batch_size, time_step_size, input_vec_size)\n",
    "        XT = tf.transpose(X, [1, 0, 2])  # permute time_step_size and batch_size\n",
    "        # XT shape: (time_step_size, batch_size, input_vec_size)\n",
    "\n",
    "        XR = tf.reshape(XT, [-1, lstm_size]) # each row has input for each lstm cell (lstm_size=input_vec_size)\n",
    "        # XR shape: (time_step_size * batch_size, input_vec_size)\n",
    "        \"\"\"\n",
    "        X_split will contain 28 tensors of shape 'batch_size' x 28\n",
    "        So that, 1st tensor will contain 1st row (28 pixels) of 'batch_size' images\n",
    "        2nd tensor will contain 2nd row (28 pixels) of 'batch_size' images\n",
    "        ...\n",
    "        \"\"\"\n",
    "        X_split = tf.split(XR, time_step_size, 0) # split them to time_step_size (28 arrays)\n",
    "        # Each array shape: (batch_size, input_vec_size)\n",
    "\n",
    "        # Make lstm with lstm_size (each input vector size)\n",
    "        \"\"\"\n",
    "        https://www.tensorflow.org/api_docs/python/tf/contrib/rnn/BasicLSTMCell\n",
    "        BasicLSTMCell(num_units, forget_bias=1.0, state_is_tuple=True, activation=None, reuse=None)\n",
    "        The value of \"num_units\" is it up to you, too high a value may lead to overfitting\n",
    "        or a very low value may yield extremely poor results.\n",
    "        But, the shape of \"outputs\" depends on \"num_units\"\n",
    "        So, define the shape of \"weights\" accourdingly because \"outputs[-1]\" and \"weights\" will be multiplied\n",
    "        \"\"\"\n",
    "        lstm = rnn.BasicLSTMCell(lstm_size, forget_bias=1.0, state_is_tuple=True)\n",
    "\n",
    "        # Get lstm cell output, time_step_size (28) arrays with lstm_size output: (batch_size, lstm_size)\n",
    "        outputs, _states = rnn.static_rnn(lstm, X_split, dtype=tf.float32)\n",
    "\n",
    "        # Linear activation\n",
    "        # Get the last output\n",
    "        print(\"X_split: \", X_split)\n",
    "        print(\"outputs: \", outputs)\n",
    "    return tf.matmul(outputs[-1], W) + B, lstm.state_size # State size to initialize the stat\n",
    "\n",
    "mnist = input_data.read_data_sets(\"../../../Datasets/MNIST_data/\", one_hot=True)\n",
    "trX, trY, teX, teY = mnist.train.images, mnist.train.labels, mnist.test.images, mnist.test.labels\n",
    "# print(len(trX))\n",
    "# print(len(trX[0]))\n",
    "trX = trX.reshape(-1, 28, 28) # (55000, 28, 28)\n",
    "# print(len(trX))\n",
    "# print(len(trX[0]))\n",
    "# print(len(trX[0][0]))\n",
    "teX = teX.reshape(-1, 28, 28)"
   ]
  },
  {
   "cell_type": "code",
   "execution_count": 3,
   "metadata": {},
   "outputs": [
    {
     "name": "stdout",
     "output_type": "stream",
     "text": [
      "Tensor(\"transpose:0\", shape=(28, 55000, 28), dtype=float32)\n",
      "Tensor(\"Reshape:0\", shape=(1540000, 28), dtype=float32)\n",
      "[<tf.Tensor 'split:0' shape=(55000, 28) dtype=float32>, <tf.Tensor 'split:1' shape=(55000, 28) dtype=float32>, <tf.Tensor 'split:2' shape=(55000, 28) dtype=float32>, <tf.Tensor 'split:3' shape=(55000, 28) dtype=float32>, <tf.Tensor 'split:4' shape=(55000, 28) dtype=float32>, <tf.Tensor 'split:5' shape=(55000, 28) dtype=float32>, <tf.Tensor 'split:6' shape=(55000, 28) dtype=float32>, <tf.Tensor 'split:7' shape=(55000, 28) dtype=float32>, <tf.Tensor 'split:8' shape=(55000, 28) dtype=float32>, <tf.Tensor 'split:9' shape=(55000, 28) dtype=float32>, <tf.Tensor 'split:10' shape=(55000, 28) dtype=float32>, <tf.Tensor 'split:11' shape=(55000, 28) dtype=float32>, <tf.Tensor 'split:12' shape=(55000, 28) dtype=float32>, <tf.Tensor 'split:13' shape=(55000, 28) dtype=float32>, <tf.Tensor 'split:14' shape=(55000, 28) dtype=float32>, <tf.Tensor 'split:15' shape=(55000, 28) dtype=float32>, <tf.Tensor 'split:16' shape=(55000, 28) dtype=float32>, <tf.Tensor 'split:17' shape=(55000, 28) dtype=float32>, <tf.Tensor 'split:18' shape=(55000, 28) dtype=float32>, <tf.Tensor 'split:19' shape=(55000, 28) dtype=float32>, <tf.Tensor 'split:20' shape=(55000, 28) dtype=float32>, <tf.Tensor 'split:21' shape=(55000, 28) dtype=float32>, <tf.Tensor 'split:22' shape=(55000, 28) dtype=float32>, <tf.Tensor 'split:23' shape=(55000, 28) dtype=float32>, <tf.Tensor 'split:24' shape=(55000, 28) dtype=float32>, <tf.Tensor 'split:25' shape=(55000, 28) dtype=float32>, <tf.Tensor 'split:26' shape=(55000, 28) dtype=float32>, <tf.Tensor 'split:27' shape=(55000, 28) dtype=float32>]\n"
     ]
    }
   ],
   "source": [
    "XT = tf.transpose(trX, [1, 0, 2])\n",
    "print(XT)\n",
    "XR = tf.reshape(XT, [-1, lstm_size])\n",
    "print(XR)\n",
    "X_split = tf.split(XR, time_step_size, 0)\n",
    "print(X_split)"
   ]
  },
  {
   "cell_type": "raw",
   "metadata": {},
   "source": [
    "\"\"\"\n",
    "Prints the image\n",
    "Input: image pixels in list\n",
    "\"\"\"\n",
    "from matplotlib import pyplot as plt\n",
    "\n",
    "def print_image(image, title):\n",
    "    plt.imshow(image, cmap=plt.cm.gray)\n",
    "    plt.title(title)\n",
    "    #plt.colorbar()\n",
    "    plt.show()\n",
    "\n",
    "print_image(trX[5700], \"Original Image\")"
   ]
  },
  {
   "cell_type": "code",
   "execution_count": 4,
   "metadata": {},
   "outputs": [
    {
     "name": "stdout",
     "output_type": "stream",
     "text": [
      "W:  <tf.Variable 'Weights:0' shape=(28, 10) dtype=float32_ref>\n",
      "B:  <tf.Variable 'Bias:0' shape=(10,) dtype=float32_ref>\n",
      "X_split:  [<tf.Tensor 'Model/split:0' shape=(?, 28) dtype=float32>, <tf.Tensor 'Model/split:1' shape=(?, 28) dtype=float32>, <tf.Tensor 'Model/split:2' shape=(?, 28) dtype=float32>, <tf.Tensor 'Model/split:3' shape=(?, 28) dtype=float32>, <tf.Tensor 'Model/split:4' shape=(?, 28) dtype=float32>, <tf.Tensor 'Model/split:5' shape=(?, 28) dtype=float32>, <tf.Tensor 'Model/split:6' shape=(?, 28) dtype=float32>, <tf.Tensor 'Model/split:7' shape=(?, 28) dtype=float32>, <tf.Tensor 'Model/split:8' shape=(?, 28) dtype=float32>, <tf.Tensor 'Model/split:9' shape=(?, 28) dtype=float32>, <tf.Tensor 'Model/split:10' shape=(?, 28) dtype=float32>, <tf.Tensor 'Model/split:11' shape=(?, 28) dtype=float32>, <tf.Tensor 'Model/split:12' shape=(?, 28) dtype=float32>, <tf.Tensor 'Model/split:13' shape=(?, 28) dtype=float32>, <tf.Tensor 'Model/split:14' shape=(?, 28) dtype=float32>, <tf.Tensor 'Model/split:15' shape=(?, 28) dtype=float32>, <tf.Tensor 'Model/split:16' shape=(?, 28) dtype=float32>, <tf.Tensor 'Model/split:17' shape=(?, 28) dtype=float32>, <tf.Tensor 'Model/split:18' shape=(?, 28) dtype=float32>, <tf.Tensor 'Model/split:19' shape=(?, 28) dtype=float32>, <tf.Tensor 'Model/split:20' shape=(?, 28) dtype=float32>, <tf.Tensor 'Model/split:21' shape=(?, 28) dtype=float32>, <tf.Tensor 'Model/split:22' shape=(?, 28) dtype=float32>, <tf.Tensor 'Model/split:23' shape=(?, 28) dtype=float32>, <tf.Tensor 'Model/split:24' shape=(?, 28) dtype=float32>, <tf.Tensor 'Model/split:25' shape=(?, 28) dtype=float32>, <tf.Tensor 'Model/split:26' shape=(?, 28) dtype=float32>, <tf.Tensor 'Model/split:27' shape=(?, 28) dtype=float32>]\n",
      "outputs:  [<tf.Tensor 'Model/rnn/rnn/basic_lstm_cell/mul_2:0' shape=(?, 28) dtype=float32>, <tf.Tensor 'Model/rnn/rnn/basic_lstm_cell/mul_5:0' shape=(?, 28) dtype=float32>, <tf.Tensor 'Model/rnn/rnn/basic_lstm_cell/mul_8:0' shape=(?, 28) dtype=float32>, <tf.Tensor 'Model/rnn/rnn/basic_lstm_cell/mul_11:0' shape=(?, 28) dtype=float32>, <tf.Tensor 'Model/rnn/rnn/basic_lstm_cell/mul_14:0' shape=(?, 28) dtype=float32>, <tf.Tensor 'Model/rnn/rnn/basic_lstm_cell/mul_17:0' shape=(?, 28) dtype=float32>, <tf.Tensor 'Model/rnn/rnn/basic_lstm_cell/mul_20:0' shape=(?, 28) dtype=float32>, <tf.Tensor 'Model/rnn/rnn/basic_lstm_cell/mul_23:0' shape=(?, 28) dtype=float32>, <tf.Tensor 'Model/rnn/rnn/basic_lstm_cell/mul_26:0' shape=(?, 28) dtype=float32>, <tf.Tensor 'Model/rnn/rnn/basic_lstm_cell/mul_29:0' shape=(?, 28) dtype=float32>, <tf.Tensor 'Model/rnn/rnn/basic_lstm_cell/mul_32:0' shape=(?, 28) dtype=float32>, <tf.Tensor 'Model/rnn/rnn/basic_lstm_cell/mul_35:0' shape=(?, 28) dtype=float32>, <tf.Tensor 'Model/rnn/rnn/basic_lstm_cell/mul_38:0' shape=(?, 28) dtype=float32>, <tf.Tensor 'Model/rnn/rnn/basic_lstm_cell/mul_41:0' shape=(?, 28) dtype=float32>, <tf.Tensor 'Model/rnn/rnn/basic_lstm_cell/mul_44:0' shape=(?, 28) dtype=float32>, <tf.Tensor 'Model/rnn/rnn/basic_lstm_cell/mul_47:0' shape=(?, 28) dtype=float32>, <tf.Tensor 'Model/rnn/rnn/basic_lstm_cell/mul_50:0' shape=(?, 28) dtype=float32>, <tf.Tensor 'Model/rnn/rnn/basic_lstm_cell/mul_53:0' shape=(?, 28) dtype=float32>, <tf.Tensor 'Model/rnn/rnn/basic_lstm_cell/mul_56:0' shape=(?, 28) dtype=float32>, <tf.Tensor 'Model/rnn/rnn/basic_lstm_cell/mul_59:0' shape=(?, 28) dtype=float32>, <tf.Tensor 'Model/rnn/rnn/basic_lstm_cell/mul_62:0' shape=(?, 28) dtype=float32>, <tf.Tensor 'Model/rnn/rnn/basic_lstm_cell/mul_65:0' shape=(?, 28) dtype=float32>, <tf.Tensor 'Model/rnn/rnn/basic_lstm_cell/mul_68:0' shape=(?, 28) dtype=float32>, <tf.Tensor 'Model/rnn/rnn/basic_lstm_cell/mul_71:0' shape=(?, 28) dtype=float32>, <tf.Tensor 'Model/rnn/rnn/basic_lstm_cell/mul_74:0' shape=(?, 28) dtype=float32>, <tf.Tensor 'Model/rnn/rnn/basic_lstm_cell/mul_77:0' shape=(?, 28) dtype=float32>, <tf.Tensor 'Model/rnn/rnn/basic_lstm_cell/mul_80:0' shape=(?, 28) dtype=float32>, <tf.Tensor 'Model/rnn/rnn/basic_lstm_cell/mul_83:0' shape=(?, 28) dtype=float32>]\n",
      "py_x:  Tensor(\"add:0\", shape=(?, 10), dtype=float32)\n"
     ]
    },
    {
     "data": {
      "text/plain": [
       "<tf.Tensor 'accuracy:0' shape=() dtype=string>"
      ]
     },
     "execution_count": 4,
     "metadata": {},
     "output_type": "execute_result"
    }
   ],
   "source": [
    "X = tf.placeholder(\"float\", [None, 28, 28], name='InputData')\n",
    "Y = tf.placeholder(\"float\", [None, 10], name='LabelData')\n",
    "\n",
    "# get lstm_size and output 10 labels\n",
    "W = init_weights([lstm_size, 10], \"Weights\")\n",
    "B = init_weights([10], \"Bias\")\n",
    "print(\"W: \", W)\n",
    "print(\"B: \", B)\n",
    "\n",
    "tf.summary.histogram(\"weights\", W)\n",
    "tf.summary.histogram(\"biases\", B)\n",
    "\n",
    "py_x, state_size = model(X, W, B, lstm_size)\n",
    "\n",
    "print(\"py_x: \", py_x)\n",
    "\n",
    "with tf.name_scope('Loss'):\n",
    "    cost = tf.reduce_mean(tf.nn.softmax_cross_entropy_with_logits(logits=py_x, labels=Y))\n",
    "tf.summary.scalar(\"loss\", cost) # Create a summary to monitor loss_op tensor\n",
    "\n",
    "train_op = tf.train.RMSPropOptimizer(0.001, 0.9).minimize(cost)\n",
    "\n",
    "predict_op = tf.argmax(py_x, 1)\n",
    "\n",
    "prediction = tf.nn.softmax(py_x)\n",
    "correct_pred = tf.equal(tf.argmax(prediction, 1), tf.argmax(Y, 1))\n",
    "with tf.name_scope('Accuracy'):\n",
    "    accuracy = tf.reduce_mean(tf.cast(correct_pred, tf.float32))\n",
    "tf.summary.scalar(\"accuracy\", accuracy) # Create a summary to monitor accuracy tensor"
   ]
  },
  {
   "cell_type": "code",
   "execution_count": 5,
   "metadata": {
    "collapsed": true
   },
   "outputs": [],
   "source": [
    "import shutil, os\n",
    "if os.path.exists(\"rnn_mnist_logs_2/\"):\n",
    "    shutil.rmtree(\"rnn_mnist_logs_2/\")"
   ]
  },
  {
   "cell_type": "code",
   "execution_count": 6,
   "metadata": {
    "scrolled": false
   },
   "outputs": [
    {
     "name": "stdout",
     "output_type": "stream",
     "text": [
      "0 0.64453125\n",
      "1 0.80078125\n",
      "2 0.87109375\n",
      "3 0.92578125\n",
      "4 0.90234375\n",
      "5 0.95703125\n",
      "6 0.96875\n",
      "7 0.9765625\n",
      "8 0.97265625\n",
      "9 0.98046875\n"
     ]
    }
   ],
   "source": [
    "training_epochs = 10\n",
    "\n",
    "# Launch the graph in a session\n",
    "with tf.Session() as sess:\n",
    "    # you need to initialize all variables\n",
    "    tf.global_variables_initializer().run()\n",
    "    \n",
    "    summary_op = tf.summary.merge_all() # Merge all summaries into a single op\n",
    "    summary_writer = tf.summary.FileWriter(\"rnn_mnist_logs_2/\", graph=tf.get_default_graph())\n",
    "    \n",
    "    saver = tf.train.Saver(max_to_keep=2)\n",
    "\n",
    "    for epoch in range(training_epochs):\n",
    "        for start, end in zip(range(0, len(trX), batch_size), range(batch_size, len(trX)+1, batch_size)):\n",
    "            sess.run(train_op, feed_dict={X: trX[start:end], Y: trY[start:end]})\n",
    "            # Write logs at every iteration\n",
    "            summary_str = sess.run(summary_op, feed_dict={X: trX[start:end], Y: trY[start:end]})\n",
    "            summary_writer.add_summary(summary_str, epoch)\n",
    "            \n",
    "        # Save checkpoint\n",
    "        saver.save(sess, \"rnn_mnist_logs_2/model-checkpoint\", epoch)\n",
    "\n",
    "        test_indices = np.arange(len(teX))  # Get A Test Batch\n",
    "        np.random.shuffle(test_indices)\n",
    "        test_indices = test_indices[0:test_size]\n",
    "\n",
    "        print(epoch, np.mean(np.argmax(teY[test_indices], axis=1) == sess.run(predict_op, feed_dict={X: teX[test_indices]})))"
   ]
  },
  {
   "cell_type": "code",
   "execution_count": null,
   "metadata": {
    "collapsed": true
   },
   "outputs": [],
   "source": []
  }
 ],
 "metadata": {
  "kernelspec": {
   "display_name": "Python 3",
   "language": "python",
   "name": "python3"
  },
  "language_info": {
   "codemirror_mode": {
    "name": "ipython",
    "version": 3
   },
   "file_extension": ".py",
   "mimetype": "text/x-python",
   "name": "python",
   "nbconvert_exporter": "python",
   "pygments_lexer": "ipython3",
   "version": "3.5.4"
  }
 },
 "nbformat": 4,
 "nbformat_minor": 1
}
