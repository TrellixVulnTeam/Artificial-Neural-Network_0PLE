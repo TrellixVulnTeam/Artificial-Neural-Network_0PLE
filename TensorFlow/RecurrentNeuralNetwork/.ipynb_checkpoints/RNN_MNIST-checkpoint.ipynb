{
 "cells": [
  {
   "cell_type": "markdown",
   "metadata": {
    "collapsed": true
   },
   "source": [
    "# Recurrent Neural Network Example\n",
    "\n",
    "Build a recurrent neural network (LSTM) with TensorFlow.\n",
    "- https://github.com/aymericdamien/TensorFlow-Examples/blob/master/notebooks/3_NeuralNetworks/recurrent_network.ipynb"
   ]
  },
  {
   "cell_type": "markdown",
   "metadata": {},
   "source": [
    "## RNN Overview\n",
    "\n",
    "![RNN-unrolled](RNN-unrolled.png)\n",
    "\n",
    "References:\n",
    "- [Long Short Term Memory](http://deeplearning.cs.cmu.edu/pdfs/Hochreiter97_lstm.pdf), Sepp Hochreiter & Jurgen Schmidhuber, Neural Computation 9(8): 1735-1780, 1997.\n",
    "\n",
    "## MNIST Dataset Overview\n",
    "\n",
    "This example is using MNIST handwritten digits.\n",
    "The dataset contains 60,000 examples for training and 10,000 examples for testing.\n",
    "The digits have been size-normalized and centered in a fixed-size image (28x28 pixels) with values from 0 to 1.\n",
    "For simplicity, each image has been flattened and converted to a 1-D numpy array of 784 features (28*28).\n",
    "\n",
    "![MNIST Dataset](mnist_100_digits.png)\n",
    "\n",
    "<u>To classify images using a recurrent neural network, we consider every image row as a sequence of pixels.\n",
    "Because MNIST image shape is 28*28px, we will then handle 28 sequences of 28 timesteps for every sample.</u>\n",
    "\n",
    "More info: http://yann.lecun.com/exdb/mnist/"
   ]
  },
  {
   "cell_type": "raw",
   "metadata": {},
   "source": [
    "tensorboard --logdir \"rnn_mnist_logs\"\n",
    "http://DESKTOP-NIHBEK3:6006"
   ]
  },
  {
   "cell_type": "code",
   "execution_count": 1,
   "metadata": {},
   "outputs": [
    {
     "name": "stdout",
     "output_type": "stream",
     "text": [
      "Extracting ../../../Datasets/MNIST_data/train-images-idx3-ubyte.gz\n",
      "Extracting ../../../Datasets/MNIST_data/train-labels-idx1-ubyte.gz\n",
      "Extracting ../../../Datasets/MNIST_data/t10k-images-idx3-ubyte.gz\n",
      "Extracting ../../../Datasets/MNIST_data/t10k-labels-idx1-ubyte.gz\n"
     ]
    }
   ],
   "source": [
    "from __future__ import print_function\n",
    "\n",
    "import tensorflow as tf\n",
    "from tensorflow.contrib import rnn\n",
    "\n",
    "# Import MNIST data\n",
    "from tensorflow.examples.tutorials.mnist import input_data\n",
    "mnist = input_data.read_data_sets(\"../../../Datasets/MNIST_data/\", one_hot=True)"
   ]
  },
  {
   "cell_type": "code",
   "execution_count": 2,
   "metadata": {},
   "outputs": [],
   "source": [
    "# Training Parameters\n",
    "learning_rate = 0.001\n",
    "training_epochs = 1000\n",
    "batch_size = 128\n",
    "display_step = 200\n",
    "\n",
    "# Network Parameters\n",
    "num_input = 28 # MNIST data input (img shape: 28*28)\n",
    "timesteps = 28 # timesteps\n",
    "num_hidden = 128 # hidden layer num of features\n",
    "num_classes = 10 # MNIST total classes (0-9 digits)\n",
    "\n",
    "# tf Graph input\n",
    "X = tf.placeholder(\"float\", [None, timesteps, num_input], name='InputData')\n",
    "Y = tf.placeholder(\"float\", [None, num_classes], name='LabelData')"
   ]
  },
  {
   "cell_type": "code",
   "execution_count": 3,
   "metadata": {},
   "outputs": [
    {
     "data": {
      "text/plain": [
       "<tf.Tensor 'biases:0' shape=() dtype=string>"
      ]
     },
     "execution_count": 3,
     "metadata": {},
     "output_type": "execute_result"
    }
   ],
   "source": [
    "# Define weights\n",
    "weights = {\n",
    "    'out': tf.Variable(tf.random_normal([num_hidden, num_classes]), name='Weights')\n",
    "}\n",
    "biases = {\n",
    "    'out': tf.Variable(tf.random_normal([num_classes]), name='Bias')\n",
    "}\n",
    "\n",
    "tf.summary.histogram(\"weights\", weights['out'])\n",
    "tf.summary.histogram(\"biases\", biases['out'])"
   ]
  },
  {
   "cell_type": "code",
   "execution_count": 4,
   "metadata": {},
   "outputs": [
    {
     "name": "stdout",
     "output_type": "stream",
     "text": [
      "<tf.Variable 'Weights:0' shape=(128, 10) dtype=float32_ref>\n"
     ]
    }
   ],
   "source": [
    "sess = tf.Session()\n",
    "#print(sess.run(tf.random_normal([num_hidden, num_classes])))\n",
    "#print(sess.run(tf.random_normal([num_classes])))\n",
    "print(weights['out'])"
   ]
  },
  {
   "cell_type": "code",
   "execution_count": 5,
   "metadata": {},
   "outputs": [],
   "source": [
    "def RNN(x, weights, biases):\n",
    "    with tf.name_scope('Model'):\n",
    "        # Prepare data shape to match `rnn` function requirements\n",
    "        # Current data input shape: (batch_size, timesteps, n_input)\n",
    "        # Required shape: 'timesteps' tensors list of shape (batch_size, n_input)\n",
    "\n",
    "        # Unstack to get a list of 'timesteps' tensors of shape (batch_size, n_input)\n",
    "        \"\"\"\n",
    "        x will contain 28 tensors of shape 128 x 28\n",
    "        So that, 1st tensor will contain 1st row (28 pixels) of 128 images\n",
    "        2nd tensor will contain 2nd row (28 pixels) of 128 images\n",
    "        ...\n",
    "        \"\"\"\n",
    "        x = tf.unstack(x, timesteps, 1)\n",
    "\n",
    "        # Define a lstm cell with tensorflow\n",
    "        \"\"\"\n",
    "        https://www.tensorflow.org/api_docs/python/tf/contrib/rnn/BasicLSTMCell\n",
    "        BasicLSTMCell(num_units, forget_bias=1.0, state_is_tuple=True, activation=None, reuse=None)\n",
    "        The value of \"num_units\" is it up to you, too high a value may lead to overfitting\n",
    "        or a very low value may yield extremely poor results.\n",
    "        But, the shape of \"outputs\" depends on \"num_units\"\n",
    "        So, define the shape of \"weights\" accourdingly because \"outputs[-1]\" and \"weights\" will be multiplied\n",
    "        \"\"\"\n",
    "        lstm_cell = rnn.BasicLSTMCell(num_hidden, forget_bias=1.0)\n",
    "\n",
    "        # Get lstm cell output\n",
    "        \"\"\"\n",
    "        https://www.tensorflow.org/api_docs/python/tf/nn/static_rnn\n",
    "        static_rnn(cell, inputs, initial_state=None, dtype=None, sequence_length=None, scope=None)\n",
    "        inputs: A length T list of inputs, each a Tensor of shape [batch_size, input_size], or a nested tuple of such elements.\n",
    "        \"\"\"\n",
    "        outputs, states = rnn.static_rnn(lstm_cell, x, dtype=tf.float32)\n",
    "\n",
    "        # Linear activation, using rnn inner loop last output\n",
    "        \"\"\"\n",
    "        Last tensor: outputs[-1]\n",
    "        \"\"\"\n",
    "        print(\"x[-1]: \", x[-1])\n",
    "        print(\"outputs: \", outputs)\n",
    "        print(\"outputs[-1]: \", outputs[-1])\n",
    "        print(\"tf.matmul(outputs[-1], weights['out']) + biases['out']: \", tf.matmul(outputs[-1], weights['out']) + biases['out'])\n",
    "    return tf.matmul(outputs[-1], weights['out']) + biases['out']"
   ]
  },
  {
   "cell_type": "code",
   "execution_count": 6,
   "metadata": {},
   "outputs": [
    {
     "name": "stdout",
     "output_type": "stream",
     "text": [
      "batch_x:  [[0. 0. 0. ... 0. 0. 0.]\n",
      " [0. 0. 0. ... 0. 0. 0.]\n",
      " [0. 0. 0. ... 0. 0. 0.]\n",
      " ...\n",
      " [0. 0. 0. ... 0. 0. 0.]\n",
      " [0. 0. 0. ... 0. 0. 0.]\n",
      " [0. 0. 0. ... 0. 0. 0.]]\n",
      "(128, 784)\n",
      "batch_x:  [0. 0. 0. 0. 0. 0. 0. 0. 0. 0. 0. 0. 0. 0. 0. 0. 0. 0. 0. 0. 0. 0. 0. 0.\n",
      " 0. 0. 0. 0.]\n",
      "(128, 28, 28)\n",
      "x:  [<tf.Tensor 'unstack:0' shape=(128, 28) dtype=float32>, <tf.Tensor 'unstack:1' shape=(128, 28) dtype=float32>, <tf.Tensor 'unstack:2' shape=(128, 28) dtype=float32>, <tf.Tensor 'unstack:3' shape=(128, 28) dtype=float32>, <tf.Tensor 'unstack:4' shape=(128, 28) dtype=float32>, <tf.Tensor 'unstack:5' shape=(128, 28) dtype=float32>, <tf.Tensor 'unstack:6' shape=(128, 28) dtype=float32>, <tf.Tensor 'unstack:7' shape=(128, 28) dtype=float32>, <tf.Tensor 'unstack:8' shape=(128, 28) dtype=float32>, <tf.Tensor 'unstack:9' shape=(128, 28) dtype=float32>, <tf.Tensor 'unstack:10' shape=(128, 28) dtype=float32>, <tf.Tensor 'unstack:11' shape=(128, 28) dtype=float32>, <tf.Tensor 'unstack:12' shape=(128, 28) dtype=float32>, <tf.Tensor 'unstack:13' shape=(128, 28) dtype=float32>, <tf.Tensor 'unstack:14' shape=(128, 28) dtype=float32>, <tf.Tensor 'unstack:15' shape=(128, 28) dtype=float32>, <tf.Tensor 'unstack:16' shape=(128, 28) dtype=float32>, <tf.Tensor 'unstack:17' shape=(128, 28) dtype=float32>, <tf.Tensor 'unstack:18' shape=(128, 28) dtype=float32>, <tf.Tensor 'unstack:19' shape=(128, 28) dtype=float32>, <tf.Tensor 'unstack:20' shape=(128, 28) dtype=float32>, <tf.Tensor 'unstack:21' shape=(128, 28) dtype=float32>, <tf.Tensor 'unstack:22' shape=(128, 28) dtype=float32>, <tf.Tensor 'unstack:23' shape=(128, 28) dtype=float32>, <tf.Tensor 'unstack:24' shape=(128, 28) dtype=float32>, <tf.Tensor 'unstack:25' shape=(128, 28) dtype=float32>, <tf.Tensor 'unstack:26' shape=(128, 28) dtype=float32>, <tf.Tensor 'unstack:27' shape=(128, 28) dtype=float32>]\n",
      "x[-1]:  Tensor(\"unstack:27\", shape=(128, 28), dtype=float32)\n"
     ]
    }
   ],
   "source": [
    "batch_x, batch_y = mnist.train.next_batch(batch_size)\n",
    "print(\"batch_x: \", batch_x)\n",
    "print(batch_x.shape)\n",
    "# Reshape data to get 28 seq of 28 elements\n",
    "batch_x = batch_x.reshape((batch_size, timesteps, num_input)) # 128, 28, 28\n",
    "print(\"batch_x: \", batch_x[0][0])\n",
    "print(batch_x.shape)\n",
    "# Unstack to get a list of 'timesteps' tensors of shape (batch_size, n_input)\n",
    "x = tf.unstack(batch_x, timesteps, 1) # 128, 28\n",
    "print(\"x: \", x)\n",
    "print(\"x[-1]: \", x[-1])\n",
    "#print(sess.run(x))"
   ]
  },
  {
   "cell_type": "code",
   "execution_count": 7,
   "metadata": {},
   "outputs": [
    {
     "name": "stdout",
     "output_type": "stream",
     "text": [
      "Tensor(\"add:0\", shape=(28, 10), dtype=float32)\n",
      "[[ 3.29752159e+00  4.37069941e+00  1.59395611e+00  3.31224132e+00\n",
      "  -1.99432230e+00 -5.13903618e+00 -1.08543005e+01  1.10779610e+01\n",
      "   2.25648251e+01 -3.76568866e+00]\n",
      " [ 9.36248970e+00 -2.84897766e+01 -9.49989128e+00  6.15660954e+00\n",
      "   2.02667103e+01 -1.51861930e+00 -3.56241584e-01  1.19408197e+01\n",
      "   1.21985030e+00 -1.00523214e+01]\n",
      " [-1.64627762e+01  1.14455976e+01  4.75931454e+00 -1.11495466e+01\n",
      "  -4.98004723e+00  1.02029905e+01 -1.61908472e+00  1.24618406e+01\n",
      "  -9.79579735e+00 -3.51956987e+00]\n",
      " [ 8.80144882e+00 -3.56579351e+00 -1.16920605e+01  6.75025272e+00\n",
      "  -7.87367249e+00 -6.35626507e+00 -1.46950655e+01 -1.04149513e+01\n",
      "   9.79238033e+00  7.73026228e+00]\n",
      " [ 5.98417997e+00  7.30743289e-01  5.97156286e+00 -9.24335098e+00\n",
      "  -3.81106424e+00 -3.53342628e+00 -3.84078979e+00 -9.87462807e+00\n",
      "  -1.03653498e+01 -1.20984211e+01]\n",
      " [-2.08819008e+01  1.70863457e+01  1.92818565e+01  1.69200764e+01\n",
      "  -6.58955288e+00  1.59923906e+01 -2.31935263e+00  2.60581088e+00\n",
      "  -2.50804806e+01 -2.44201641e+01]\n",
      " [ 4.37470770e+00  1.24065828e+01 -8.83080482e+00 -4.87457132e+00\n",
      "  -8.01477814e+00 -5.77030241e-01  3.04893541e+00 -1.27493696e+01\n",
      "   6.73138428e+00  1.86195183e+01]\n",
      " [-1.16615582e+01  1.43688297e+01 -2.37208319e+00  2.89088416e+00\n",
      "   1.25330019e+01 -1.59995127e+00  1.08720999e+01 -8.80125427e+00\n",
      "  -5.76543522e+00  7.92037964e-01]\n",
      " [ 8.99423409e+00 -2.26738262e+01  1.57276344e+01  1.44018316e+01\n",
      "  -6.88713837e+00  2.21269875e+01 -7.44973540e-01 -6.00378036e+00\n",
      "   7.33628178e+00 -1.27655354e+01]\n",
      " [-1.18079686e+00  4.99851751e+00  1.01307144e+01 -3.57535100e+00\n",
      "   7.85426426e+00 -1.32409935e+01 -1.40369785e+00  6.68201208e-01\n",
      "  -2.12461448e+00  8.77097416e+00]\n",
      " [ 1.07277737e+01  6.81823874e+00  1.93045008e+00  1.57928591e+01\n",
      "  -8.74363995e+00 -8.84925652e+00 -3.11814642e+00 -1.22455616e+01\n",
      "  -1.01386318e+01 -1.61627799e-01]\n",
      " [-1.25348110e+01 -1.80706596e+01  1.86750793e+01  4.43408966e+00\n",
      "  -4.63995743e+00 -1.67679081e+01  6.10743761e+00 -2.13436770e+00\n",
      "  -3.86421084e+00 -2.79388666e+00]\n",
      " [ 2.65751815e+00 -6.37594366e+00  1.16663656e+01 -2.29091034e+01\n",
      "   2.00957756e+01 -1.74517803e+01 -8.17508507e+00 -1.31872249e+00\n",
      "   4.04936314e+00 -3.39422846e+00]\n",
      " [ 2.79773140e+01  3.23685951e+01  1.23851471e+01 -2.09193993e+01\n",
      "   2.14238667e+00 -7.47735023e+00 -1.72562447e+01 -1.78881989e+01\n",
      "  -2.58655477e+00 -2.93248558e+00]\n",
      " [ 1.62108207e+00 -1.66993582e+00 -2.40014725e+01  6.57656193e+00\n",
      "  -4.57843065e-01 -3.72690439e+00 -5.36905193e+00  1.03643723e+01\n",
      "   1.85428505e+01 -4.03613377e+00]\n",
      " [ 9.33106804e+00  6.90855742e+00  3.01477098e+00  1.56779203e+01\n",
      "   5.66952229e+00 -7.53211403e+00 -9.98295975e+00  8.67092800e+00\n",
      "   1.16438494e+01  2.79986572e+00]\n",
      " [-8.73713875e+00 -7.31874609e+00  1.25777340e+01  4.16787910e+00\n",
      "  -1.37497644e+01 -3.35013485e+00 -1.82216775e+00 -3.84080172e-01\n",
      "   1.74141908e+00 -3.74923372e+00]\n",
      " [ 1.12022705e+01  1.17157364e+01  1.06191218e+00  4.32837009e-02\n",
      "  -1.31038370e+01  4.57038784e+00  7.03368235e+00 -2.98731728e+01\n",
      "  -9.74725723e+00 -1.09156742e+01]\n",
      " [ 1.62967224e+01  2.04834671e+01 -1.34963741e+01 -1.08386650e+01\n",
      "  -4.15948153e-01  2.29973817e+00  3.61048412e+00  6.57041168e+00\n",
      "  -4.70566559e+00 -6.76564837e+00]\n",
      " [ 1.66869011e+01  7.44560957e-02 -8.59595203e+00  3.43288064e+00\n",
      "  -5.39645958e+00 -6.95454216e+00  5.19287920e+00 -4.33757782e+00\n",
      "   4.70488405e+00  1.06311960e+01]\n",
      " [-2.29381065e+01  1.58042297e+01  2.16549416e+01  8.56977940e+00\n",
      "  -8.60392857e+00 -6.87779713e+00  9.69832039e+00 -3.04834080e+00\n",
      "   7.43362725e-01 -8.38655472e-01]\n",
      " [-1.89313660e+01 -1.52133408e+01  1.47382021e+01  2.21128025e+01\n",
      "  -9.18162584e-01 -1.29440317e+01  6.38528299e+00  2.65018120e+01\n",
      "  -4.05575037e+00  1.04280396e+01]\n",
      " [ 4.91814280e+00 -1.85711880e+01 -6.73550272e+00 -5.31552267e+00\n",
      "   7.16942549e-01 -4.46498680e+00 -6.82415247e+00 -2.34086514e-02\n",
      "  -2.52910423e+00 -1.89361048e+00]\n",
      " [-4.68811464e+00  1.50833654e+01  3.81345606e+00  1.47709990e+01\n",
      "  -1.23737230e+01  4.94613838e+00  2.48352575e+00  5.35576439e+00\n",
      "   2.02295475e+01 -2.22018862e+00]\n",
      " [-1.61323147e+01 -6.25113201e+00 -4.02998590e+00  5.20378494e+00\n",
      "   1.13947477e+01 -3.43291819e-01  6.29877806e+00  4.10202384e-01\n",
      "  -1.76420898e+01  9.61190987e+00]\n",
      " [-2.13825417e+00 -6.92576051e-01  6.14091158e+00  1.02352357e+00\n",
      "   8.98817301e-01  1.48184776e+01 -4.64971876e+00  5.22965908e-01\n",
      "  -4.60053825e+00 -8.59307349e-02]\n",
      " [ 8.54013157e+00 -7.36375093e+00  3.38328218e+00  2.84421802e+00\n",
      "   2.14758949e+01  1.09788017e+01 -1.87632160e+01 -2.22197914e+00\n",
      "  -1.49823532e+01  3.15337276e+00]\n",
      " [-1.82743335e+00 -1.70243626e+01 -1.39455175e+01 -6.28139687e+00\n",
      "   1.78215141e+01  3.14284229e+00  9.73334599e+00  3.29880548e+00\n",
      "   3.07537889e+00  4.29674721e+00]]\n"
     ]
    }
   ],
   "source": [
    "# o = tf.random_normal([num_hidden, num_input])\n",
    "# w = tf.random_normal([28, num_classes])\n",
    "# b = tf.random_normal([num_classes])\n",
    "\n",
    "o = tf.random_normal([num_input, num_hidden])\n",
    "w = tf.random_normal([num_hidden, num_classes])\n",
    "b = tf.random_normal([num_classes])\n",
    "\n",
    "mul = tf.matmul(o, w) + b\n",
    "print(mul)\n",
    "sess = tf.Session()\n",
    "print(sess.run(mul))"
   ]
  },
  {
   "cell_type": "code",
   "execution_count": 8,
   "metadata": {},
   "outputs": [
    {
     "name": "stdout",
     "output_type": "stream",
     "text": [
      "x_temp:  [<tf.Tensor 'unstack_1:0' shape=(3, 3) dtype=int32>, <tf.Tensor 'unstack_1:1' shape=(3, 3) dtype=int32>]\n",
      "[array([[1, 2, 3],\n",
      "       [4, 5, 6],\n",
      "       [7, 8, 9]]), array([[11,  2,  3],\n",
      "       [44,  5,  6],\n",
      "       [77,  8,  9]])]\n"
     ]
    }
   ],
   "source": [
    "list_temp = [\n",
    "    [\n",
    "        [1, 2, 3], [11, 2, 3]\n",
    "    ],\n",
    "    [\n",
    "        [4, 5, 6], [44, 5, 6]\n",
    "    ],\n",
    "    [\n",
    "        [7, 8, 9], [77, 8, 9]\n",
    "    ]\n",
    "] # (3, 2, 3)\n",
    "\n",
    "\"\"\"\n",
    "https://www.tensorflow.org/api_docs/python/tf/unstack\n",
    "unstack(value, num, axis)\n",
    "'num' should be the size of elements in 'axis'\n",
    "Returns 'num' tensors\n",
    "\"\"\"\n",
    "\n",
    "x_temp = tf.unstack(list_temp, 2, 1) # 3, 3\n",
    "\n",
    "print(\"x_temp: \", x_temp)\n",
    "sess = tf.Session()\n",
    "print(sess.run(x_temp))"
   ]
  },
  {
   "cell_type": "code",
   "execution_count": 9,
   "metadata": {},
   "outputs": [
    {
     "name": "stdout",
     "output_type": "stream",
     "text": [
      "x[-1]:  Tensor(\"Model/unstack:27\", shape=(?, 28), dtype=float32)\n",
      "outputs:  [<tf.Tensor 'Model/rnn/rnn/basic_lstm_cell/mul_2:0' shape=(?, 128) dtype=float32>, <tf.Tensor 'Model/rnn/rnn/basic_lstm_cell/mul_5:0' shape=(?, 128) dtype=float32>, <tf.Tensor 'Model/rnn/rnn/basic_lstm_cell/mul_8:0' shape=(?, 128) dtype=float32>, <tf.Tensor 'Model/rnn/rnn/basic_lstm_cell/mul_11:0' shape=(?, 128) dtype=float32>, <tf.Tensor 'Model/rnn/rnn/basic_lstm_cell/mul_14:0' shape=(?, 128) dtype=float32>, <tf.Tensor 'Model/rnn/rnn/basic_lstm_cell/mul_17:0' shape=(?, 128) dtype=float32>, <tf.Tensor 'Model/rnn/rnn/basic_lstm_cell/mul_20:0' shape=(?, 128) dtype=float32>, <tf.Tensor 'Model/rnn/rnn/basic_lstm_cell/mul_23:0' shape=(?, 128) dtype=float32>, <tf.Tensor 'Model/rnn/rnn/basic_lstm_cell/mul_26:0' shape=(?, 128) dtype=float32>, <tf.Tensor 'Model/rnn/rnn/basic_lstm_cell/mul_29:0' shape=(?, 128) dtype=float32>, <tf.Tensor 'Model/rnn/rnn/basic_lstm_cell/mul_32:0' shape=(?, 128) dtype=float32>, <tf.Tensor 'Model/rnn/rnn/basic_lstm_cell/mul_35:0' shape=(?, 128) dtype=float32>, <tf.Tensor 'Model/rnn/rnn/basic_lstm_cell/mul_38:0' shape=(?, 128) dtype=float32>, <tf.Tensor 'Model/rnn/rnn/basic_lstm_cell/mul_41:0' shape=(?, 128) dtype=float32>, <tf.Tensor 'Model/rnn/rnn/basic_lstm_cell/mul_44:0' shape=(?, 128) dtype=float32>, <tf.Tensor 'Model/rnn/rnn/basic_lstm_cell/mul_47:0' shape=(?, 128) dtype=float32>, <tf.Tensor 'Model/rnn/rnn/basic_lstm_cell/mul_50:0' shape=(?, 128) dtype=float32>, <tf.Tensor 'Model/rnn/rnn/basic_lstm_cell/mul_53:0' shape=(?, 128) dtype=float32>, <tf.Tensor 'Model/rnn/rnn/basic_lstm_cell/mul_56:0' shape=(?, 128) dtype=float32>, <tf.Tensor 'Model/rnn/rnn/basic_lstm_cell/mul_59:0' shape=(?, 128) dtype=float32>, <tf.Tensor 'Model/rnn/rnn/basic_lstm_cell/mul_62:0' shape=(?, 128) dtype=float32>, <tf.Tensor 'Model/rnn/rnn/basic_lstm_cell/mul_65:0' shape=(?, 128) dtype=float32>, <tf.Tensor 'Model/rnn/rnn/basic_lstm_cell/mul_68:0' shape=(?, 128) dtype=float32>, <tf.Tensor 'Model/rnn/rnn/basic_lstm_cell/mul_71:0' shape=(?, 128) dtype=float32>, <tf.Tensor 'Model/rnn/rnn/basic_lstm_cell/mul_74:0' shape=(?, 128) dtype=float32>, <tf.Tensor 'Model/rnn/rnn/basic_lstm_cell/mul_77:0' shape=(?, 128) dtype=float32>, <tf.Tensor 'Model/rnn/rnn/basic_lstm_cell/mul_80:0' shape=(?, 128) dtype=float32>, <tf.Tensor 'Model/rnn/rnn/basic_lstm_cell/mul_83:0' shape=(?, 128) dtype=float32>]\n",
      "outputs[-1]:  Tensor(\"Model/rnn/rnn/basic_lstm_cell/mul_83:0\", shape=(?, 128), dtype=float32)\n",
      "tf.matmul(outputs[-1], weights['out']) + biases['out'] Tensor(\"Model/add:0\", shape=(?, 10), dtype=float32)\n",
      "logits Tensor(\"add_1:0\", shape=(?, 10), dtype=float32)\n"
     ]
    }
   ],
   "source": [
    "#         print(\"x[-1]: \", x[-1])\n",
    "#         print(\"outputs: \", outputs)\n",
    "#         print(\"outputs[-1]: \", outputs[-1])\n",
    "#         print(\"tf.matmul(outputs[-1], weights['out']) + biases['out']: \", tf.matmul(outputs[-1], weights['out']) + biases['out'])\n",
    "\n",
    "logits = RNN(X, weights, biases) # [timesteps, num_classes]: 28, 10\n",
    "print(\"logits: \", logits)\n",
    "prediction = tf.nn.softmax(logits)\n",
    "\n",
    "# Define loss and optimizer\n",
    "with tf.name_scope('Loss'):\n",
    "    loss_op = tf.reduce_mean(tf.nn.softmax_cross_entropy_with_logits(logits=logits, labels=Y))\n",
    "tf.summary.scalar(\"loss\", loss_op) # Create a summary to monitor loss_op tensor\n",
    "\n",
    "with tf.name_scope('optimizer'):\n",
    "    #optimizer = tf.train.GradientDescentOptimizer(learning_rate=learning_rate)\n",
    "    optimizer = tf.train.AdamOptimizer(learning_rate=0.001, beta1=0.9, beta2=0.999, epsilon=1e-08, use_locking=False, name='Adam')\n",
    "train_op = optimizer.minimize(loss_op)\n",
    "\n",
    "# Evaluate model (with test logits, for dropout to be disabled)\n",
    "correct_pred = tf.equal(tf.argmax(prediction, 1), tf.argmax(Y, 1))\n",
    "with tf.name_scope('Accuracy'):\n",
    "    accuracy = tf.reduce_mean(tf.cast(correct_pred, tf.float32))\n",
    "tf.summary.scalar(\"accuracy\", accuracy) # Create a summary to monitor accuracy tensor\n",
    "\n",
    "# Initialize the variables (i.e. assign their default value)\n",
    "init = tf.global_variables_initializer()"
   ]
  },
  {
   "cell_type": "raw",
   "metadata": {},
   "source": [
    "x2 = tf.constant([[3.,4], [5.,6], [6.,7]])\n",
    "print(sess.run(tf.reduce_mean(x2))) # 5.16 = (3+4+5+6+6+7)/6\n",
    "print(sess.run(tf.reduce_mean(x2, 0))) # [4.6, 5.6] = (3+5+6)/3, (4+6+7)/3\n",
    "print(sess.run(tf.reduce_mean(x2, 1))) # [3.5,  5.5, 6.5] = (3+4)/2, (5+6)/2, (6+7)/2"
   ]
  },
  {
   "cell_type": "code",
   "execution_count": 6,
   "metadata": {},
   "outputs": [],
   "source": [
    "import shutil, os\n",
    "if os.path.exists(\"rnn_mnist_logs/\"):\n",
    "    shutil.rmtree(\"rnn_mnist_logs/\")"
   ]
  },
  {
   "cell_type": "code",
   "execution_count": 7,
   "metadata": {},
   "outputs": [
    {
     "name": "stdout",
     "output_type": "stream",
     "text": [
      "Epoch 1, Minibatch Loss= 2.5150, Training Accuracy= 0.133\n",
      "Epoch 200, Minibatch Loss= 0.2169, Training Accuracy= 0.922\n",
      "Epoch 400, Minibatch Loss= 0.2320, Training Accuracy= 0.930\n",
      "Epoch 600, Minibatch Loss= 0.0587, Training Accuracy= 0.977\n",
      "Epoch 800, Minibatch Loss= 0.0694, Training Accuracy= 0.977\n",
      "Epoch 1000, Minibatch Loss= 0.1639, Training Accuracy= 0.969\n",
      "Optimization Finished!\n",
      "Testing Accuracy: 0.984375\n"
     ]
    }
   ],
   "source": [
    "# Start training\n",
    "with tf.Session() as sess:\n",
    "\n",
    "    # Run the initializer\n",
    "    sess.run(init)\n",
    "    \n",
    "    summary_op = tf.summary.merge_all() # Merge all summaries into a single op\n",
    "    summary_writer = tf.summary.FileWriter(\"rnn_mnist_logs/\", graph=tf.get_default_graph())\n",
    "    \n",
    "    saver = tf.train.Saver(max_to_keep=2)\n",
    "\n",
    "    for epoch in range(1, training_epochs+1):\n",
    "        batch_x, batch_y = mnist.train.next_batch(batch_size)\n",
    "        # Reshape data to get 28 seq of 28 elements\n",
    "        batch_x = batch_x.reshape((batch_size, timesteps, num_input))\n",
    "        # Run optimization op (backprop)\n",
    "        sess.run(train_op, feed_dict={X: batch_x, Y: batch_y})\n",
    "        if epoch % display_step == 0 or epoch == 1:\n",
    "            # Calculate batch loss and accuracy\n",
    "            loss, acc = sess.run([loss_op, accuracy], feed_dict={X: batch_x, Y: batch_y})\n",
    "            print(\"Epoch \" + str(epoch) + \", Minibatch Loss= \" + \\\n",
    "                  \"{:.4f}\".format(loss) + \", Training Accuracy= \" + \\\n",
    "                  \"{:.3f}\".format(acc))\n",
    "            \n",
    "            # Write logs at every iteration\n",
    "            summary_str = sess.run(summary_op, feed_dict={X: batch_x, Y: batch_y})\n",
    "            summary_writer.add_summary(summary_str, epoch)\n",
    "            \n",
    "            # Save checkpoint\n",
    "            saver.save(sess, \"rnn_mnist_logs/model-checkpoint\", epoch)\n",
    "\n",
    "    print(\"Optimization Finished!\")\n",
    "\n",
    "    # Calculate accuracy for 128 mnist test images\n",
    "    test_len = 128\n",
    "    test_data = mnist.test.images[:test_len].reshape((-1, timesteps, num_input))\n",
    "    test_label = mnist.test.labels[:test_len]\n",
    "    print(\"Testing Accuracy:\", \\\n",
    "        sess.run(accuracy, feed_dict={X: test_data, Y: test_label}))"
   ]
  },
  {
   "cell_type": "code",
   "execution_count": null,
   "metadata": {},
   "outputs": [],
   "source": []
  }
 ],
 "metadata": {
  "anaconda-cloud": {},
  "kernelspec": {
   "display_name": "Python 3",
   "language": "python",
   "name": "python3"
  },
  "language_info": {
   "codemirror_mode": {
    "name": "ipython",
    "version": 3
   },
   "file_extension": ".py",
   "mimetype": "text/x-python",
   "name": "python",
   "nbconvert_exporter": "python",
   "pygments_lexer": "ipython3",
   "version": "3.5.4"
  }
 },
 "nbformat": 4,
 "nbformat_minor": 1
}
