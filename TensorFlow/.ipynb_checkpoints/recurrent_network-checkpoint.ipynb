{
 "cells": [
  {
   "cell_type": "markdown",
   "metadata": {
    "collapsed": true
   },
   "source": [
    "# Recurrent Neural Network Example\n",
    "\n",
    "Build a recurrent neural network (LSTM) with TensorFlow."
   ]
  },
  {
   "cell_type": "markdown",
   "metadata": {},
   "source": [
    "## RNN Overview\n",
    "\n",
    "<img src=\"http://colah.github.io/posts/2015-08-Understanding-LSTMs/img/RNN-unrolled.png\" alt=\"nn\" style=\"width: 600px;\"/>\n",
    "\n",
    "References:\n",
    "- [Long Short Term Memory](http://deeplearning.cs.cmu.edu/pdfs/Hochreiter97_lstm.pdf), Sepp Hochreiter & Jurgen Schmidhuber, Neural Computation 9(8): 1735-1780, 1997.\n",
    "\n",
    "## MNIST Dataset Overview\n",
    "\n",
    "This example is using MNIST handwritten digits.\n",
    "The dataset contains 60,000 examples for training and 10,000 examples for testing.\n",
    "The digits have been size-normalized and centered in a fixed-size image (28x28 pixels) with values from 0 to 1.\n",
    "For simplicity, each image has been flattened and converted to a 1-D numpy array of 784 features (28*28).\n",
    "\n",
    "![MNIST Dataset](http://neuralnetworksanddeeplearning.com/images/mnist_100_digits.png)\n",
    "\n",
    "<u>To classify images using a recurrent neural network, we consider every image row as a sequence of pixels.\n",
    "Because MNIST image shape is 28*28px, we will then handle 28 sequences of 28 timesteps for every sample.</u>\n",
    "\n",
    "More info: http://yann.lecun.com/exdb/mnist/"
   ]
  },
  {
   "cell_type": "code",
   "execution_count": 1,
   "metadata": {},
   "outputs": [
    {
     "name": "stdout",
     "output_type": "stream",
     "text": [
      "Extracting /data/train-images-idx3-ubyte.gz\n",
      "Extracting /data/train-labels-idx1-ubyte.gz\n",
      "Extracting /data/t10k-images-idx3-ubyte.gz\n",
      "Extracting /data/t10k-labels-idx1-ubyte.gz\n"
     ]
    }
   ],
   "source": [
    "from __future__ import print_function\n",
    "\n",
    "import tensorflow as tf\n",
    "from tensorflow.contrib import rnn\n",
    "\n",
    "# Import MNIST data\n",
    "from tensorflow.examples.tutorials.mnist import input_data\n",
    "mnist = input_data.read_data_sets(\"/data/\", one_hot=True)"
   ]
  },
  {
   "cell_type": "code",
   "execution_count": 2,
   "metadata": {},
   "outputs": [],
   "source": [
    "# Training Parameters\n",
    "learning_rate = 0.001\n",
    "training_epochs = 1000\n",
    "batch_size = 128\n",
    "display_step = 200\n",
    "\n",
    "# Network Parameters\n",
    "num_input = 28 # MNIST data input (img shape: 28*28)\n",
    "timesteps = 28 # timesteps\n",
    "num_hidden = 128 # hidden layer num of features\n",
    "num_classes = 10 # MNIST total classes (0-9 digits)\n",
    "\n",
    "# tf Graph input\n",
    "X = tf.placeholder(\"float\", [None, timesteps, num_input], name='InputData')\n",
    "Y = tf.placeholder(\"float\", [None, num_classes], name='LabelData')"
   ]
  },
  {
   "cell_type": "code",
   "execution_count": 3,
   "metadata": {},
   "outputs": [
    {
     "data": {
      "text/plain": [
       "<tf.Tensor 'biases:0' shape=() dtype=string>"
      ]
     },
     "execution_count": 3,
     "metadata": {},
     "output_type": "execute_result"
    }
   ],
   "source": [
    "# Define weights\n",
    "weights = {\n",
    "    'out': tf.Variable(tf.random_normal([num_hidden, num_classes]), name='Weights')\n",
    "}\n",
    "biases = {\n",
    "    'out': tf.Variable(tf.random_normal([num_classes]), name='Bias')\n",
    "}\n",
    "\n",
    "tf.summary.histogram(\"weights\", weights['out'])\n",
    "tf.summary.histogram(\"biases\", biases['out'])"
   ]
  },
  {
   "cell_type": "raw",
   "metadata": {},
   "source": [
    "sess = tf.Session()\n",
    "#print(sess.run(tf.random_normal([num_hidden, num_classes])))\n",
    "#print(sess.run(tf.random_normal([num_classes])))\n",
    "print(weights['out'])"
   ]
  },
  {
   "cell_type": "code",
   "execution_count": 4,
   "metadata": {},
   "outputs": [],
   "source": [
    "def RNN(x, weights, biases):\n",
    "    with tf.name_scope('Model'):\n",
    "        # Prepare data shape to match `rnn` function requirements\n",
    "        # Current data input shape: (batch_size, timesteps, n_input)\n",
    "        # Required shape: 'timesteps' tensors list of shape (batch_size, n_input)\n",
    "\n",
    "        # Unstack to get a list of 'timesteps' tensors of shape (batch_size, n_input)\n",
    "        \"\"\"\n",
    "        x will contain 28 tensors of shape 128 x 28\n",
    "        So that, 1st tensor will contain 1st row (28 pixels) of 128 images\n",
    "        2nd tensor will contain 2nd row (28 pixels) of 128 images\n",
    "        ...\n",
    "        \"\"\"\n",
    "        x = tf.unstack(x, timesteps, 1)\n",
    "\n",
    "        # Define a lstm cell with tensorflow\n",
    "        lstm_cell = rnn.BasicLSTMCell(num_hidden, forget_bias=1.0)\n",
    "\n",
    "        # Get lstm cell output\n",
    "        \"\"\"\n",
    "        https://www.tensorflow.org/api_docs/python/tf/nn/static_rnn\n",
    "        static_rnn(cell, inputs, initial_state=None, dtype=None, sequence_length=None, scope=None)\n",
    "        inputs: A length T list of inputs, each a Tensor of shape [batch_size, input_size], or a nested tuple of such elements.\n",
    "        \"\"\"\n",
    "        outputs, states = rnn.static_rnn(lstm_cell, x, dtype=tf.float32)\n",
    "\n",
    "        # Linear activation, using rnn inner loop last output\n",
    "        \"\"\"\n",
    "        Last tensor: outputs[-1]\n",
    "        \"\"\"\n",
    "        #     print(\"x[-1]: \", x[-1])\n",
    "        #     print(\"outputs: \", outputs)\n",
    "        #     print(\"outputs[-1]: \", outputs[-1])\n",
    "    return tf.matmul(outputs[-1], weights['out']) + biases['out']"
   ]
  },
  {
   "cell_type": "raw",
   "metadata": {},
   "source": [
    "batch_x, batch_y = mnist.train.next_batch(batch_size)\n",
    "print(\"batch_x: \", batch_x)\n",
    "# Reshape data to get 28 seq of 28 elements\n",
    "batch_x = batch_x.reshape((batch_size, timesteps, num_input)) # 128, 28, 28\n",
    "print(\"batch_x: \", batch_x[0][0])\n",
    "# Unstack to get a list of 'timesteps' tensors of shape (batch_size, n_input)\n",
    "x = tf.unstack(batch_x, timesteps, 1) # 128, 28\n",
    "print(\"x: \", x)\n",
    "print(\"x[-1]: \", x[-1])\n",
    "#print(sess.run(x))"
   ]
  },
  {
   "cell_type": "raw",
   "metadata": {},
   "source": [
    "o = tf.random_normal([num_hidden, num_input])\n",
    "w = tf.random_normal([28, num_classes])\n",
    "b = tf.random_normal([num_classes])\n",
    "mul = tf.matmul(o, w) + b\n",
    "sess = tf.Session()\n",
    "print(sess.run(mul))"
   ]
  },
  {
   "cell_type": "raw",
   "metadata": {},
   "source": [
    "list_temp = [\n",
    "    [\n",
    "        [1, 2, 3], [11, 2, 3]\n",
    "    ],\n",
    "    [\n",
    "        [4, 5, 6], [44, 5, 6]\n",
    "    ],\n",
    "    [\n",
    "        [7, 8, 9], [77, 8, 9]\n",
    "    ]\n",
    "] # (3, 2, 3)\n",
    "\n",
    "\"\"\"\n",
    "https://www.tensorflow.org/api_docs/python/tf/unstack\n",
    "unstack(value, num, axis)\n",
    "'num' should be the size of elements in 'axis'\n",
    "Returns 'num' tensors\n",
    "\"\"\"\n",
    "\n",
    "x_temp = tf.unstack(list_temp, 2, 1) # 3, 3\n",
    "\n",
    "print(\"x_temp: \", x_temp)\n",
    "sess = tf.Session()\n",
    "print(sess.run(x_temp))"
   ]
  },
  {
   "cell_type": "code",
   "execution_count": 5,
   "metadata": {},
   "outputs": [],
   "source": [
    "logits = RNN(X, weights, biases) # batch_size, 10\n",
    "prediction = tf.nn.softmax(logits)\n",
    "\n",
    "# Define loss and optimizer\n",
    "with tf.name_scope('Loss'):\n",
    "    loss_op = tf.reduce_mean(tf.nn.softmax_cross_entropy_with_logits(logits=logits, labels=Y))\n",
    "tf.summary.scalar(\"loss\", loss_op) # Create a summary to monitor loss_op tensor\n",
    "with tf.name_scope('optimizer'):\n",
    "    #optimizer = tf.train.GradientDescentOptimizer(learning_rate=learning_rate)\n",
    "    optimizer = tf.train.AdamOptimizer(learning_rate=0.001, beta1=0.9, beta2=0.999, epsilon=1e-08, use_locking=False, name='Adam')\n",
    "train_op = optimizer.minimize(loss_op)\n",
    "\n",
    "# Evaluate model (with test logits, for dropout to be disabled)\n",
    "correct_pred = tf.equal(tf.argmax(prediction, 1), tf.argmax(Y, 1))\n",
    "with tf.name_scope('Accuracy'):\n",
    "    accuracy = tf.reduce_mean(tf.cast(correct_pred, tf.float32))\n",
    "tf.summary.scalar(\"accuracy\", accuracy) # Create a summary to monitor accuracy tensor\n",
    "\n",
    "# Initialize the variables (i.e. assign their default value)\n",
    "init = tf.global_variables_initializer()"
   ]
  },
  {
   "cell_type": "raw",
   "metadata": {},
   "source": [
    "x2 = tf.constant([[3.,4], [5.,6], [6.,7]])\n",
    "print(sess.run(tf.reduce_mean(x2))) # 5.16 = (3+4+5+6+6+7)/6\n",
    "print(sess.run(tf.reduce_mean(x2, 0))) # [4.6, 5.6] = (3+5+6)/3, (4+6+7)/3\n",
    "print(sess.run(tf.reduce_mean(x2, 1))) # [3.5,  5.5, 6.5] = (3+4)/2, (5+6)/2, (6+7)/2"
   ]
  },
  {
   "cell_type": "code",
   "execution_count": 6,
   "metadata": {},
   "outputs": [],
   "source": [
    "import shutil, os\n",
    "if os.path.exists(\"mnist_rnn_logs/\"):\n",
    "    shutil.rmtree(\"mnist_rnn_logs/\")"
   ]
  },
  {
   "cell_type": "code",
   "execution_count": 7,
   "metadata": {},
   "outputs": [
    {
     "name": "stdout",
     "output_type": "stream",
     "text": [
      "Epoch 1, Minibatch Loss= 2.1852, Training Accuracy= 0.125\n",
      "Epoch 200, Minibatch Loss= 0.2927, Training Accuracy= 0.883\n",
      "Epoch 400, Minibatch Loss= 0.1874, Training Accuracy= 0.922\n",
      "Epoch 600, Minibatch Loss= 0.0606, Training Accuracy= 0.992\n",
      "Epoch 800, Minibatch Loss= 0.0818, Training Accuracy= 0.961\n",
      "Epoch 1000, Minibatch Loss= 0.0303, Training Accuracy= 0.992\n",
      "Optimization Finished!\n",
      "Testing Accuracy: 0.984375\n"
     ]
    }
   ],
   "source": [
    "# Start training\n",
    "with tf.Session() as sess:\n",
    "\n",
    "    # Run the initializer\n",
    "    sess.run(init)\n",
    "    \n",
    "    summary_op = tf.summary.merge_all() # Merge all summaries into a single op\n",
    "    summary_writer = tf.summary.FileWriter(\"mnist_rnn_logs/\", graph=tf.get_default_graph())\n",
    "    \n",
    "    saver = tf.train.Saver(max_to_keep=2)\n",
    "\n",
    "    for epoch in range(1, training_epochs+1):\n",
    "        batch_x, batch_y = mnist.train.next_batch(batch_size)\n",
    "        # Reshape data to get 28 seq of 28 elements\n",
    "        batch_x = batch_x.reshape((batch_size, timesteps, num_input))\n",
    "        # Run optimization op (backprop)\n",
    "        sess.run(train_op, feed_dict={X: batch_x, Y: batch_y})\n",
    "        if epoch % display_step == 0 or epoch == 1:\n",
    "            # Calculate batch loss and accuracy\n",
    "            loss, acc = sess.run([loss_op, accuracy], feed_dict={X: batch_x, Y: batch_y})\n",
    "            print(\"Epoch \" + str(epoch) + \", Minibatch Loss= \" + \\\n",
    "                  \"{:.4f}\".format(loss) + \", Training Accuracy= \" + \\\n",
    "                  \"{:.3f}\".format(acc))\n",
    "            \n",
    "            # Write logs at every iteration\n",
    "            summary_str = sess.run(summary_op, feed_dict={X: batch_x, Y: batch_y})\n",
    "            summary_writer.add_summary(summary_str, epoch)\n",
    "            \n",
    "            # Save checkpoint\n",
    "            saver.save(sess, \"mnist_rnn_logs/model-checkpoint\", epoch)\n",
    "\n",
    "    print(\"Optimization Finished!\")\n",
    "\n",
    "    # Calculate accuracy for 128 mnist test images\n",
    "    test_len = 128\n",
    "    test_data = mnist.test.images[:test_len].reshape((-1, timesteps, num_input))\n",
    "    test_label = mnist.test.labels[:test_len]\n",
    "    print(\"Testing Accuracy:\", \\\n",
    "        sess.run(accuracy, feed_dict={X: test_data, Y: test_label}))"
   ]
  },
  {
   "cell_type": "code",
   "execution_count": null,
   "metadata": {},
   "outputs": [],
   "source": []
  }
 ],
 "metadata": {
  "anaconda-cloud": {},
  "kernelspec": {
   "display_name": "Python 3",
   "language": "python",
   "name": "python3"
  },
  "language_info": {
   "codemirror_mode": {
    "name": "ipython",
    "version": 3
   },
   "file_extension": ".py",
   "mimetype": "text/x-python",
   "name": "python",
   "nbconvert_exporter": "python",
   "pygments_lexer": "ipython3",
   "version": "3.5.4"
  }
 },
 "nbformat": 4,
 "nbformat_minor": 1
}
