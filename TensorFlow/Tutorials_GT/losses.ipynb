{
 "cells": [
  {
   "cell_type": "code",
   "execution_count": 1,
   "metadata": {},
   "outputs": [],
   "source": [
    "import tensorflow as tf\n",
    "import numpy as np"
   ]
  },
  {
   "cell_type": "code",
   "execution_count": 2,
   "metadata": {},
   "outputs": [],
   "source": [
    "# output = np.array([[2., 2., 3.]])\n",
    "# target = np.array([[2., 3., 4.]])\n",
    "\n",
    "# output = np.array([[2., 3., 4.]])\n",
    "# target = np.array([[2., 3., 4.]])\n",
    "\n",
    "# output = np.array([2.5, 0.0, 2, 8])\n",
    "# target = np.array([3, -0.5, 2, 7])\n",
    "\n",
    "output = np.array([2.5, 0.0, 2, 8])\n",
    "target = np.array([2.5, 1.0, 2.5, 8])"
   ]
  },
  {
   "cell_type": "code",
   "execution_count": 3,
   "metadata": {},
   "outputs": [],
   "source": [
    "sess = tf.InteractiveSession()# tf.Session()"
   ]
  },
  {
   "cell_type": "markdown",
   "metadata": {},
   "source": [
    "# Root-mean-square error (RMSE)\n",
    "\n",
    "https://stackoverflow.com/questions/33846069/how-to-set-rmse-cost-function-in-tensorflow\n",
    "\n",
    "\\begin{align}\n",
    "RMSE= \\sqrt{\\frac{\\sum_{i=1}^n (\\hat{y_i}-y_i)^2}{n}}\n",
    "\\end{align}"
   ]
  },
  {
   "cell_type": "code",
   "execution_count": 4,
   "metadata": {},
   "outputs": [
    {
     "name": "stdout",
     "output_type": "stream",
     "text": [
      "rmse:  0.5590169943749475\n",
      "rmse:  0.5590169943749475\n"
     ]
    }
   ],
   "source": [
    "rmse = tf.sqrt(tf.reduce_mean(tf.square(tf.subtract(output, target))))\n",
    "print(\"rmse: \", sess.run(rmse))\n",
    "\n",
    "np_loss = np.sqrt(np.mean(np.square(np.subtract(output, target))))\n",
    "print(\"rmse: \", np_loss)"
   ]
  },
  {
   "cell_type": "markdown",
   "metadata": {},
   "source": [
    "# Mean squared error\n",
    "\n",
    "https://stackoverflow.com/questions/16774849/mean-squared-error-in-numpy <br>\n",
    "https://scikit-learn.org/stable/modules/model_evaluation.html#mean-squared-error\n",
    "\n",
    "\\begin{align}\n",
    "\\text{MSE}(y, \\hat{y}) = \\frac{1}{n_\\text{samples}} \\sum_{i=0}^{n_\\text{samples} - 1} (y_i - \\hat{y}_i)^2.\n",
    "\\end{align}"
   ]
  },
  {
   "cell_type": "code",
   "execution_count": 5,
   "metadata": {},
   "outputs": [
    {
     "name": "stdout",
     "output_type": "stream",
     "text": [
      "mse:  0.3125\n",
      "mse:  0.3125\n",
      "mse:  0.3125\n",
      "mse:  0.3125\n"
     ]
    }
   ],
   "source": [
    "mse = tf.reduce_mean(tf.square(output - target))\n",
    "print(\"mse: \", sess.run(mse))\n",
    "\n",
    "mse = tf.losses.mean_squared_error(output, target)\n",
    "print(\"mse: \", sess.run(mse))\n",
    "\n",
    "mse = np.square(output - target).mean()\n",
    "print(\"mse: \", mse)\n",
    "\n",
    "from sklearn.metrics import mean_squared_error\n",
    "\n",
    "mse = mean_squared_error(output, target)\n",
    "print(\"mse: \", mse)"
   ]
  },
  {
   "cell_type": "markdown",
   "metadata": {},
   "source": [
    "# Mean absolute error\n",
    "\n",
    "https://scikit-learn.org/stable/modules/model_evaluation.html#mean-squared-error\n",
    "\n",
    "\\begin{align}\n",
    "\\text{MAE}(y, \\hat{y}) = \\frac{1}{n_{\\text{samples}}} \\sum_{i=0}^{n_{\\text{samples}}-1} \\left| y_i - \\hat{y}_i \\right|.\n",
    "\\end{align}"
   ]
  },
  {
   "cell_type": "code",
   "execution_count": 6,
   "metadata": {},
   "outputs": [
    {
     "name": "stdout",
     "output_type": "stream",
     "text": [
      "mae:  0.375\n",
      "mae:  0.375\n",
      "mae:  0.375\n"
     ]
    }
   ],
   "source": [
    "mae = tf.reduce_mean(tf.abs(output - target))\n",
    "print(\"mae: \", sess.run(mae))\n",
    "\n",
    "mae = np.mean(np.abs(output - target))\n",
    "print(\"mae: \", mae)\n",
    "\n",
    "from sklearn.metrics import mean_absolute_error\n",
    "\n",
    "mae = mean_absolute_error(output, target)\n",
    "print(\"mae: \", mae)"
   ]
  },
  {
   "cell_type": "code",
   "execution_count": null,
   "metadata": {},
   "outputs": [],
   "source": []
  },
  {
   "cell_type": "code",
   "execution_count": null,
   "metadata": {},
   "outputs": [],
   "source": []
  },
  {
   "cell_type": "markdown",
   "metadata": {},
   "source": [
    "# Softmax cross entropy\n",
    "https://www.tensorflow.org/api_docs/python/tf/nn/softmax_cross_entropy_with_logits_v2\n",
    "\n",
    "Measures the probability error in discrete classification tasks in which the classes are mutually exclusive (each entry is in exactly one class).\n",
    "For example, each CIFAR-10 image is labeled with one and only one label: an image can be a dog or a truck, but not both."
   ]
  },
  {
   "cell_type": "code",
   "execution_count": 7,
   "metadata": {},
   "outputs": [
    {
     "name": "stdout",
     "output_type": "stream",
     "text": [
      "loss:  0.93906987\n"
     ]
    }
   ],
   "source": [
    "output = [[.5, .25, .25]]\n",
    "target = [[1., 0, 0]]\n",
    "\n",
    "# output = [[1., 0, 0]]\n",
    "# target = [[1., 0, 0]]\n",
    "\n",
    "loss = tf.reduce_mean(tf.nn.softmax_cross_entropy_with_logits_v2(labels=target, logits=output), name =\"softmax_cross_entropy\")\n",
    "print(\"loss: \", sess.run(loss))\n"
   ]
  },
  {
   "cell_type": "markdown",
   "metadata": {},
   "source": [
    "# Sigmoid cross entropy\n",
    "https://www.tensorflow.org/api_docs/python/tf/nn/sigmoid_cross_entropy_with_logits <br>\n",
    "Measures the probability error in discrete classification tasks in which each class is independent and not mutually exclusive. For instance, one could perform multilabel classification where a picture can contain both an elephant and a dog at the same time."
   ]
  },
  {
   "cell_type": "code",
   "execution_count": 8,
   "metadata": {},
   "outputs": [
    {
     "name": "stdout",
     "output_type": "stream",
     "text": [
      "loss:  0.70865196\n"
     ]
    }
   ],
   "source": [
    "\n",
    "loss = tf.reduce_mean(tf.nn.sigmoid_cross_entropy_with_logits(labels=target, logits=output), name =\"sigmoid_cross_entropy_with_logits\")\n",
    "print(\"loss: \", sess.run(loss))\n"
   ]
  },
  {
   "cell_type": "code",
   "execution_count": null,
   "metadata": {},
   "outputs": [],
   "source": []
  }
 ],
 "metadata": {
  "kernelspec": {
   "display_name": "Python 3",
   "language": "python",
   "name": "python3"
  },
  "language_info": {
   "codemirror_mode": {
    "name": "ipython",
    "version": 3
   },
   "file_extension": ".py",
   "mimetype": "text/x-python",
   "name": "python",
   "nbconvert_exporter": "python",
   "pygments_lexer": "ipython3",
   "version": "3.5.6"
  }
 },
 "nbformat": 4,
 "nbformat_minor": 2
}
