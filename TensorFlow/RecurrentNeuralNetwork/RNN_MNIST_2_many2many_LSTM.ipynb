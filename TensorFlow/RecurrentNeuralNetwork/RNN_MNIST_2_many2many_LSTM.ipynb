{
 "cells": [
  {
   "cell_type": "code",
   "execution_count": 1,
   "metadata": {
    "collapsed": true
   },
   "outputs": [],
   "source": [
    "#Inspired by https://github.com/aymericdamien/TensorFlow-Examples/blob/master/examples/3%20-%20Neural%20Networks/recurrent_network.py\n",
    "# https://github.com/nlintz/TensorFlow-Tutorials/blob/master/07_lstm.ipynb\n",
    "import tensorflow as tf\n",
    "import numpy as np\n",
    "from tensorflow.contrib import rnn\n",
    "from tensorflow.examples.tutorials.mnist import input_data"
   ]
  },
  {
   "cell_type": "raw",
   "metadata": {},
   "source": [
    "tensorboard --logdir \"rnn_mnist_logs_2_many2many_lstm\""
   ]
  },
  {
   "cell_type": "code",
   "execution_count": 2,
   "metadata": {},
   "outputs": [
    {
     "name": "stdout",
     "output_type": "stream",
     "text": [
      "Extracting ../../../Datasets/MNIST_data/train-images-idx3-ubyte.gz\n",
      "Extracting ../../../Datasets/MNIST_data/train-labels-idx1-ubyte.gz\n",
      "Extracting ../../../Datasets/MNIST_data/t10k-images-idx3-ubyte.gz\n",
      "Extracting ../../../Datasets/MNIST_data/t10k-labels-idx1-ubyte.gz\n"
     ]
    }
   ],
   "source": [
    "# configuration\n",
    "#                        O * W + b -> 10 labels for each image, O[? 28], W[28 10], B[10]\n",
    "#                       ^ (O: output 28 vec from 28 vec input)\n",
    "#                       |\n",
    "#      +-+  +-+       +--+\n",
    "#      |1|->|2|-> ... |28| time_step_size = 28\n",
    "#      +-+  +-+       +--+\n",
    "#       ^    ^    ...  ^\n",
    "#       |    |         |\n",
    "# img1:[28] [28]  ... [28]\n",
    "# img2:[28] [28]  ... [28]\n",
    "# img3:[28] [28]  ... [28]\n",
    "# ...\n",
    "# img128 or img256 (batch_size or test_size 256)\n",
    "#      each input size = input_vec_size=lstm_size=28\n",
    "\n",
    "# configuration variables\n",
    "input_vec_size = lstm_size = 28\n",
    "time_step_size = 28\n",
    "\n",
    "batch_size = 128\n",
    "test_size = 256\n",
    "\n",
    "def init_weights(shape, name):\n",
    "    return tf.Variable(tf.random_normal(shape, stddev=0.01), name=name)\n",
    "\n",
    "def model(X, W, B, lstm_size):\n",
    "    with tf.name_scope('Model'):\n",
    "        # X, input shape: (batch_size, time_step_size, input_vec_size)\n",
    "        XT = tf.transpose(X, [1, 0, 2])  # permute time_step_size and batch_size\n",
    "        # XT shape: (time_step_size, batch_size, input_vec_size)\n",
    "\n",
    "        XR = tf.reshape(XT, [-1, lstm_size]) # each row has input for each lstm cell (lstm_size=input_vec_size)\n",
    "        # XR shape: (time_step_size * batch_size, input_vec_size)\n",
    "        \"\"\"\n",
    "        X_split will contain 28 tensors of shape 'batch_size' x 28\n",
    "        So that, 1st tensor will contain 1st row (28 pixels) of 'batch_size' images\n",
    "        2nd tensor will contain 2nd row (28 pixels) of 'batch_size' images\n",
    "        ...\n",
    "        \"\"\"\n",
    "        X_split = tf.split(XR, time_step_size, 0) # split them to time_step_size (28 arrays)\n",
    "        # Each array shape: (batch_size, input_vec_size)\n",
    "\n",
    "        # Make lstm with lstm_size (each input vector size)\n",
    "        \"\"\"\n",
    "        https://www.tensorflow.org/api_docs/python/tf/contrib/rnn/BasicLSTMCell\n",
    "        BasicLSTMCell(num_units, forget_bias=1.0, state_is_tuple=True, activation=None, reuse=None)\n",
    "        The value of \"num_units\" is it up to you, too high a value may lead to overfitting\n",
    "        or a very low value may yield extremely poor results.\n",
    "        But, the shape of \"outputs\" depends on \"num_units\"\n",
    "        So, define the shape of \"weights\" accourdingly because \"outputs[-1]\" and \"weights\" will be multiplied\n",
    "        \"\"\"\n",
    "        lstm = rnn.BasicLSTMCell(lstm_size, forget_bias=1.0, state_is_tuple=True)\n",
    "\n",
    "        # Get lstm cell output, time_step_size (28) arrays with lstm_size output: (batch_size, lstm_size)\n",
    "        outputs, _states = rnn.static_rnn(lstm, X_split, dtype=tf.float32)\n",
    "\n",
    "        # Linear activation\n",
    "        # Get the last output\n",
    "#         print(\"X_split: \", X_split)\n",
    "#         print(\"outputs: \", outputs)\n",
    "        logits1 = tf.matmul(outputs[0], W) + B\n",
    "        logits2 = tf.matmul(outputs[6], W) + B\n",
    "        logits3 = tf.matmul(outputs[13], W) + B\n",
    "        logits4 = tf.matmul(outputs[20], W) + B\n",
    "        logits5 = tf.matmul(outputs[27], W) + B\n",
    "    return logits1, logits2, logits3, logits4, logits5\n",
    "\n",
    "mnist = input_data.read_data_sets(\"../../../Datasets/MNIST_data/\", one_hot=True)\n",
    "trX, trY, teX, teY = mnist.train.images, mnist.train.labels, mnist.test.images, mnist.test.labels\n",
    "# print(len(trX))\n",
    "# print(len(trX[0]))\n",
    "trX = trX.reshape(-1, 28, 28) # (55000, 28, 28)\n",
    "# print(len(trX))\n",
    "# print(len(trX[0]))\n",
    "# print(len(trX[0][0]))\n",
    "teX = teX.reshape(-1, 28, 28)"
   ]
  },
  {
   "cell_type": "raw",
   "metadata": {},
   "source": [
    "XT = tf.transpose(trX, [1, 0, 2])\n",
    "print(XT)\n",
    "XR = tf.reshape(XT, [-1, lstm_size])\n",
    "print(XR)\n",
    "X_split = tf.split(XR, time_step_size, 0)\n",
    "print(X_split)"
   ]
  },
  {
   "cell_type": "code",
   "execution_count": 3,
   "metadata": {},
   "outputs": [
    {
     "data": {
      "text/plain": [
       "<matplotlib.figure.Figure at 0x13ad27b8f28>"
      ]
     },
     "metadata": {},
     "output_type": "display_data"
    }
   ],
   "source": [
    "\"\"\"\n",
    "Prints the image\n",
    "Input: image pixels in list\n",
    "\"\"\"\n",
    "from matplotlib import pyplot as plt\n",
    "\n",
    "def print_image(image, title):\n",
    "    plt.imshow(image, cmap=plt.cm.gray)\n",
    "    plt.title(title)\n",
    "    #plt.colorbar()\n",
    "    plt.show()\n",
    "\n",
    "print_image(trX[5700], \"Original Image\")"
   ]
  },
  {
   "cell_type": "code",
   "execution_count": 4,
   "metadata": {},
   "outputs": [
    {
     "name": "stdout",
     "output_type": "stream",
     "text": [
      "W:  <tf.Variable 'Weights:0' shape=(28, 10) dtype=float32_ref>\n",
      "B:  <tf.Variable 'Bias:0' shape=(10,) dtype=float32_ref>\n",
      "logits1:  Tensor(\"Model/add:0\", shape=(?, 10), dtype=float32)\n"
     ]
    },
    {
     "data": {
      "text/plain": [
       "<tf.Tensor 'accuracy5:0' shape=() dtype=string>"
      ]
     },
     "execution_count": 4,
     "metadata": {},
     "output_type": "execute_result"
    }
   ],
   "source": [
    "X = tf.placeholder(\"float\", [None, 28, 28], name='InputData')\n",
    "Y = tf.placeholder(\"float\", [None, 10], name='LabelData')\n",
    "\n",
    "# get lstm_size and output 10 labels\n",
    "W = init_weights([lstm_size, 10], \"Weights\")\n",
    "B = init_weights([10], \"Bias\")\n",
    "print(\"W: \", W)\n",
    "print(\"B: \", B)\n",
    "\n",
    "tf.summary.histogram(\"weights\", W)\n",
    "tf.summary.histogram(\"biases\", B)\n",
    "\n",
    "#py_x, state_size = model(X, W, B, lstm_size)\n",
    "logits1, logits2, logits3, logits4, logits5 = model(X, W, B, lstm_size)\n",
    "\n",
    "print(\"logits1: \", logits1)\n",
    "\n",
    "with tf.name_scope('Loss_logits1'):\n",
    "    cost1 = tf.reduce_mean(tf.nn.softmax_cross_entropy_with_logits(logits=logits1, labels=Y))\n",
    "tf.summary.scalar(\"loss_logits1\", cost1) # Create a summary to monitor loss_op tensor\n",
    "with tf.name_scope('Loss_logits2'):\n",
    "    cost2 = tf.reduce_mean(tf.nn.softmax_cross_entropy_with_logits(logits=logits2, labels=Y))\n",
    "tf.summary.scalar(\"loss_logits2\", cost2) # Create a summary to monitor loss_op tensor\n",
    "with tf.name_scope('Loss_logits3'):\n",
    "    cost3 = tf.reduce_mean(tf.nn.softmax_cross_entropy_with_logits(logits=logits3, labels=Y))\n",
    "tf.summary.scalar(\"loss_logits3\", cost3) # Create a summary to monitor loss_op tensor\n",
    "with tf.name_scope('Loss_logits4'):\n",
    "    cost4 = tf.reduce_mean(tf.nn.softmax_cross_entropy_with_logits(logits=logits4, labels=Y))\n",
    "tf.summary.scalar(\"loss_logits4\", cost4) # Create a summary to monitor loss_op tensor\n",
    "with tf.name_scope('Loss_logits5'):\n",
    "    cost5 = tf.reduce_mean(tf.nn.softmax_cross_entropy_with_logits(logits=logits5, labels=Y))\n",
    "tf.summary.scalar(\"loss_logits5\", cost1) # Create a summary to monitor loss_op tensor\n",
    "\n",
    "train_op1 = tf.train.RMSPropOptimizer(0.001, 0.9).minimize(cost1)\n",
    "train_op2 = tf.train.RMSPropOptimizer(0.001, 0.9).minimize(cost2)\n",
    "train_op3 = tf.train.RMSPropOptimizer(0.001, 0.9).minimize(cost3)\n",
    "train_op4 = tf.train.RMSPropOptimizer(0.001, 0.9).minimize(cost4)\n",
    "train_op5 = tf.train.RMSPropOptimizer(0.001, 0.9).minimize(cost5)\n",
    "\n",
    "predict_op1 = tf.argmax(logits1, 1)\n",
    "predict_op2 = tf.argmax(logits2, 1)\n",
    "predict_op3 = tf.argmax(logits3, 1)\n",
    "predict_op4 = tf.argmax(logits4, 1)\n",
    "predict_op5 = tf.argmax(logits5, 1)\n",
    "\n",
    "prediction1 = tf.nn.softmax(logits1)\n",
    "correct_pred1 = tf.equal(tf.argmax(prediction1, 1), tf.argmax(Y, 1))\n",
    "with tf.name_scope('Accuracy1'):\n",
    "    accuracy1 = tf.reduce_mean(tf.cast(correct_pred1, tf.float32))\n",
    "tf.summary.scalar(\"accuracy1\", accuracy1) # Create a summary to monitor accuracy tensor\n",
    "\n",
    "prediction2 = tf.nn.softmax(logits2)\n",
    "correct_pred2 = tf.equal(tf.argmax(prediction2, 1), tf.argmax(Y, 1))\n",
    "with tf.name_scope('Accuracy2'):\n",
    "    accuracy2 = tf.reduce_mean(tf.cast(correct_pred2, tf.float32))\n",
    "tf.summary.scalar(\"accuracy2\", accuracy2) # Create a summary to monitor accuracy tensor\n",
    "\n",
    "prediction3 = tf.nn.softmax(logits3)\n",
    "correct_pred3 = tf.equal(tf.argmax(prediction3, 1), tf.argmax(Y, 1))\n",
    "with tf.name_scope('Accuracy3'):\n",
    "    accuracy3 = tf.reduce_mean(tf.cast(correct_pred3, tf.float32))\n",
    "tf.summary.scalar(\"accuracy3\", accuracy3) # Create a summary to monitor accuracy tensor\n",
    "\n",
    "prediction4 = tf.nn.softmax(logits4)\n",
    "correct_pred4 = tf.equal(tf.argmax(prediction4, 1), tf.argmax(Y, 1))\n",
    "with tf.name_scope('Accuracy4'):\n",
    "    accuracy4 = tf.reduce_mean(tf.cast(correct_pred4, tf.float32))\n",
    "tf.summary.scalar(\"accuracy4\", accuracy4) # Create a summary to monitor accuracy tensor\n",
    "\n",
    "prediction5 = tf.nn.softmax(logits5)\n",
    "correct_pred5 = tf.equal(tf.argmax(prediction5, 1), tf.argmax(Y, 1))\n",
    "with tf.name_scope('Accuracy5'):\n",
    "    accuracy5 = tf.reduce_mean(tf.cast(correct_pred5, tf.float32))\n",
    "tf.summary.scalar(\"accuracy5\", accuracy5) # Create a summary to monitor accuracy tensor"
   ]
  },
  {
   "cell_type": "raw",
   "metadata": {},
   "source": [
    "trX_temp, trY_temp = trX[0:batch_size], trY[0:batch_size]\n",
    "\n",
    "XT_temp = tf.transpose(trX_temp, [1, 0, 2])\n",
    "XR_temp = tf.reshape(XT_temp, [-1, lstm_size])\n",
    "X_split_temp = tf.split(XR_temp, time_step_size, 0)\n",
    "lstm_temp = rnn.BasicLSTMCell(lstm_size, forget_bias=1.0, reuse=True)\n",
    "outputs_temp, _states_temp = rnn.static_rnn(lstm_temp, X_split_temp, dtype=tf.float32)\n",
    "W_temp = init_weights([lstm_size, 10], \"Weights\")\n",
    "B_temp = init_weights([10], \"Bias\")\n",
    "py_x_temp, state_size_temp = tf.matmul(outputs_temp[-1], W_temp) + B_temp, lstm_temp.state_size\n",
    "\n",
    "print(\"py_x_temp: \", py_x_temp)"
   ]
  },
  {
   "cell_type": "code",
   "execution_count": 5,
   "metadata": {
    "collapsed": true
   },
   "outputs": [],
   "source": [
    "import shutil, os\n",
    "if os.path.exists(\"rnn_mnist_logs_2_many2many_lstm/\"):\n",
    "    shutil.rmtree(\"rnn_mnist_logs_2_many2many_lstm/\")"
   ]
  },
  {
   "cell_type": "code",
   "execution_count": 6,
   "metadata": {
    "scrolled": false
   },
   "outputs": [
    {
     "name": "stdout",
     "output_type": "stream",
     "text": [
      "epoch:  0\n",
      "predict_op1 0.125\n",
      "predict_op2 0.36328125\n",
      "predict_op3 0.62109375\n",
      "predict_op4 0.6171875\n",
      "predict_op5 0.59375\n",
      "\n",
      "epoch:  1\n",
      "predict_op1 0.10546875\n",
      "predict_op2 0.53515625\n",
      "predict_op3 0.8046875\n",
      "predict_op4 0.85546875\n",
      "predict_op5 0.8203125\n",
      "\n",
      "epoch:  2\n",
      "predict_op1 0.11328125\n",
      "predict_op2 0.53125\n",
      "predict_op3 0.8515625\n",
      "predict_op4 0.8984375\n",
      "predict_op5 0.87109375\n",
      "\n",
      "epoch:  3\n",
      "predict_op1 0.10546875\n",
      "predict_op2 0.5703125\n",
      "predict_op3 0.84765625\n",
      "predict_op4 0.921875\n",
      "predict_op5 0.91796875\n",
      "\n",
      "epoch:  4\n",
      "predict_op1 0.09765625\n",
      "predict_op2 0.58203125\n",
      "predict_op3 0.875\n",
      "predict_op4 0.9375\n",
      "predict_op5 0.91796875\n",
      "\n",
      "epoch:  5\n",
      "predict_op1 0.109375\n",
      "predict_op2 0.578125\n",
      "predict_op3 0.8359375\n",
      "predict_op4 0.91796875\n",
      "predict_op5 0.9140625\n",
      "\n",
      "epoch:  6\n",
      "predict_op1 0.10546875\n",
      "predict_op2 0.578125\n",
      "predict_op3 0.8671875\n",
      "predict_op4 0.93359375\n",
      "predict_op5 0.90625\n",
      "\n",
      "epoch:  7\n",
      "predict_op1 0.11328125\n",
      "predict_op2 0.55859375\n",
      "predict_op3 0.890625\n",
      "predict_op4 0.9296875\n",
      "predict_op5 0.94921875\n",
      "\n",
      "epoch:  8\n",
      "predict_op1 0.1484375\n",
      "predict_op2 0.59765625\n",
      "predict_op3 0.87890625\n",
      "predict_op4 0.95703125\n",
      "predict_op5 0.94140625\n",
      "\n",
      "epoch:  9\n",
      "predict_op1 0.125\n",
      "predict_op2 0.57421875\n",
      "predict_op3 0.890625\n",
      "predict_op4 0.9609375\n",
      "predict_op5 0.953125\n",
      "\n"
     ]
    }
   ],
   "source": [
    "training_epochs = 10\n",
    "\n",
    "# Launch the graph in a session\n",
    "with tf.Session() as sess:\n",
    "    # you need to initialize all variables\n",
    "    tf.global_variables_initializer().run()\n",
    "    \n",
    "    summary_op = tf.summary.merge_all() # Merge all summaries into a single op\n",
    "    summary_writer = tf.summary.FileWriter(\"rnn_mnist_logs_2_many2many_lstm/\", graph=tf.get_default_graph())\n",
    "    \n",
    "    saver = tf.train.Saver(max_to_keep=2)\n",
    "\n",
    "    for epoch in range(training_epochs):\n",
    "        for start, end in zip(range(0, len(trX), batch_size), range(batch_size, len(trX)+1, batch_size)):\n",
    "            sess.run([train_op1, train_op2, train_op3, train_op4, train_op5], feed_dict={X: trX[start:end], Y: trY[start:end]})\n",
    "            # Write logs at every iteration\n",
    "            summary_str = sess.run(summary_op, feed_dict={X: trX[start:end], Y: trY[start:end]})\n",
    "            summary_writer.add_summary(summary_str, epoch)\n",
    "            \n",
    "        # Save checkpoint\n",
    "        saver.save(sess, \"rnn_mnist_logs_2_many2many_lstm/model-checkpoint\", epoch)\n",
    "\n",
    "        test_indices = np.arange(len(teX))  # Get A Test Batch\n",
    "        np.random.shuffle(test_indices)\n",
    "        test_indices = test_indices[0:test_size]\n",
    "\n",
    "        print(\"epoch: \", epoch)\n",
    "        print(\"predict_op1\", np.mean(np.argmax(teY[test_indices], axis=1) == sess.run(predict_op1, feed_dict={X: teX[test_indices]})))\n",
    "        print(\"predict_op2\", np.mean(np.argmax(teY[test_indices], axis=1) == sess.run(predict_op2, feed_dict={X: teX[test_indices]})))\n",
    "        print(\"predict_op3\", np.mean(np.argmax(teY[test_indices], axis=1) == sess.run(predict_op3, feed_dict={X: teX[test_indices]})))\n",
    "        print(\"predict_op4\", np.mean(np.argmax(teY[test_indices], axis=1) == sess.run(predict_op4, feed_dict={X: teX[test_indices]})))\n",
    "        print(\"predict_op5\", np.mean(np.argmax(teY[test_indices], axis=1) == sess.run(predict_op5, feed_dict={X: teX[test_indices]})))\n",
    "        print(\"\")"
   ]
  },
  {
   "cell_type": "code",
   "execution_count": null,
   "metadata": {
    "collapsed": true
   },
   "outputs": [],
   "source": []
  },
  {
   "cell_type": "code",
   "execution_count": 216,
   "metadata": {},
   "outputs": [
    {
     "name": "stdout",
     "output_type": "stream",
     "text": [
      "(10000, 28, 28)\n",
      "[   0    1    2 ... 9997 9998 9999]\n",
      "(10000,)\n",
      "[5505 9842 9402 ... 3068 8257 3582]\n",
      "(10000,)\n",
      "5505\n",
      "(256,)\n"
     ]
    }
   ],
   "source": [
    "print(teX.shape)\n",
    "test_indices = np.arange(len(teX))  # Get A Test Batch\n",
    "print(test_indices)\n",
    "print(test_indices.shape)\n",
    "np.random.shuffle(test_indices)\n",
    "print(test_indices)\n",
    "print(test_indices.shape)\n",
    "test_indices = test_indices[0:test_size]\n",
    "print(test_indices[0])\n",
    "print(test_indices.shape)"
   ]
  },
  {
   "cell_type": "raw",
   "metadata": {},
   "source": [
    "Interesting cases:\n",
    "8374:\n",
    "Bottom blank\n",
    "predict_op1 0.0\n",
    "predict_op2 1.0\n",
    "predict_op3 0.0\n",
    "predict_op4 0.0\n",
    "predict_op5 0.0\n"
   ]
  },
  {
   "cell_type": "code",
   "execution_count": 217,
   "metadata": {},
   "outputs": [
    {
     "name": "stdout",
     "output_type": "stream",
     "text": [
      "(1, 28, 28)\n"
     ]
    },
    {
     "data": {
      "image/png": "[encoded data removed]",
      "text/plain": [
       "<matplotlib.figure.Figure at 0x13b7f81b390>"
      ]
     },
     "metadata": {},
     "output_type": "display_data"
    },
    {
     "name": "stdout",
     "output_type": "stream",
     "text": [
      "0\n"
     ]
    }
   ],
   "source": [
    "uncorrupted = []\n",
    "#uncorrupted.append(teX[test_indices[0]])\n",
    "\n",
    "teX_index = test_indices[0]\n",
    "\n",
    "# use any index less than 10,000: 5505(0), 7183(1), 1984(2), 200(3), 7494(4), 2515(5), 2721(6), *2808(7), 4218(8), 104(9)\n",
    "# teX_index = 1984\n",
    "\n",
    "uncorrupted.append(teX[teX_index])\n",
    "uncorrupted = np.array(uncorrupted)\n",
    "print(uncorrupted.shape)\n",
    "\n",
    "print_image(uncorrupted[0], \"Original Image\")\n",
    "print(np.argmax(teY[teX_index]))"
   ]
  },
  {
   "cell_type": "code",
   "execution_count": 218,
   "metadata": {},
   "outputs": [
    {
     "name": "stdout",
     "output_type": "stream",
     "text": [
      "(1, 28, 28)\n"
     ]
    },
    {
     "data": {
      "image/png": "[encoded data removed]",
      "text/plain": [
       "<matplotlib.figure.Figure at 0x13ae030a710>"
      ]
     },
     "metadata": {},
     "output_type": "display_data"
    }
   ],
   "source": [
    "import copy\n",
    "\n",
    "test_image_top0 = copy.deepcopy(teX[teX_index])\n",
    "\n",
    "test_image_top0[0:13] = 0\n",
    "\n",
    "a = []\n",
    "a.append(test_image_top0)\n",
    "a = np.array(a)\n",
    "print(a.shape)\n",
    "\n",
    "print_image(a[0], \"Original Image\")"
   ]
  },
  {
   "cell_type": "code",
   "execution_count": 219,
   "metadata": {},
   "outputs": [
    {
     "name": "stdout",
     "output_type": "stream",
     "text": [
      "(1, 28, 28)\n"
     ]
    },
    {
     "data": {
      "image/png": "[encoded data removed]",
      "text/plain": [
       "<matplotlib.figure.Figure at 0x13b7f72ba58>"
      ]
     },
     "metadata": {},
     "output_type": "display_data"
    }
   ],
   "source": [
    "test_image_bottom0 = copy.deepcopy(teX[teX_index])\n",
    "\n",
    "test_image_bottom0[13:28] = 0\n",
    "\n",
    "b = []\n",
    "b.append(test_image_bottom0)\n",
    "b = np.array(b)\n",
    "print(b.shape)\n",
    "\n",
    "print_image(b[0], \"Original Image\")"
   ]
  },
  {
   "cell_type": "code",
   "execution_count": 220,
   "metadata": {},
   "outputs": [
    {
     "name": "stdout",
     "output_type": "stream",
     "text": [
      "INFO:tensorflow:Restoring parameters from rnn_mnist_logs_2_many2many_lstm\\model-checkpoint-9\n",
      "predict_op1 0.0\n",
      "predict_op2 1.0\n",
      "predict_op3 1.0\n",
      "predict_op4 1.0\n",
      "predict_op5 1.0\n",
      "\n",
      "Top blank\n",
      "predict_op1 0.0\n",
      "predict_op2 0.0\n",
      "predict_op3 0.0\n",
      "predict_op4 0.0\n",
      "predict_op5 0.0\n",
      "\n",
      "Bottom blank\n",
      "predict_op1 0.0\n",
      "predict_op2 1.0\n",
      "predict_op3 1.0\n",
      "predict_op4 1.0\n",
      "predict_op5 0.0\n"
     ]
    }
   ],
   "source": [
    "# graph = tf.Graph()\n",
    "\n",
    "# with graph.as_default():\n",
    "#     saver = tf.train.Saver()\n",
    "    \n",
    "with tf.Session() as sess:\n",
    "    # Restore\n",
    "    saver.restore(sess, tf.train.latest_checkpoint(\"rnn_mnist_logs_2_many2many_lstm\"))\n",
    "    \n",
    "    print(\"predict_op1\", np.mean(np.argmax(teY[test_indices[0]], axis=0) == sess.run(predict_op1, feed_dict={X: uncorrupted})))\n",
    "    print(\"predict_op2\", np.mean(np.argmax(teY[test_indices[0]], axis=0) == sess.run(predict_op2, feed_dict={X: uncorrupted})))\n",
    "    print(\"predict_op3\", np.mean(np.argmax(teY[test_indices[0]], axis=0) == sess.run(predict_op3, feed_dict={X: uncorrupted})))\n",
    "    print(\"predict_op4\", np.mean(np.argmax(teY[test_indices[0]], axis=0) == sess.run(predict_op4, feed_dict={X: uncorrupted})))\n",
    "    print(\"predict_op5\", np.mean(np.argmax(teY[test_indices[0]], axis=0) == sess.run(predict_op5, feed_dict={X: uncorrupted})))\n",
    "    print(\"\")\n",
    "    print(\"Top blank\")\n",
    "    print(\"predict_op1\", np.mean(np.argmax(teY[test_indices[0]], axis=0) == sess.run(predict_op1, feed_dict={X: a})))\n",
    "    print(\"predict_op2\", np.mean(np.argmax(teY[test_indices[0]], axis=0) == sess.run(predict_op2, feed_dict={X: a})))\n",
    "    print(\"predict_op3\", np.mean(np.argmax(teY[test_indices[0]], axis=0) == sess.run(predict_op3, feed_dict={X: a})))\n",
    "    print(\"predict_op4\", np.mean(np.argmax(teY[test_indices[0]], axis=0) == sess.run(predict_op4, feed_dict={X: a})))\n",
    "    print(\"predict_op5\", np.mean(np.argmax(teY[test_indices[0]], axis=0) == sess.run(predict_op5, feed_dict={X: a})))\n",
    "    print()\n",
    "    print(\"Bottom blank\")\n",
    "    print(\"predict_op1\", np.mean(np.argmax(teY[test_indices[0]], axis=0) == sess.run(predict_op1, feed_dict={X: b})))\n",
    "    print(\"predict_op2\", np.mean(np.argmax(teY[test_indices[0]], axis=0) == sess.run(predict_op2, feed_dict={X: b})))\n",
    "    print(\"predict_op3\", np.mean(np.argmax(teY[test_indices[0]], axis=0) == sess.run(predict_op3, feed_dict={X: b})))\n",
    "    print(\"predict_op4\", np.mean(np.argmax(teY[test_indices[0]], axis=0) == sess.run(predict_op4, feed_dict={X: b})))\n",
    "    print(\"predict_op5\", np.mean(np.argmax(teY[test_indices[0]], axis=0) == sess.run(predict_op5, feed_dict={X: b})))"
   ]
  },
  {
   "cell_type": "code",
   "execution_count": null,
   "metadata": {
    "collapsed": true
   },
   "outputs": [],
   "source": []
  }
 ],
 "metadata": {
  "kernelspec": {
   "display_name": "Python 3",
   "language": "python",
   "name": "python3"
  },
  "language_info": {
   "codemirror_mode": {
    "name": "ipython",
    "version": 3
   },
   "file_extension": ".py",
   "mimetype": "text/x-python",
   "name": "python",
   "nbconvert_exporter": "python",
   "pygments_lexer": "ipython3",
   "version": "3.5.4"
  }
 },
 "nbformat": 4,
 "nbformat_minor": 1
}
