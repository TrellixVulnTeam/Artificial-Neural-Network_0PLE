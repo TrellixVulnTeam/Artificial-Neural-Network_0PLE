{
 "cells": [
  {
   "cell_type": "code",
   "execution_count": 1,
   "metadata": {},
   "outputs": [],
   "source": [
    "import numpy as np\n",
    "import tensorflow as tf\n",
    "from tensorflow.contrib.slim import fully_connected as fc\n",
    "import matplotlib.pyplot as plt \n",
    "%matplotlib inline"
   ]
  },
  {
   "cell_type": "code",
   "execution_count": 2,
   "metadata": {},
   "outputs": [
    {
     "name": "stdout",
     "output_type": "stream",
     "text": [
      "WARNING:tensorflow:From <ipython-input-2-256dd83f581b>:3: read_data_sets (from tensorflow.contrib.learn.python.learn.datasets.mnist) is deprecated and will be removed in a future version.\n",
      "Instructions for updating:\n",
      "Please use alternatives such as official/mnist/dataset.py from tensorflow/models.\n",
      "WARNING:tensorflow:From c:\\anaconda2\\envs\\py3\\lib\\site-packages\\tensorflow\\contrib\\learn\\python\\learn\\datasets\\mnist.py:260: maybe_download (from tensorflow.contrib.learn.python.learn.datasets.base) is deprecated and will be removed in a future version.\n",
      "Instructions for updating:\n",
      "Please write your own downloading logic.\n",
      "WARNING:tensorflow:From c:\\anaconda2\\envs\\py3\\lib\\site-packages\\tensorflow\\contrib\\learn\\python\\learn\\datasets\\mnist.py:262: extract_images (from tensorflow.contrib.learn.python.learn.datasets.mnist) is deprecated and will be removed in a future version.\n",
      "Instructions for updating:\n",
      "Please use tf.data to implement this functionality.\n",
      "Extracting ../../../../Datasets/MNIST_data/train-images-idx3-ubyte.gz\n",
      "WARNING:tensorflow:From c:\\anaconda2\\envs\\py3\\lib\\site-packages\\tensorflow\\contrib\\learn\\python\\learn\\datasets\\mnist.py:267: extract_labels (from tensorflow.contrib.learn.python.learn.datasets.mnist) is deprecated and will be removed in a future version.\n",
      "Instructions for updating:\n",
      "Please use tf.data to implement this functionality.\n",
      "Extracting ../../../../Datasets/MNIST_data/train-labels-idx1-ubyte.gz\n",
      "WARNING:tensorflow:From c:\\anaconda2\\envs\\py3\\lib\\site-packages\\tensorflow\\contrib\\learn\\python\\learn\\datasets\\mnist.py:110: dense_to_one_hot (from tensorflow.contrib.learn.python.learn.datasets.mnist) is deprecated and will be removed in a future version.\n",
      "Instructions for updating:\n",
      "Please use tf.one_hot on tensors.\n",
      "Extracting ../../../../Datasets/MNIST_data/t10k-images-idx3-ubyte.gz\n",
      "Extracting ../../../../Datasets/MNIST_data/t10k-labels-idx1-ubyte.gz\n",
      "WARNING:tensorflow:From c:\\anaconda2\\envs\\py3\\lib\\site-packages\\tensorflow\\contrib\\learn\\python\\learn\\datasets\\mnist.py:290: DataSet.__init__ (from tensorflow.contrib.learn.python.learn.datasets.mnist) is deprecated and will be removed in a future version.\n",
      "Instructions for updating:\n",
      "Please use alternatives such as official/mnist/dataset.py from tensorflow/models.\n"
     ]
    }
   ],
   "source": [
    "# Import MNIST data\n",
    "from tensorflow.examples.tutorials.mnist import input_data\n",
    "mnist = input_data.read_data_sets(\"../../../../Datasets/MNIST_data/\", one_hot=True)"
   ]
  },
  {
   "cell_type": "code",
   "execution_count": 3,
   "metadata": {},
   "outputs": [],
   "source": [
    "# Hyper-Parameters\n",
    "TRAINING_EPOCHS = 1000\n",
    "LEARNING_RATE = 0.0001\n",
    "CODE_VECTOR = 10\n",
    "HIDDEN_LAYER_UNITS = [512, 384, 256]\n",
    "ACTIVATION_FUNCTION = tf.nn.elu  # tf.nn.selu\n",
    "num_of_features = mnist.train.images[0].shape[0]"
   ]
  },
  {
   "cell_type": "code",
   "execution_count": 4,
   "metadata": {},
   "outputs": [],
   "source": [
    "class EncoderDecoderNetwork_VAE:\n",
    "    def __init__(\n",
    "            self,\n",
    "            input_channels,\n",
    "            output_channels,\n",
    "            hidden_layer_sizes=[1000, 500, 250],\n",
    "            n_dims_code=125,\n",
    "            learning_rate=0.001,\n",
    "            activation_fn=tf.nn.elu,\n",
    "            training_epochs=1000,\n",
    "    ):\n",
    "        \"\"\"\n",
    "        Implement an encoder decoder network and train it\n",
    "\n",
    "        :param input_channels: number of source robot features\n",
    "        :param output_channels: number of target robot features\n",
    "        :param hidden_layer_sizes: units in hidden layers\n",
    "        :param n_dims_code: code vector length\n",
    "        :param learning_rate: learning rate\n",
    "        :param activation_fn: activation function\n",
    "        \"\"\"\n",
    "        self.input_channels = input_channels\n",
    "        self.output_channels = output_channels\n",
    "        self.hidden_layer_sizes = hidden_layer_sizes\n",
    "        self.n_dims_code = n_dims_code\n",
    "        self.learning_rate = learning_rate\n",
    "        self.activation_fn = activation_fn\n",
    "        self.training_epochs = training_epochs\n",
    "\n",
    "        self.X = tf.placeholder(\"float\", [None, self.input_channels], name='InputData')\n",
    "        self.Y = tf.placeholder(\"float\", [None, self.output_channels], name='OutputData')\n",
    "\n",
    "        self.code_prediction, self.z_mu, self.z_log_sigma_sq = self.encoder()\n",
    "        self.output = self.decoder(self.code_prediction)\n",
    "\n",
    "        # Define loss\n",
    "        with tf.name_scope('Loss'):\n",
    "            # shaohua0116_demo\n",
    "            # Not working: nans in loss\n",
    "            epsilon = 1e-10\n",
    "            recon_loss = -tf.reduce_sum(self.Y * tf.log(epsilon+self.output) + (1-self.Y) * tf.log(epsilon+1-self.output), axis=1)\n",
    "            self.cost = tf.reduce_mean(recon_loss)\n",
    "\n",
    "            # Latent loss\n",
    "            # Kullback Leibler divergence: measure the difference between two distributions\n",
    "            # Here we measure the divergence between the latent distribution and N(0, 1)\n",
    "            self.latent_loss = -0.5 * tf.reduce_sum(1 + self.z_log_sigma_sq - tf.square(self.z_mu) - tf.exp(self.z_log_sigma_sq), axis=1)\n",
    "            #print(\"latent_loss: \", self.latent_loss)\n",
    "            self.latent_loss = tf.reduce_mean(self.latent_loss)\n",
    "            #print(\"latent_loss: \", self.latent_loss)\n",
    "\n",
    "            self.cost = tf.reduce_mean(self.cost + self.latent_loss)\n",
    "            #print(\"cost: \", self.cost)\n",
    "\n",
    "        # Define optimizer\n",
    "        with tf.name_scope('Optimizer'):\n",
    "            self.train_op = tf.train.AdamOptimizer(learning_rate=self.learning_rate).minimize(self.cost)\n",
    "\n",
    "        # 'Saver' op to save and restore all the variables\n",
    "        self.saver = tf.train.Saver(max_to_keep=1)\n",
    "\n",
    "        # Create a summary to monitor cost tensor\n",
    "        tf.summary.scalar(\"loss\", self.cost)\n",
    "\n",
    "        # Merge all summaries into a single op\n",
    "        self.merged_summary_op = tf.summary.merge_all()\n",
    "\n",
    "        # Initializing the variables\n",
    "        self.sess = tf.Session()  # tf.InteractiveSession()\n",
    "        self.sess.run(tf.global_variables_initializer())\n",
    "\n",
    "    def encoder(self):\n",
    "        with tf.name_scope('Encoder'):\n",
    "            for i in range(1, len(self.hidden_layer_sizes)+1):\n",
    "                if i == 1:\n",
    "                    net = fc(self.X, self.hidden_layer_sizes[i-1], scope=\"encoder_\"+str(i), activation_fn=self.activation_fn)\n",
    "                else:\n",
    "                    net = fc(net, self.hidden_layer_sizes[i-1], scope=\"encoder_\"+str(i), activation_fn=self.activation_fn)\n",
    "            z_mu = fc(net, self.n_dims_code, scope='z_mu', activation_fn=None)\n",
    "            z_log_sigma_sq = fc(net, self.n_dims_code, scope='z_log_sigma_sq', activation_fn=None)\n",
    "            eps = tf.random_normal(shape=tf.shape(z_log_sigma_sq), mean=0, stddev=1, dtype=tf.float32)\n",
    "            z = z_mu + tf.sqrt(tf.exp(z_log_sigma_sq)) * eps # The reparameterization trick\n",
    "        return z, z_mu, z_log_sigma_sq\n",
    "\n",
    "    def decoder(self, net):\n",
    "        with tf.name_scope('Decoder'):\n",
    "            for i in range(len(self.hidden_layer_sizes), 0, -1):\n",
    "                net = fc(net, self.hidden_layer_sizes[i-1], scope=\"decoder_\"+str(i), activation_fn=self.activation_fn)\n",
    "            net = fc(net, self.output_channels, scope='decoder_final', activation_fn=tf.sigmoid)\n",
    "        return net\n",
    "\n",
    "    def train_session(self, x_data, y_data, logs_path):\n",
    "        \"\"\"\n",
    "        Train using provided data\n",
    "\n",
    "        :param x_data: source robot features\n",
    "        :param y_data: target robot features\n",
    "        :param logs_path: log path\n",
    "\n",
    "        :return: cost over training\n",
    "        \"\"\"\n",
    "\n",
    "        x_data = x_data.reshape(-1, self.input_channels)\n",
    "        y_data = y_data.reshape(-1, self.output_channels)\n",
    "\n",
    "        # Write logs to Tensorboard\n",
    "        if logs_path is not None:\n",
    "            summary_writer = tf.summary.FileWriter(logs_path, graph=tf.get_default_graph())\n",
    "\n",
    "        cost_log = []\n",
    "        # Start Training\n",
    "        for epoch in range(self.training_epochs):\n",
    "            # Run optimization op (backprop), cost op (to get loss value)\n",
    "            _, c = self.sess.run([self.train_op, self.cost], feed_dict={self.X: x_data, self.Y: y_data})\n",
    "\n",
    "            cost_log.append(c)\n",
    "\n",
    "            # Print generated data after every 100 epoch\n",
    "            # if (epoch + 1) % 100 == 0:\n",
    "            #     print(\"Epoch:\", '%04d' % (epoch+1), \"cost =\", \"{:.9f}\".format(c))\n",
    "            #     generated_output = self.sess.run(self.output, feed_dict={self.X: x_data})\n",
    "            #     print(\"Generated: \")\n",
    "            #     print(list(generated_output[0]))\n",
    "            #     print(\"Original: \")\n",
    "            #     print(list(y_data[0]))\n",
    "\n",
    "            # Write logs at every iteration\n",
    "            if logs_path is not None:\n",
    "                summary = self.sess.run(self.merged_summary_op, feed_dict={self.X: x_data, self.Y: y_data})\n",
    "                summary_writer.add_summary(summary, epoch)\n",
    "\n",
    "        return cost_log\n",
    "\n",
    "    def generate_code(self, x_data):\n",
    "        \"\"\"\n",
    "        Generate target robot data using source robot data\n",
    "\n",
    "        :param x_data: source robot data\n",
    "\n",
    "        :return: generated target robot data\n",
    "        \"\"\"\n",
    "\n",
    "        x_data = x_data.reshape(-1, self.input_channels)\n",
    "        generated_code = self.sess.run(self.code_prediction, feed_dict={self.X: x_data})\n",
    "\n",
    "        return generated_code\n",
    "\n",
    "    def generate(self, x_data):\n",
    "        \"\"\"\n",
    "        Reconstruct input by passing through encoder and decoder\n",
    "\n",
    "        :param x_data: input data\n",
    "\n",
    "        :return: generated input data\n",
    "        \"\"\"\n",
    "\n",
    "        x_data = x_data.reshape(-1, self.input_channels)\n",
    "        generated_output = self.sess.run(self.output, feed_dict={self.X: x_data})\n",
    "\n",
    "        return generated_output\n",
    "\n",
    "    def rmse_loss(self, x_data, y_data):\n",
    "        \"\"\"\n",
    "        Return the Root mean square error\n",
    "\n",
    "        :param x_data:\n",
    "        :param y_data:\n",
    "\n",
    "        :return:\n",
    "        \"\"\"\n",
    "        loss = tf.sqrt(tf.reduce_mean(tf.square(tf.subtract(x_data, y_data))))\n",
    "        loss = self.sess.run(loss)\n",
    "\n",
    "        #np_loss = np.sqrt(np.mean(np.square(np.subtract(x_data, y_data))))\n",
    "\n",
    "        return loss"
   ]
  },
  {
   "cell_type": "code",
   "execution_count": 5,
   "metadata": {},
   "outputs": [],
   "source": [
    "edn = EncoderDecoderNetwork_VAE(input_channels=num_of_features,\n",
    "                            output_channels=num_of_features,\n",
    "                            hidden_layer_sizes=HIDDEN_LAYER_UNITS,\n",
    "                            n_dims_code=CODE_VECTOR,\n",
    "                            learning_rate=LEARNING_RATE,\n",
    "                            activation_fn=ACTIVATION_FUNCTION,\n",
    "                            training_epochs=TRAINING_EPOCHS)"
   ]
  },
  {
   "cell_type": "code",
   "execution_count": 6,
   "metadata": {},
   "outputs": [
    {
     "name": "stdout",
     "output_type": "stream",
     "text": [
      "train_data:  (55000, 784)\n",
      "train_labels:  (55000, 10)\n",
      "test_data:  (10000, 784)\n",
      "test_labels:  (10000, 10)\n"
     ]
    }
   ],
   "source": [
    "train_data = mnist.train.images\n",
    "train_labels = np.asarray(mnist.train.labels, dtype=np.int32)\n",
    "test_data = mnist.test.images\n",
    "test_labels = np.asarray(mnist.test.labels, dtype=np.int32)\n",
    "\n",
    "print(\"train_data: \", train_data.shape)\n",
    "print(\"train_labels: \", train_labels.shape)\n",
    "print(\"test_data: \", test_data.shape)\n",
    "print(\"test_labels: \", test_labels.shape)"
   ]
  },
  {
   "cell_type": "code",
   "execution_count": 7,
   "metadata": {},
   "outputs": [],
   "source": [
    "no_of_examples = 5000\n",
    "index = np.random.randint(low=0, high=55000, size=no_of_examples)\n",
    "cost_log = edn.train_session(train_data[index, :], train_data[index, :], None)"
   ]
  },
  {
   "cell_type": "code",
   "execution_count": 8,
   "metadata": {},
   "outputs": [
    {
     "data": {
      "image/png": "[encoded data removed]",
      "text/plain": [
       "<Figure size 432x288 with 1 Axes>"
      ]
     },
     "metadata": {
      "needs_background": "light"
     },
     "output_type": "display_data"
    }
   ],
   "source": [
    "plt.plot(range(1, len(cost_log)+1), cost_log)\n",
    "plt.show()"
   ]
  },
  {
   "cell_type": "code",
   "execution_count": 9,
   "metadata": {},
   "outputs": [
    {
     "name": "stdout",
     "output_type": "stream",
     "text": [
      "Original Images\n"
     ]
    },
    {
     "data": {
      "image/png": "[encoded data removed]",
      "text/plain": [
       "<Figure size 360x360 with 1 Axes>"
      ]
     },
     "metadata": {
      "needs_background": "light"
     },
     "output_type": "display_data"
    },
    {
     "name": "stdout",
     "output_type": "stream",
     "text": [
      "Reconstructed Images\n"
     ]
    },
    {
     "data": {
      "image/png": "[encoded data removed]",
      "text/plain": [
       "<Figure size 360x360 with 1 Axes>"
      ]
     },
     "metadata": {
      "needs_background": "light"
     },
     "output_type": "display_data"
    }
   ],
   "source": [
    "# Testing\n",
    "# Encode and decode images from test set and visualize their reconstruction.\n",
    "n = 5\n",
    "canvas_orig = np.empty((28 * n, 28 * n))\n",
    "canvas_recon = np.empty((28 * n, 28 * n))\n",
    "for i in range(n):\n",
    "    # MNIST test set\n",
    "    batch_x, _ = mnist.test.next_batch(n)\n",
    "    # Encode and decode the digit image\n",
    "    g = edn.generate(batch_x)\n",
    "    \n",
    "    # Display original images\n",
    "    for j in range(n):\n",
    "        # Draw the generated digits\n",
    "        canvas_orig[i * 28:(i + 1) * 28, j * 28:(j + 1) * 28] = batch_x[j].reshape([28, 28])\n",
    "    # Display reconstructed images\n",
    "    for j in range(n):\n",
    "        # Draw the generated digits\n",
    "        canvas_recon[i * 28:(i + 1) * 28, j * 28:(j + 1) * 28] = g[j].reshape([28, 28])\n",
    "\n",
    "print(\"Original Images\")     \n",
    "plt.figure(figsize=(n, n))\n",
    "plt.imshow(canvas_orig, origin=\"upper\", cmap=\"gray\")\n",
    "plt.show()\n",
    "\n",
    "print(\"Reconstructed Images\")\n",
    "plt.figure(figsize=(n, n))\n",
    "plt.imshow(canvas_recon, origin=\"upper\", cmap=\"gray\")\n",
    "plt.show()"
   ]
  },
  {
   "cell_type": "code",
   "execution_count": null,
   "metadata": {},
   "outputs": [],
   "source": []
  },
  {
   "cell_type": "code",
   "execution_count": null,
   "metadata": {},
   "outputs": [],
   "source": []
  },
  {
   "cell_type": "code",
   "execution_count": null,
   "metadata": {},
   "outputs": [],
   "source": []
  }
 ],
 "metadata": {
  "kernelspec": {
   "display_name": "Python 3",
   "language": "python",
   "name": "python3"
  },
  "language_info": {
   "codemirror_mode": {
    "name": "ipython",
    "version": 3
   },
   "file_extension": ".py",
   "mimetype": "text/x-python",
   "name": "python",
   "nbconvert_exporter": "python",
   "pygments_lexer": "ipython3",
   "version": "3.5.6"
  }
 },
 "nbformat": 4,
 "nbformat_minor": 2
}
