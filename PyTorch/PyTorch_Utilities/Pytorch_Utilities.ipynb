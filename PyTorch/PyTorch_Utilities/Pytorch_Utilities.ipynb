{
 "cells": [
  {
   "cell_type": "code",
   "execution_count": null,
   "id": "21fd309a",
   "metadata": {},
   "outputs": [],
   "source": []
  },
  {
   "cell_type": "code",
   "execution_count": 7,
   "id": "6b70a1fb",
   "metadata": {},
   "outputs": [],
   "source": [
    "import subprocess\n",
    "import numpy as np\n",
    "\n",
    "def get_gpu_memory_map(max_memory_used_percent=0.8):\n",
    "    \"\"\"Get the current gpu usage if used memory is less than max_memory_used_percent\n",
    "\n",
    "    Returns\n",
    "    -------\n",
    "    usage: dict\n",
    "        Keys are device ids as integers.\n",
    "        Values are memory usage as integers in MB.\n",
    "    \"\"\"\n",
    "    memory_used = subprocess.check_output(\n",
    "        [\n",
    "            'nvidia-smi', '--query-gpu=memory.used',\n",
    "            '--format=csv,nounits,noheader'\n",
    "        ], encoding='utf-8')\n",
    "    memory_total = subprocess.check_output(\n",
    "        [\n",
    "            'nvidia-smi', '--query-gpu=memory.total',\n",
    "            '--format=csv,nounits,noheader'\n",
    "        ], encoding='utf-8')\n",
    "    memory_used = np.array([int(x) for x in memory_used.strip().split('\\n')])\n",
    "    memory_total = np.array([int(x) for x in memory_total.strip().split('\\n')])\n",
    "\n",
    "    memory_used_percent = memory_used/memory_total\n",
    "\n",
    "    gpu_memory_map = {}\n",
    "    for gpu_id in range(len(memory_used)):\n",
    "        if memory_used_percent[gpu_id] < max_memory_used_percent:\n",
    "            gpu_memory_map[gpu_id] = memory_used[gpu_id]\n",
    "\n",
    "    return gpu_memory_map"
   ]
  },
  {
   "cell_type": "code",
   "execution_count": 8,
   "id": "c7f9f69b",
   "metadata": {},
   "outputs": [
    {
     "data": {
      "text/plain": [
       "{0: 1095}"
      ]
     },
     "execution_count": 8,
     "metadata": {},
     "output_type": "execute_result"
    }
   ],
   "source": [
    "get_gpu_memory_map()"
   ]
  },
  {
   "cell_type": "code",
   "execution_count": null,
   "id": "cfd28396",
   "metadata": {},
   "outputs": [],
   "source": []
  }
 ],
 "metadata": {
  "kernelspec": {
   "display_name": "Python 3",
   "language": "python",
   "name": "python3"
  },
  "language_info": {
   "codemirror_mode": {
    "name": "ipython",
    "version": 3
   },
   "file_extension": ".py",
   "mimetype": "text/x-python",
   "name": "python",
   "nbconvert_exporter": "python",
   "pygments_lexer": "ipython3",
   "version": "3.6.13"
  }
 },
 "nbformat": 4,
 "nbformat_minor": 5
}
