{
 "cells": [
  {
   "cell_type": "code",
   "execution_count": 1,
   "metadata": {},
   "outputs": [],
   "source": [
    "import tensorflow as tf"
   ]
  },
  {
   "cell_type": "code",
   "execution_count": 2,
   "metadata": {},
   "outputs": [],
   "source": [
    "output = [[2., 2., 3.]]\n",
    "target = [[2., 3., 4.]]\n",
    "\n",
    "# output = [[2., 3., 4.]]\n",
    "# target = [[2., 3., 4.]]\n",
    "\n",
    "sess = tf.InteractiveSession()# tf.Session()"
   ]
  },
  {
   "cell_type": "markdown",
   "metadata": {},
   "source": [
    "# Root-mean-square error (RMSE)\n",
    "\n",
    "https://stackoverflow.com/questions/33846069/how-to-set-rmse-cost-function-in-tensorflow\n",
    "\n",
    "\\begin{align}\n",
    "RMSE= \\sqrt{\\frac{\\sum_{i=1}^n (\\hat{y_i}-y_i)^2}{n}}\n",
    "\\end{align}"
   ]
  },
  {
   "cell_type": "code",
   "execution_count": 3,
   "metadata": {},
   "outputs": [
    {
     "name": "stdout",
     "output_type": "stream",
     "text": [
      "rmse:  0.8164966\n"
     ]
    }
   ],
   "source": [
    "rmse = tf.sqrt(tf.reduce_mean(tf.square(tf.subtract(output, target))))\n",
    "print(\"rmse: \", sess.run(rmse))"
   ]
  },
  {
   "cell_type": "markdown",
   "metadata": {},
   "source": [
    "# Softmax cross entropy\n",
    "https://www.tensorflow.org/api_docs/python/tf/nn/softmax_cross_entropy_with_logits_v2\n",
    "\n",
    "Measures the probability error in discrete classification tasks in which the classes are mutually exclusive (each entry is in exactly one class).\n",
    "For example, each CIFAR-10 image is labeled with one and only one label: an image can be a dog or a truck, but not both."
   ]
  },
  {
   "cell_type": "code",
   "execution_count": 5,
   "metadata": {},
   "outputs": [
    {
     "name": "stdout",
     "output_type": "stream",
     "text": [
      "loss:  0.55144465\n"
     ]
    }
   ],
   "source": [
    "output = [[.5, .25, .25]]\n",
    "target = [[1., 0, 0]]\n",
    "\n",
    "# output = [[1., 0, 0]]\n",
    "# target = [[1., 0, 0]]\n",
    "\n",
    "loss = tf.reduce_mean(tf.nn.softmax_cross_entropy_with_logits_v2(labels=target, logits=output), name =\"softmax_cross_entropy\")\n",
    "print(\"loss: \", sess.run(loss))\n"
   ]
  },
  {
   "cell_type": "code",
   "execution_count": null,
   "metadata": {},
   "outputs": [],
   "source": []
  }
 ],
 "metadata": {
  "kernelspec": {
   "display_name": "Python 3",
   "language": "python",
   "name": "python3"
  },
  "language_info": {
   "codemirror_mode": {
    "name": "ipython",
    "version": 3
   },
   "file_extension": ".py",
   "mimetype": "text/x-python",
   "name": "python",
   "nbconvert_exporter": "python",
   "pygments_lexer": "ipython3",
   "version": "3.5.6"
  }
 },
 "nbformat": 4,
 "nbformat_minor": 2
}
